{
 "cells": [
  {
   "cell_type": "markdown",
   "metadata": {},
   "source": [
    "# Data Science Aplicada à Área de Saúde"
   ]
  },
  {
   "cell_type": "markdown",
   "metadata": {},
   "source": [
    "## Modelagem Preditiva em Registros Eletrônicos de Saúde"
   ]
  },
  {
   "cell_type": "markdown",
   "metadata": {},
   "source": [
    "Nosso objetivo neste projeto será prever se um paciente poderá ser readmitido em uma clínica no período de 30 dias após alta. Para isso, faremos a construção de diversos modelos preditivos usando registros eletrônicos de saúde de uma clínica fictícia.\n",
    "\n",
    "Esse projeto terá como base uma pesquisa realizada em 2018, chamada:\n",
    "\n",
    "Using Electronic Health Records and Machine Learning to Make Medical-Related Predictions from Non-Medical Data\n",
    "\n",
    "https://ieeexplore.ieee.org/document/8614004"
   ]
  },
  {
   "cell_type": "markdown",
   "metadata": {},
   "source": [
    "## Modelagem Preditiva"
   ]
  },
  {
   "cell_type": "markdown",
   "metadata": {},
   "source": [
    "A modelagem preditiva emprega Matemática, Estatística e Programação para prever resultados. \n",
    "\n",
    "Na maioria das vezes, o evento que se deseja prever está no futuro, mas a modelagem preditiva pode ser aplicada a qualquer tipo de evento desconhecido, independentemente de quando ele ocorreu. Por exemplo, modelos preditivos são frequentemente usados para detectar crimes e identificar suspeitos, depois que o crime ocorreu.\n",
    "\n",
    "Em muitos casos, o modelo é escolhido com base na teoria de detecção para tentar adivinhar a probabilidade de um resultado, dada uma quantidade definida de dados de entrada. Os modelos podem usar um ou mais classificadores na tentativa de determinar a probabilidade de um registro (observação) de dados pertencer a uma classe ou outra. Por exemplo, um modelo pode ser usado para determinar se um email é spam ou não spam. Ou podemos usar regressão para prever valores numéricos, como o valor de vendas no próximo período ou o custo médico com base em um novo tipo de tratamento.\n",
    "\n",
    "Dependendo dos limites de definição, modelagem preditiva é sinônimo ou amplamente sobreposto ao campo de aprendizado de máquina (Machine Learning), como é mais comumente referido em contextos acadêmicos ou de pesquisa e desenvolvimento. Quando implantada comercialmente, a modelagem preditiva geralmente é chamada de análise preditiva.\n",
    "\n",
    "A modelagem preditiva geralmente é contrastada com a modelagem / análise causal. No primeiro, pode-se ficar totalmente satisfeito em utilizar indicadores ou variáveis explicativas para o prever resultado de interesse. Neste último, procura-se determinar verdadeiras relações de causa e efeito. Essa distinção deu origem a uma literatura crescente nos campos de métodos e estatísticas de pesquisa e à afirmação comum de que \"a correlação não implica causalidade\"."
   ]
  },
  {
   "cell_type": "markdown",
   "metadata": {},
   "source": [
    "### Registros Eletrônicos de Saúde (Electronic Health Records)"
   ]
  },
  {
   "cell_type": "markdown",
   "metadata": {},
   "source": [
    "Um Registro Eletrônico de Saúde (Electronic Health Records - EHR) é uma versão digital da ficha de papel de um paciente. Os EHRs são registros em tempo real, centrados no paciente, que tornam as informações disponíveis instantânea e seguramente para usuários autorizados. Embora um EHR contenha os históricos médicos e de tratamento dos pacientes, um sistema de EHR é construído para ir além dos dados clínicos coletados no consultório de um prestador de serviços e pode incluir uma visão mais ampla do atendimento de um paciente. Os EHRs são uma parte vital da TI em saúde e podem:\n",
    "\n",
    "- Conter o histórico médico do paciente, diagnósticos, medicamentos, planos de tratamento, datas de imunização, alergias, imagens de radiologia e resultados laboratoriais e de testes.\n",
    "\n",
    "\n",
    "- Permitir acesso a ferramentas baseadas em evidências que os provedores podem usar para tomar decisões sobre o atendimento de um paciente.\n",
    "\n",
    "\n",
    "- Automatiza e simplifica o fluxo de trabalho do provedor.\n",
    "\n",
    "Um dos principais recursos de um EHR é que as informações de saúde podem ser criadas e gerenciadas por provedores autorizados em um formato digital capaz de ser compartilhado com outros provedores em mais de uma organização de saúde. Os EHRs são construídos para compartilhar informações com outros prestadores de cuidados de saúde e organizações - como laboratórios, especialistas, instalações de imagens médicas, farmácias, instalações de emergência e clínicas de escolas e locais de trabalho - para que eles contenham informações de todos os clínicos envolvidos no atendimento de um paciente."
   ]
  },
  {
   "cell_type": "markdown",
   "metadata": {},
   "source": [
    "## Carregando os Dados e Compreendendo as Variáveis"
   ]
  },
  {
   "cell_type": "code",
   "execution_count": 1,
   "metadata": {},
   "outputs": [],
   "source": [
    "# Para atualizar um pacote, execute o comando abaixo no terminal ou prompt de comando:\n",
    "# pip install -U nome_pacote\n",
    "\n",
    "# Para instalar a versão exata de um pacote, execute o comando abaixo no terminal ou prompt de comando:\n",
    "# pip install nome_pacote==versão_desejada\n",
    "\n",
    "# Para atualizar a versão do Pandas (descomente a linha abaixo e execute esta célula)\n",
    "#!pip install -U pandas\n",
    "\n",
    "# Depois de instalar ou atualizar o pacote, reinicie o jupyter notebook."
   ]
  },
  {
   "cell_type": "code",
   "execution_count": 2,
   "metadata": {},
   "outputs": [],
   "source": [
    "# Imports para carga e manipulação de dados\n",
    "import warnings\n",
    "warnings.simplefilter(action='ignore', category=FutureWarning)\n",
    "warnings.filterwarnings(\"ignore\", category=FutureWarning)\n",
    "import numpy as np\n",
    "import pandas as pd\n",
    "import matplotlib.pyplot as plt\n",
    "import seaborn as sns\n",
    "%matplotlib inline\n",
    "plt.rcParams['figure.figsize'] = (16.0, 4.0)"
   ]
  },
  {
   "cell_type": "code",
   "execution_count": 3,
   "metadata": {},
   "outputs": [
    {
     "data": {
      "text/plain": [
       "'1.18.1'"
      ]
     },
     "execution_count": 3,
     "metadata": {},
     "output_type": "execute_result"
    }
   ],
   "source": [
    "np.__version__"
   ]
  },
  {
   "cell_type": "code",
   "execution_count": 4,
   "metadata": {},
   "outputs": [
    {
     "data": {
      "text/plain": [
       "'1.0.1'"
      ]
     },
     "execution_count": 4,
     "metadata": {},
     "output_type": "execute_result"
    }
   ],
   "source": [
    "pd.__version__"
   ]
  },
  {
   "cell_type": "code",
   "execution_count": 5,
   "metadata": {},
   "outputs": [
    {
     "data": {
      "text/plain": [
       "'0.9.0'"
      ]
     },
     "execution_count": 5,
     "metadata": {},
     "output_type": "execute_result"
    }
   ],
   "source": [
    "sns.__version__"
   ]
  },
  {
   "cell_type": "code",
   "execution_count": 6,
   "metadata": {},
   "outputs": [
    {
     "data": {
      "text/plain": [
       "'3.2.0'"
      ]
     },
     "execution_count": 6,
     "metadata": {},
     "output_type": "execute_result"
    }
   ],
   "source": [
    "import matplotlib\n",
    "matplotlib.__version__"
   ]
  },
  {
   "cell_type": "code",
   "execution_count": 7,
   "metadata": {},
   "outputs": [
    {
     "data": {
      "text/html": [
       "<div>\n",
       "<style scoped>\n",
       "    .dataframe tbody tr th:only-of-type {\n",
       "        vertical-align: middle;\n",
       "    }\n",
       "\n",
       "    .dataframe tbody tr th {\n",
       "        vertical-align: top;\n",
       "    }\n",
       "\n",
       "    .dataframe thead th {\n",
       "        text-align: right;\n",
       "    }\n",
       "</style>\n",
       "<table border=\"1\" class=\"dataframe\">\n",
       "  <thead>\n",
       "    <tr style=\"text-align: right;\">\n",
       "      <th></th>\n",
       "      <th>IDADE</th>\n",
       "      <th>SEXO_F</th>\n",
       "      <th>SEXO_M</th>\n",
       "      <th>ADM_CORRENTE_DIAS</th>\n",
       "      <th>RECEB_MEDICAMENTOS</th>\n",
       "      <th>FEZ_EXAMES</th>\n",
       "      <th>DEPEND_QUIMICO</th>\n",
       "      <th>FUMANTE</th>\n",
       "      <th>ALCOOLISMO</th>\n",
       "      <th>NUM_DIAS_INT_PREVIA</th>\n",
       "      <th>ADM_PREVIA_DIAS</th>\n",
       "      <th>NUM_DIAS_LIC_MEDICA</th>\n",
       "      <th>READMISSAO_30_DIAS</th>\n",
       "    </tr>\n",
       "    <tr>\n",
       "      <th>ID</th>\n",
       "      <th></th>\n",
       "      <th></th>\n",
       "      <th></th>\n",
       "      <th></th>\n",
       "      <th></th>\n",
       "      <th></th>\n",
       "      <th></th>\n",
       "      <th></th>\n",
       "      <th></th>\n",
       "      <th></th>\n",
       "      <th></th>\n",
       "      <th></th>\n",
       "      <th></th>\n",
       "    </tr>\n",
       "  </thead>\n",
       "  <tbody>\n",
       "    <tr>\n",
       "      <th>0</th>\n",
       "      <td>62.0</td>\n",
       "      <td>1</td>\n",
       "      <td>0</td>\n",
       "      <td>1</td>\n",
       "      <td>0</td>\n",
       "      <td>1</td>\n",
       "      <td>0</td>\n",
       "      <td>0</td>\n",
       "      <td>0</td>\n",
       "      <td>0</td>\n",
       "      <td>0</td>\n",
       "      <td>0</td>\n",
       "      <td>1</td>\n",
       "    </tr>\n",
       "    <tr>\n",
       "      <th>1</th>\n",
       "      <td>24.0</td>\n",
       "      <td>0</td>\n",
       "      <td>1</td>\n",
       "      <td>2</td>\n",
       "      <td>0</td>\n",
       "      <td>0</td>\n",
       "      <td>1</td>\n",
       "      <td>0</td>\n",
       "      <td>0</td>\n",
       "      <td>0</td>\n",
       "      <td>0</td>\n",
       "      <td>0</td>\n",
       "      <td>0</td>\n",
       "    </tr>\n",
       "    <tr>\n",
       "      <th>2</th>\n",
       "      <td>77.0</td>\n",
       "      <td>0</td>\n",
       "      <td>1</td>\n",
       "      <td>2</td>\n",
       "      <td>0</td>\n",
       "      <td>0</td>\n",
       "      <td>1</td>\n",
       "      <td>0</td>\n",
       "      <td>0</td>\n",
       "      <td>2</td>\n",
       "      <td>2</td>\n",
       "      <td>0</td>\n",
       "      <td>0</td>\n",
       "    </tr>\n",
       "    <tr>\n",
       "      <th>3</th>\n",
       "      <td>68.0</td>\n",
       "      <td>0</td>\n",
       "      <td>1</td>\n",
       "      <td>7</td>\n",
       "      <td>0</td>\n",
       "      <td>0</td>\n",
       "      <td>1</td>\n",
       "      <td>0</td>\n",
       "      <td>0</td>\n",
       "      <td>2</td>\n",
       "      <td>2</td>\n",
       "      <td>0</td>\n",
       "      <td>0</td>\n",
       "    </tr>\n",
       "    <tr>\n",
       "      <th>4</th>\n",
       "      <td>83.0</td>\n",
       "      <td>0</td>\n",
       "      <td>1</td>\n",
       "      <td>2</td>\n",
       "      <td>0</td>\n",
       "      <td>0</td>\n",
       "      <td>1</td>\n",
       "      <td>0</td>\n",
       "      <td>0</td>\n",
       "      <td>1</td>\n",
       "      <td>1</td>\n",
       "      <td>0</td>\n",
       "      <td>0</td>\n",
       "    </tr>\n",
       "  </tbody>\n",
       "</table>\n",
       "</div>"
      ],
      "text/plain": [
       "    IDADE  SEXO_F  SEXO_M  ADM_CORRENTE_DIAS  RECEB_MEDICAMENTOS  FEZ_EXAMES  \\\n",
       "ID                                                                             \n",
       "0    62.0       1       0                  1                   0           1   \n",
       "1    24.0       0       1                  2                   0           0   \n",
       "2    77.0       0       1                  2                   0           0   \n",
       "3    68.0       0       1                  7                   0           0   \n",
       "4    83.0       0       1                  2                   0           0   \n",
       "\n",
       "    DEPEND_QUIMICO  FUMANTE  ALCOOLISMO  NUM_DIAS_INT_PREVIA  ADM_PREVIA_DIAS  \\\n",
       "ID                                                                              \n",
       "0                0        0           0                    0                0   \n",
       "1                1        0           0                    0                0   \n",
       "2                1        0           0                    2                2   \n",
       "3                1        0           0                    2                2   \n",
       "4                1        0           0                    1                1   \n",
       "\n",
       "    NUM_DIAS_LIC_MEDICA  READMISSAO_30_DIAS  \n",
       "ID                                           \n",
       "0                     0                   1  \n",
       "1                     0                   0  \n",
       "2                     0                   0  \n",
       "3                     0                   0  \n",
       "4                     0                   0  "
      ]
     },
     "execution_count": 7,
     "metadata": {},
     "output_type": "execute_result"
    }
   ],
   "source": [
    "# Carregando os dados\n",
    "dataset = pd.read_csv('dados/dataset.csv', index_col = [0])\n",
    "dataset.head()"
   ]
  },
  {
   "cell_type": "markdown",
   "metadata": {},
   "source": [
    "Dicionário de Dados\n",
    "\n",
    "- IDADE - Idade do paciente (numérica)\n",
    "- SEXO_F - paciente do sexo feminino (categórica)\n",
    "- SEXO_M - paciente do sexo masculino (categórica)\n",
    "- ADM_CORRENTE_DIAS - Dias desde a admissão atual (numérica)\n",
    "- RECEB_MEDICAMENTOS - Recebeu medicamentos na última internação (categórica)\n",
    "- FEZ_EXAMES - Fez exames na última internação (categórica)\n",
    "- DEPEND_QUIMICO - Dependendo químico (categórica)\n",
    "- FUMANTE - Fumante (categórica)\n",
    "- ALCOOLISMO - Alcoolismo (categórica)\n",
    "- NUM_DIAS_INT_PREVIA - Número de internações anteriores (numérica)\n",
    "- ADM_PREVIA_DIAS - Dias da admissão anterior (numérica)\n",
    "- NUM_DIAS_LIC_MEDICA - Licença médica (numérica)\n",
    "- READMISSAO_30_DIAS - Readmissão dentro de 30 dias após a alta. Variável target. 0 - Não / 1 - Sim"
   ]
  },
  {
   "cell_type": "markdown",
   "metadata": {},
   "source": [
    "### Análise Exploratória"
   ]
  },
  {
   "cell_type": "code",
   "execution_count": 8,
   "metadata": {},
   "outputs": [
    {
     "data": {
      "text/plain": [
       "(117180, 13)"
      ]
     },
     "execution_count": 8,
     "metadata": {},
     "output_type": "execute_result"
    }
   ],
   "source": [
    "# Shape\n",
    "dataset.shape"
   ]
  },
  {
   "cell_type": "code",
   "execution_count": 9,
   "metadata": {},
   "outputs": [
    {
     "data": {
      "text/plain": [
       "IDADE                  float64\n",
       "SEXO_F                   int64\n",
       "SEXO_M                   int64\n",
       "ADM_CORRENTE_DIAS        int64\n",
       "RECEB_MEDICAMENTOS       int64\n",
       "FEZ_EXAMES               int64\n",
       "DEPEND_QUIMICO           int64\n",
       "FUMANTE                  int64\n",
       "ALCOOLISMO               int64\n",
       "NUM_DIAS_INT_PREVIA      int64\n",
       "ADM_PREVIA_DIAS          int64\n",
       "NUM_DIAS_LIC_MEDICA      int64\n",
       "READMISSAO_30_DIAS       int64\n",
       "dtype: object"
      ]
     },
     "execution_count": 9,
     "metadata": {},
     "output_type": "execute_result"
    }
   ],
   "source": [
    "# Tipos de Dados\n",
    "dataset.dtypes"
   ]
  },
  {
   "cell_type": "code",
   "execution_count": 10,
   "metadata": {},
   "outputs": [
    {
     "data": {
      "text/html": [
       "<div>\n",
       "<style scoped>\n",
       "    .dataframe tbody tr th:only-of-type {\n",
       "        vertical-align: middle;\n",
       "    }\n",
       "\n",
       "    .dataframe tbody tr th {\n",
       "        vertical-align: top;\n",
       "    }\n",
       "\n",
       "    .dataframe thead th {\n",
       "        text-align: right;\n",
       "    }\n",
       "</style>\n",
       "<table border=\"1\" class=\"dataframe\">\n",
       "  <thead>\n",
       "    <tr style=\"text-align: right;\">\n",
       "      <th></th>\n",
       "      <th>IDADE</th>\n",
       "      <th>SEXO_F</th>\n",
       "      <th>SEXO_M</th>\n",
       "      <th>ADM_CORRENTE_DIAS</th>\n",
       "      <th>RECEB_MEDICAMENTOS</th>\n",
       "      <th>FEZ_EXAMES</th>\n",
       "      <th>DEPEND_QUIMICO</th>\n",
       "      <th>FUMANTE</th>\n",
       "      <th>ALCOOLISMO</th>\n",
       "      <th>NUM_DIAS_INT_PREVIA</th>\n",
       "      <th>ADM_PREVIA_DIAS</th>\n",
       "      <th>NUM_DIAS_LIC_MEDICA</th>\n",
       "      <th>READMISSAO_30_DIAS</th>\n",
       "    </tr>\n",
       "  </thead>\n",
       "  <tbody>\n",
       "    <tr>\n",
       "      <th>count</th>\n",
       "      <td>117180.000000</td>\n",
       "      <td>117180.000000</td>\n",
       "      <td>117180.000000</td>\n",
       "      <td>117180.000000</td>\n",
       "      <td>117180.000000</td>\n",
       "      <td>117180.000000</td>\n",
       "      <td>117180.000000</td>\n",
       "      <td>117180.000000</td>\n",
       "      <td>117180.000000</td>\n",
       "      <td>117180.000000</td>\n",
       "      <td>117180.000000</td>\n",
       "      <td>117180.000000</td>\n",
       "      <td>117180.000000</td>\n",
       "    </tr>\n",
       "    <tr>\n",
       "      <th>mean</th>\n",
       "      <td>65.066522</td>\n",
       "      <td>0.428239</td>\n",
       "      <td>0.571761</td>\n",
       "      <td>4.707680</td>\n",
       "      <td>0.160266</td>\n",
       "      <td>0.237020</td>\n",
       "      <td>0.597440</td>\n",
       "      <td>0.005274</td>\n",
       "      <td>0.008269</td>\n",
       "      <td>5.301988</td>\n",
       "      <td>12.328179</td>\n",
       "      <td>0.314456</td>\n",
       "      <td>0.189384</td>\n",
       "    </tr>\n",
       "    <tr>\n",
       "      <th>std</th>\n",
       "      <td>17.965229</td>\n",
       "      <td>0.494826</td>\n",
       "      <td>0.494826</td>\n",
       "      <td>6.257739</td>\n",
       "      <td>0.366854</td>\n",
       "      <td>0.425256</td>\n",
       "      <td>0.490416</td>\n",
       "      <td>0.072430</td>\n",
       "      <td>0.090559</td>\n",
       "      <td>14.324146</td>\n",
       "      <td>26.846820</td>\n",
       "      <td>3.366208</td>\n",
       "      <td>0.391815</td>\n",
       "    </tr>\n",
       "    <tr>\n",
       "      <th>min</th>\n",
       "      <td>0.000000</td>\n",
       "      <td>0.000000</td>\n",
       "      <td>0.000000</td>\n",
       "      <td>1.000000</td>\n",
       "      <td>0.000000</td>\n",
       "      <td>0.000000</td>\n",
       "      <td>0.000000</td>\n",
       "      <td>0.000000</td>\n",
       "      <td>0.000000</td>\n",
       "      <td>0.000000</td>\n",
       "      <td>0.000000</td>\n",
       "      <td>0.000000</td>\n",
       "      <td>0.000000</td>\n",
       "    </tr>\n",
       "    <tr>\n",
       "      <th>25%</th>\n",
       "      <td>56.000000</td>\n",
       "      <td>0.000000</td>\n",
       "      <td>0.000000</td>\n",
       "      <td>1.000000</td>\n",
       "      <td>0.000000</td>\n",
       "      <td>0.000000</td>\n",
       "      <td>0.000000</td>\n",
       "      <td>0.000000</td>\n",
       "      <td>0.000000</td>\n",
       "      <td>0.000000</td>\n",
       "      <td>0.000000</td>\n",
       "      <td>0.000000</td>\n",
       "      <td>0.000000</td>\n",
       "    </tr>\n",
       "    <tr>\n",
       "      <th>50%</th>\n",
       "      <td>69.000000</td>\n",
       "      <td>0.000000</td>\n",
       "      <td>1.000000</td>\n",
       "      <td>2.000000</td>\n",
       "      <td>0.000000</td>\n",
       "      <td>0.000000</td>\n",
       "      <td>1.000000</td>\n",
       "      <td>0.000000</td>\n",
       "      <td>0.000000</td>\n",
       "      <td>0.000000</td>\n",
       "      <td>0.000000</td>\n",
       "      <td>0.000000</td>\n",
       "      <td>0.000000</td>\n",
       "    </tr>\n",
       "    <tr>\n",
       "      <th>75%</th>\n",
       "      <td>78.000000</td>\n",
       "      <td>1.000000</td>\n",
       "      <td>1.000000</td>\n",
       "      <td>6.000000</td>\n",
       "      <td>0.000000</td>\n",
       "      <td>0.000000</td>\n",
       "      <td>1.000000</td>\n",
       "      <td>0.000000</td>\n",
       "      <td>0.000000</td>\n",
       "      <td>3.000000</td>\n",
       "      <td>12.000000</td>\n",
       "      <td>0.000000</td>\n",
       "      <td>0.000000</td>\n",
       "    </tr>\n",
       "    <tr>\n",
       "      <th>max</th>\n",
       "      <td>114.000000</td>\n",
       "      <td>1.000000</td>\n",
       "      <td>1.000000</td>\n",
       "      <td>307.000000</td>\n",
       "      <td>1.000000</td>\n",
       "      <td>1.000000</td>\n",
       "      <td>1.000000</td>\n",
       "      <td>1.000000</td>\n",
       "      <td>1.000000</td>\n",
       "      <td>170.000000</td>\n",
       "      <td>627.000000</td>\n",
       "      <td>315.000000</td>\n",
       "      <td>1.000000</td>\n",
       "    </tr>\n",
       "  </tbody>\n",
       "</table>\n",
       "</div>"
      ],
      "text/plain": [
       "               IDADE         SEXO_F         SEXO_M  ADM_CORRENTE_DIAS  \\\n",
       "count  117180.000000  117180.000000  117180.000000      117180.000000   \n",
       "mean       65.066522       0.428239       0.571761           4.707680   \n",
       "std        17.965229       0.494826       0.494826           6.257739   \n",
       "min         0.000000       0.000000       0.000000           1.000000   \n",
       "25%        56.000000       0.000000       0.000000           1.000000   \n",
       "50%        69.000000       0.000000       1.000000           2.000000   \n",
       "75%        78.000000       1.000000       1.000000           6.000000   \n",
       "max       114.000000       1.000000       1.000000         307.000000   \n",
       "\n",
       "       RECEB_MEDICAMENTOS     FEZ_EXAMES  DEPEND_QUIMICO        FUMANTE  \\\n",
       "count       117180.000000  117180.000000   117180.000000  117180.000000   \n",
       "mean             0.160266       0.237020        0.597440       0.005274   \n",
       "std              0.366854       0.425256        0.490416       0.072430   \n",
       "min              0.000000       0.000000        0.000000       0.000000   \n",
       "25%              0.000000       0.000000        0.000000       0.000000   \n",
       "50%              0.000000       0.000000        1.000000       0.000000   \n",
       "75%              0.000000       0.000000        1.000000       0.000000   \n",
       "max              1.000000       1.000000        1.000000       1.000000   \n",
       "\n",
       "          ALCOOLISMO  NUM_DIAS_INT_PREVIA  ADM_PREVIA_DIAS  \\\n",
       "count  117180.000000        117180.000000    117180.000000   \n",
       "mean        0.008269             5.301988        12.328179   \n",
       "std         0.090559            14.324146        26.846820   \n",
       "min         0.000000             0.000000         0.000000   \n",
       "25%         0.000000             0.000000         0.000000   \n",
       "50%         0.000000             0.000000         0.000000   \n",
       "75%         0.000000             3.000000        12.000000   \n",
       "max         1.000000           170.000000       627.000000   \n",
       "\n",
       "       NUM_DIAS_LIC_MEDICA  READMISSAO_30_DIAS  \n",
       "count        117180.000000       117180.000000  \n",
       "mean              0.314456            0.189384  \n",
       "std               3.366208            0.391815  \n",
       "min               0.000000            0.000000  \n",
       "25%               0.000000            0.000000  \n",
       "50%               0.000000            0.000000  \n",
       "75%               0.000000            0.000000  \n",
       "max             315.000000            1.000000  "
      ]
     },
     "execution_count": 10,
     "metadata": {},
     "output_type": "execute_result"
    }
   ],
   "source": [
    "# Resumo Estatístico\n",
    "dataset.describe()"
   ]
  },
  {
   "cell_type": "code",
   "execution_count": 11,
   "metadata": {},
   "outputs": [
    {
     "data": {
      "text/plain": [
       "IDADE                  0\n",
       "SEXO_F                 0\n",
       "SEXO_M                 0\n",
       "ADM_CORRENTE_DIAS      0\n",
       "RECEB_MEDICAMENTOS     0\n",
       "FEZ_EXAMES             0\n",
       "DEPEND_QUIMICO         0\n",
       "FUMANTE                0\n",
       "ALCOOLISMO             0\n",
       "NUM_DIAS_INT_PREVIA    0\n",
       "ADM_PREVIA_DIAS        0\n",
       "NUM_DIAS_LIC_MEDICA    0\n",
       "READMISSAO_30_DIAS     0\n",
       "dtype: int64"
      ]
     },
     "execution_count": 11,
     "metadata": {},
     "output_type": "execute_result"
    }
   ],
   "source": [
    "# Verificando se temos valores ausentes\n",
    "# Total por variável\n",
    "dataset.isnull().sum()"
   ]
  },
  {
   "cell_type": "code",
   "execution_count": 12,
   "metadata": {},
   "outputs": [
    {
     "data": {
      "text/plain": [
       "IDADE                  117180\n",
       "SEXO_F                 117180\n",
       "SEXO_M                 117180\n",
       "ADM_CORRENTE_DIAS      117180\n",
       "RECEB_MEDICAMENTOS     117180\n",
       "FEZ_EXAMES             117180\n",
       "DEPEND_QUIMICO         117180\n",
       "FUMANTE                117180\n",
       "ALCOOLISMO             117180\n",
       "NUM_DIAS_INT_PREVIA    117180\n",
       "ADM_PREVIA_DIAS        117180\n",
       "NUM_DIAS_LIC_MEDICA    117180\n",
       "READMISSAO_30_DIAS     117180\n",
       "dtype: int64"
      ]
     },
     "execution_count": 12,
     "metadata": {},
     "output_type": "execute_result"
    }
   ],
   "source": [
    "# Total de linhas por coluna\n",
    "dataset.count() "
   ]
  },
  {
   "cell_type": "code",
   "execution_count": 13,
   "metadata": {},
   "outputs": [
    {
     "name": "stdout",
     "output_type": "stream",
     "text": [
      "Número de linhas duplicadas:  60839\n"
     ]
    }
   ],
   "source": [
    "# Linhas contendo dados duplicados\n",
    "linha_duplicadas = dataset[dataset.duplicated()]\n",
    "print(\"Número de linhas duplicadas: \", linha_duplicadas.shape[0])\n",
    "\n",
    "# São realmente dados duplicados?"
   ]
  },
  {
   "cell_type": "code",
   "execution_count": 14,
   "metadata": {},
   "outputs": [
    {
     "data": {
      "text/html": [
       "<div>\n",
       "<style scoped>\n",
       "    .dataframe tbody tr th:only-of-type {\n",
       "        vertical-align: middle;\n",
       "    }\n",
       "\n",
       "    .dataframe tbody tr th {\n",
       "        vertical-align: top;\n",
       "    }\n",
       "\n",
       "    .dataframe thead th {\n",
       "        text-align: right;\n",
       "    }\n",
       "</style>\n",
       "<table border=\"1\" class=\"dataframe\">\n",
       "  <thead>\n",
       "    <tr style=\"text-align: right;\">\n",
       "      <th></th>\n",
       "      <th>IDADE</th>\n",
       "      <th>SEXO_F</th>\n",
       "      <th>SEXO_M</th>\n",
       "      <th>ADM_CORRENTE_DIAS</th>\n",
       "      <th>RECEB_MEDICAMENTOS</th>\n",
       "      <th>FEZ_EXAMES</th>\n",
       "      <th>DEPEND_QUIMICO</th>\n",
       "      <th>FUMANTE</th>\n",
       "      <th>ALCOOLISMO</th>\n",
       "      <th>NUM_DIAS_INT_PREVIA</th>\n",
       "      <th>ADM_PREVIA_DIAS</th>\n",
       "      <th>NUM_DIAS_LIC_MEDICA</th>\n",
       "      <th>READMISSAO_30_DIAS</th>\n",
       "    </tr>\n",
       "    <tr>\n",
       "      <th>ID</th>\n",
       "      <th></th>\n",
       "      <th></th>\n",
       "      <th></th>\n",
       "      <th></th>\n",
       "      <th></th>\n",
       "      <th></th>\n",
       "      <th></th>\n",
       "      <th></th>\n",
       "      <th></th>\n",
       "      <th></th>\n",
       "      <th></th>\n",
       "      <th></th>\n",
       "      <th></th>\n",
       "    </tr>\n",
       "  </thead>\n",
       "  <tbody>\n",
       "    <tr>\n",
       "      <th>0</th>\n",
       "      <td>62.0</td>\n",
       "      <td>1</td>\n",
       "      <td>0</td>\n",
       "      <td>1</td>\n",
       "      <td>0</td>\n",
       "      <td>1</td>\n",
       "      <td>0</td>\n",
       "      <td>0</td>\n",
       "      <td>0</td>\n",
       "      <td>0</td>\n",
       "      <td>0</td>\n",
       "      <td>0</td>\n",
       "      <td>1</td>\n",
       "    </tr>\n",
       "    <tr>\n",
       "      <th>1</th>\n",
       "      <td>24.0</td>\n",
       "      <td>0</td>\n",
       "      <td>1</td>\n",
       "      <td>2</td>\n",
       "      <td>0</td>\n",
       "      <td>0</td>\n",
       "      <td>1</td>\n",
       "      <td>0</td>\n",
       "      <td>0</td>\n",
       "      <td>0</td>\n",
       "      <td>0</td>\n",
       "      <td>0</td>\n",
       "      <td>0</td>\n",
       "    </tr>\n",
       "    <tr>\n",
       "      <th>2</th>\n",
       "      <td>77.0</td>\n",
       "      <td>0</td>\n",
       "      <td>1</td>\n",
       "      <td>2</td>\n",
       "      <td>0</td>\n",
       "      <td>0</td>\n",
       "      <td>1</td>\n",
       "      <td>0</td>\n",
       "      <td>0</td>\n",
       "      <td>2</td>\n",
       "      <td>2</td>\n",
       "      <td>0</td>\n",
       "      <td>0</td>\n",
       "    </tr>\n",
       "    <tr>\n",
       "      <th>3</th>\n",
       "      <td>68.0</td>\n",
       "      <td>0</td>\n",
       "      <td>1</td>\n",
       "      <td>7</td>\n",
       "      <td>0</td>\n",
       "      <td>0</td>\n",
       "      <td>1</td>\n",
       "      <td>0</td>\n",
       "      <td>0</td>\n",
       "      <td>2</td>\n",
       "      <td>2</td>\n",
       "      <td>0</td>\n",
       "      <td>0</td>\n",
       "    </tr>\n",
       "    <tr>\n",
       "      <th>4</th>\n",
       "      <td>83.0</td>\n",
       "      <td>0</td>\n",
       "      <td>1</td>\n",
       "      <td>2</td>\n",
       "      <td>0</td>\n",
       "      <td>0</td>\n",
       "      <td>1</td>\n",
       "      <td>0</td>\n",
       "      <td>0</td>\n",
       "      <td>1</td>\n",
       "      <td>1</td>\n",
       "      <td>0</td>\n",
       "      <td>0</td>\n",
       "    </tr>\n",
       "  </tbody>\n",
       "</table>\n",
       "</div>"
      ],
      "text/plain": [
       "    IDADE  SEXO_F  SEXO_M  ADM_CORRENTE_DIAS  RECEB_MEDICAMENTOS  FEZ_EXAMES  \\\n",
       "ID                                                                             \n",
       "0    62.0       1       0                  1                   0           1   \n",
       "1    24.0       0       1                  2                   0           0   \n",
       "2    77.0       0       1                  2                   0           0   \n",
       "3    68.0       0       1                  7                   0           0   \n",
       "4    83.0       0       1                  2                   0           0   \n",
       "\n",
       "    DEPEND_QUIMICO  FUMANTE  ALCOOLISMO  NUM_DIAS_INT_PREVIA  ADM_PREVIA_DIAS  \\\n",
       "ID                                                                              \n",
       "0                0        0           0                    0                0   \n",
       "1                1        0           0                    0                0   \n",
       "2                1        0           0                    2                2   \n",
       "3                1        0           0                    2                2   \n",
       "4                1        0           0                    1                1   \n",
       "\n",
       "    NUM_DIAS_LIC_MEDICA  READMISSAO_30_DIAS  \n",
       "ID                                           \n",
       "0                     0                   1  \n",
       "1                     0                   0  \n",
       "2                     0                   0  \n",
       "3                     0                   0  \n",
       "4                     0                   0  "
      ]
     },
     "execution_count": 14,
     "metadata": {},
     "output_type": "execute_result"
    }
   ],
   "source": [
    "dataset.head()"
   ]
  },
  {
   "cell_type": "code",
   "execution_count": 15,
   "metadata": {},
   "outputs": [],
   "source": [
    "# Função para visualizar a distribuição de cada variável\n",
    "def cria_histograma(dataset, features, rows, cols):\n",
    "    fig = plt.figure(figsize = (20,20))\n",
    "    \n",
    "    for i, feature in enumerate(features):\n",
    "        ax = fig.add_subplot(rows, cols, i+1)\n",
    "        dataset[feature].hist(bins = 20, ax = ax, facecolor = 'midnightblue')\n",
    "        ax.set_title(feature + \" Distribuição\", color = 'DarkRed')\n",
    "        \n",
    "    fig.tight_layout()  \n",
    "    plt.show()"
   ]
  },
  {
   "cell_type": "code",
   "execution_count": 16,
   "metadata": {},
   "outputs": [
    {
     "data": {
      "image/png": "[encoded data removed]",
      "text/plain": [
       "<Figure size 1440x1440 with 13 Axes>"
      ]
     },
     "metadata": {
      "needs_background": "light"
     },
     "output_type": "display_data"
    }
   ],
   "source": [
    "# Executa a função\n",
    "cria_histograma(dataset, dataset.columns, 6, 3)"
   ]
  },
  {
   "cell_type": "markdown",
   "metadata": {},
   "source": [
    "### Checando Outliers"
   ]
  },
  {
   "cell_type": "markdown",
   "metadata": {},
   "source": [
    "Um outlier é um ponto ou conjunto de pontos que são muito diferentes de outros pontos, valores extremos. Às vezes, eles podem ser muito altos ou muito baixos. Geralmente, é uma boa ideia detectar e remover os valores discrepantes. \n",
    "\n",
    "Os valores discrepantes são uma das principais razões para um modelo menos preciso. \n",
    "\n",
    "Por isso, é uma boa ideia removê-los."
   ]
  },
  {
   "cell_type": "code",
   "execution_count": 17,
   "metadata": {},
   "outputs": [
    {
     "data": {
      "text/html": [
       "<div>\n",
       "<style scoped>\n",
       "    .dataframe tbody tr th:only-of-type {\n",
       "        vertical-align: middle;\n",
       "    }\n",
       "\n",
       "    .dataframe tbody tr th {\n",
       "        vertical-align: top;\n",
       "    }\n",
       "\n",
       "    .dataframe thead th {\n",
       "        text-align: right;\n",
       "    }\n",
       "</style>\n",
       "<table border=\"1\" class=\"dataframe\">\n",
       "  <thead>\n",
       "    <tr style=\"text-align: right;\">\n",
       "      <th></th>\n",
       "      <th>IDADE</th>\n",
       "      <th>SEXO_F</th>\n",
       "      <th>SEXO_M</th>\n",
       "      <th>ADM_CORRENTE_DIAS</th>\n",
       "      <th>RECEB_MEDICAMENTOS</th>\n",
       "      <th>FEZ_EXAMES</th>\n",
       "      <th>DEPEND_QUIMICO</th>\n",
       "      <th>FUMANTE</th>\n",
       "      <th>ALCOOLISMO</th>\n",
       "      <th>NUM_DIAS_INT_PREVIA</th>\n",
       "      <th>ADM_PREVIA_DIAS</th>\n",
       "      <th>NUM_DIAS_LIC_MEDICA</th>\n",
       "      <th>READMISSAO_30_DIAS</th>\n",
       "    </tr>\n",
       "    <tr>\n",
       "      <th>ID</th>\n",
       "      <th></th>\n",
       "      <th></th>\n",
       "      <th></th>\n",
       "      <th></th>\n",
       "      <th></th>\n",
       "      <th></th>\n",
       "      <th></th>\n",
       "      <th></th>\n",
       "      <th></th>\n",
       "      <th></th>\n",
       "      <th></th>\n",
       "      <th></th>\n",
       "      <th></th>\n",
       "    </tr>\n",
       "  </thead>\n",
       "  <tbody>\n",
       "    <tr>\n",
       "      <th>0</th>\n",
       "      <td>62.0</td>\n",
       "      <td>1</td>\n",
       "      <td>0</td>\n",
       "      <td>1</td>\n",
       "      <td>0</td>\n",
       "      <td>1</td>\n",
       "      <td>0</td>\n",
       "      <td>0</td>\n",
       "      <td>0</td>\n",
       "      <td>0</td>\n",
       "      <td>0</td>\n",
       "      <td>0</td>\n",
       "      <td>1</td>\n",
       "    </tr>\n",
       "    <tr>\n",
       "      <th>1</th>\n",
       "      <td>24.0</td>\n",
       "      <td>0</td>\n",
       "      <td>1</td>\n",
       "      <td>2</td>\n",
       "      <td>0</td>\n",
       "      <td>0</td>\n",
       "      <td>1</td>\n",
       "      <td>0</td>\n",
       "      <td>0</td>\n",
       "      <td>0</td>\n",
       "      <td>0</td>\n",
       "      <td>0</td>\n",
       "      <td>0</td>\n",
       "    </tr>\n",
       "    <tr>\n",
       "      <th>2</th>\n",
       "      <td>77.0</td>\n",
       "      <td>0</td>\n",
       "      <td>1</td>\n",
       "      <td>2</td>\n",
       "      <td>0</td>\n",
       "      <td>0</td>\n",
       "      <td>1</td>\n",
       "      <td>0</td>\n",
       "      <td>0</td>\n",
       "      <td>2</td>\n",
       "      <td>2</td>\n",
       "      <td>0</td>\n",
       "      <td>0</td>\n",
       "    </tr>\n",
       "    <tr>\n",
       "      <th>3</th>\n",
       "      <td>68.0</td>\n",
       "      <td>0</td>\n",
       "      <td>1</td>\n",
       "      <td>7</td>\n",
       "      <td>0</td>\n",
       "      <td>0</td>\n",
       "      <td>1</td>\n",
       "      <td>0</td>\n",
       "      <td>0</td>\n",
       "      <td>2</td>\n",
       "      <td>2</td>\n",
       "      <td>0</td>\n",
       "      <td>0</td>\n",
       "    </tr>\n",
       "    <tr>\n",
       "      <th>4</th>\n",
       "      <td>83.0</td>\n",
       "      <td>0</td>\n",
       "      <td>1</td>\n",
       "      <td>2</td>\n",
       "      <td>0</td>\n",
       "      <td>0</td>\n",
       "      <td>1</td>\n",
       "      <td>0</td>\n",
       "      <td>0</td>\n",
       "      <td>1</td>\n",
       "      <td>1</td>\n",
       "      <td>0</td>\n",
       "      <td>0</td>\n",
       "    </tr>\n",
       "  </tbody>\n",
       "</table>\n",
       "</div>"
      ],
      "text/plain": [
       "    IDADE  SEXO_F  SEXO_M  ADM_CORRENTE_DIAS  RECEB_MEDICAMENTOS  FEZ_EXAMES  \\\n",
       "ID                                                                             \n",
       "0    62.0       1       0                  1                   0           1   \n",
       "1    24.0       0       1                  2                   0           0   \n",
       "2    77.0       0       1                  2                   0           0   \n",
       "3    68.0       0       1                  7                   0           0   \n",
       "4    83.0       0       1                  2                   0           0   \n",
       "\n",
       "    DEPEND_QUIMICO  FUMANTE  ALCOOLISMO  NUM_DIAS_INT_PREVIA  ADM_PREVIA_DIAS  \\\n",
       "ID                                                                              \n",
       "0                0        0           0                    0                0   \n",
       "1                1        0           0                    0                0   \n",
       "2                1        0           0                    2                2   \n",
       "3                1        0           0                    2                2   \n",
       "4                1        0           0                    1                1   \n",
       "\n",
       "    NUM_DIAS_LIC_MEDICA  READMISSAO_30_DIAS  \n",
       "ID                                           \n",
       "0                     0                   1  \n",
       "1                     0                   0  \n",
       "2                     0                   0  \n",
       "3                     0                   0  \n",
       "4                     0                   0  "
      ]
     },
     "execution_count": 17,
     "metadata": {},
     "output_type": "execute_result"
    }
   ],
   "source": [
    "dataset.head()"
   ]
  },
  {
   "cell_type": "code",
   "execution_count": 18,
   "metadata": {},
   "outputs": [
    {
     "data": {
      "text/plain": [
       "<matplotlib.axes._subplots.AxesSubplot at 0x125efdd90>"
      ]
     },
     "execution_count": 18,
     "metadata": {},
     "output_type": "execute_result"
    },
    {
     "data": {
      "image/png": "[encoded data removed]",
      "text/plain": [
       "<Figure size 432x288 with 1 Axes>"
      ]
     },
     "metadata": {
      "needs_background": "light"
     },
     "output_type": "display_data"
    }
   ],
   "source": [
    "# Visualizando os outliers da variável IDADE\n",
    "sns.boxplot(dataset.IDADE)"
   ]
  },
  {
   "cell_type": "markdown",
   "metadata": {},
   "source": [
    "Na estatística descritiva, um gráfico de caixa (Boxplot) é um método para representar graficamente grupos de dados numéricos através de seus quartis. Os gráficos de caixa também podem ter linhas que se estendem verticalmente (ou horizontalmente) a partir das caixas (bigodes), indicando variabilidade fora dos quartis superior e inferior. Os outliers podem ser plotados como pontos individuais.\n",
    "\n",
    "A definição acima sugere que, se houver um outlier, ele será plotado como ponto no boxplot.\n",
    "\n",
    "O gráfico acima mostra dois pontos bem acima de 100 anos, estes são outliers, pois não estão incluídos na caixa, ou seja, nenhum lugar perto dos quartis. O mesmo raciocínio para os pontos abaixo de 20 anos."
   ]
  },
  {
   "cell_type": "code",
   "execution_count": 19,
   "metadata": {},
   "outputs": [
    {
     "data": {
      "text/html": [
       "<div>\n",
       "<style scoped>\n",
       "    .dataframe tbody tr th:only-of-type {\n",
       "        vertical-align: middle;\n",
       "    }\n",
       "\n",
       "    .dataframe tbody tr th {\n",
       "        vertical-align: top;\n",
       "    }\n",
       "\n",
       "    .dataframe thead th {\n",
       "        text-align: right;\n",
       "    }\n",
       "</style>\n",
       "<table border=\"1\" class=\"dataframe\">\n",
       "  <thead>\n",
       "    <tr style=\"text-align: right;\">\n",
       "      <th></th>\n",
       "      <th>IDADE</th>\n",
       "      <th>SEXO_F</th>\n",
       "      <th>SEXO_M</th>\n",
       "      <th>ADM_CORRENTE_DIAS</th>\n",
       "      <th>RECEB_MEDICAMENTOS</th>\n",
       "      <th>FEZ_EXAMES</th>\n",
       "      <th>DEPEND_QUIMICO</th>\n",
       "      <th>FUMANTE</th>\n",
       "      <th>ALCOOLISMO</th>\n",
       "      <th>NUM_DIAS_INT_PREVIA</th>\n",
       "      <th>ADM_PREVIA_DIAS</th>\n",
       "      <th>NUM_DIAS_LIC_MEDICA</th>\n",
       "      <th>READMISSAO_30_DIAS</th>\n",
       "    </tr>\n",
       "    <tr>\n",
       "      <th>ID</th>\n",
       "      <th></th>\n",
       "      <th></th>\n",
       "      <th></th>\n",
       "      <th></th>\n",
       "      <th></th>\n",
       "      <th></th>\n",
       "      <th></th>\n",
       "      <th></th>\n",
       "      <th></th>\n",
       "      <th></th>\n",
       "      <th></th>\n",
       "      <th></th>\n",
       "      <th></th>\n",
       "    </tr>\n",
       "  </thead>\n",
       "  <tbody>\n",
       "    <tr>\n",
       "      <th>5204</th>\n",
       "      <td>0.0</td>\n",
       "      <td>0</td>\n",
       "      <td>1</td>\n",
       "      <td>3</td>\n",
       "      <td>1</td>\n",
       "      <td>0</td>\n",
       "      <td>0</td>\n",
       "      <td>0</td>\n",
       "      <td>0</td>\n",
       "      <td>0</td>\n",
       "      <td>0</td>\n",
       "      <td>0</td>\n",
       "      <td>0</td>\n",
       "    </tr>\n",
       "    <tr>\n",
       "      <th>9588</th>\n",
       "      <td>0.0</td>\n",
       "      <td>1</td>\n",
       "      <td>0</td>\n",
       "      <td>1</td>\n",
       "      <td>0</td>\n",
       "      <td>1</td>\n",
       "      <td>0</td>\n",
       "      <td>0</td>\n",
       "      <td>0</td>\n",
       "      <td>0</td>\n",
       "      <td>0</td>\n",
       "      <td>0</td>\n",
       "      <td>0</td>\n",
       "    </tr>\n",
       "    <tr>\n",
       "      <th>12103</th>\n",
       "      <td>2.0</td>\n",
       "      <td>1</td>\n",
       "      <td>0</td>\n",
       "      <td>1</td>\n",
       "      <td>1</td>\n",
       "      <td>0</td>\n",
       "      <td>0</td>\n",
       "      <td>0</td>\n",
       "      <td>0</td>\n",
       "      <td>1</td>\n",
       "      <td>3</td>\n",
       "      <td>0</td>\n",
       "      <td>0</td>\n",
       "    </tr>\n",
       "    <tr>\n",
       "      <th>19961</th>\n",
       "      <td>0.0</td>\n",
       "      <td>0</td>\n",
       "      <td>1</td>\n",
       "      <td>13</td>\n",
       "      <td>0</td>\n",
       "      <td>0</td>\n",
       "      <td>1</td>\n",
       "      <td>0</td>\n",
       "      <td>0</td>\n",
       "      <td>0</td>\n",
       "      <td>0</td>\n",
       "      <td>0</td>\n",
       "      <td>0</td>\n",
       "    </tr>\n",
       "    <tr>\n",
       "      <th>21779</th>\n",
       "      <td>0.0</td>\n",
       "      <td>0</td>\n",
       "      <td>1</td>\n",
       "      <td>2</td>\n",
       "      <td>0</td>\n",
       "      <td>0</td>\n",
       "      <td>1</td>\n",
       "      <td>0</td>\n",
       "      <td>0</td>\n",
       "      <td>0</td>\n",
       "      <td>0</td>\n",
       "      <td>0</td>\n",
       "      <td>0</td>\n",
       "    </tr>\n",
       "  </tbody>\n",
       "</table>\n",
       "</div>"
      ],
      "text/plain": [
       "       IDADE  SEXO_F  SEXO_M  ADM_CORRENTE_DIAS  RECEB_MEDICAMENTOS  \\\n",
       "ID                                                                    \n",
       "5204     0.0       0       1                  3                   1   \n",
       "9588     0.0       1       0                  1                   0   \n",
       "12103    2.0       1       0                  1                   1   \n",
       "19961    0.0       0       1                 13                   0   \n",
       "21779    0.0       0       1                  2                   0   \n",
       "\n",
       "       FEZ_EXAMES  DEPEND_QUIMICO  FUMANTE  ALCOOLISMO  NUM_DIAS_INT_PREVIA  \\\n",
       "ID                                                                            \n",
       "5204            0               0        0           0                    0   \n",
       "9588            1               0        0           0                    0   \n",
       "12103           0               0        0           0                    1   \n",
       "19961           0               1        0           0                    0   \n",
       "21779           0               1        0           0                    0   \n",
       "\n",
       "       ADM_PREVIA_DIAS  NUM_DIAS_LIC_MEDICA  READMISSAO_30_DIAS  \n",
       "ID                                                               \n",
       "5204                 0                    0                   0  \n",
       "9588                 0                    0                   0  \n",
       "12103                3                    0                   0  \n",
       "19961                0                    0                   0  \n",
       "21779                0                    0                   0  "
      ]
     },
     "execution_count": 19,
     "metadata": {},
     "output_type": "execute_result"
    }
   ],
   "source": [
    "# Outliers para a variável IDADE\n",
    "outliers_idade = dataset[(dataset['IDADE'] > 110) | (dataset['IDADE'] < 5)] \n",
    "outliers_idade.head()"
   ]
  },
  {
   "cell_type": "code",
   "execution_count": 20,
   "metadata": {},
   "outputs": [
    {
     "data": {
      "text/plain": [
       "<matplotlib.axes._subplots.AxesSubplot at 0x121588a50>"
      ]
     },
     "execution_count": 20,
     "metadata": {},
     "output_type": "execute_result"
    },
    {
     "data": {
      "image/png": "[encoded data removed]",
      "text/plain": [
       "<Figure size 432x288 with 1 Axes>"
      ]
     },
     "metadata": {
      "needs_background": "light"
     },
     "output_type": "display_data"
    }
   ],
   "source": [
    "# Histograma da variável IDADE antes da limpeza\n",
    "dataset.IDADE.hist()"
   ]
  },
  {
   "cell_type": "code",
   "execution_count": 21,
   "metadata": {},
   "outputs": [
    {
     "data": {
      "text/plain": [
       "<matplotlib.axes._subplots.AxesSubplot at 0x1234dd910>"
      ]
     },
     "execution_count": 21,
     "metadata": {},
     "output_type": "execute_result"
    },
    {
     "data": {
      "image/png": "[encoded data removed]",
      "text/plain": [
       "<Figure size 432x288 with 1 Axes>"
      ]
     },
     "metadata": {
      "needs_background": "light"
     },
     "output_type": "display_data"
    }
   ],
   "source": [
    "# Vamos remover os outliers\n",
    "dataset = dataset.drop(dataset[(dataset['IDADE'] > 110) | (dataset['IDADE'] < 5)].index)\n",
    "sns.boxplot(dataset.IDADE)"
   ]
  },
  {
   "cell_type": "code",
   "execution_count": 22,
   "metadata": {},
   "outputs": [
    {
     "data": {
      "text/plain": [
       "<matplotlib.axes._subplots.AxesSubplot at 0x123b1a350>"
      ]
     },
     "execution_count": 22,
     "metadata": {},
     "output_type": "execute_result"
    },
    {
     "data": {
      "image/png": "[encoded data removed]",
      "text/plain": [
       "<Figure size 432x288 with 1 Axes>"
      ]
     },
     "metadata": {
      "needs_background": "light"
     },
     "output_type": "display_data"
    }
   ],
   "source": [
    "# Histograma da variável idade após a limpeza\n",
    "dataset.IDADE.hist()"
   ]
  },
  {
   "cell_type": "code",
   "execution_count": 23,
   "metadata": {},
   "outputs": [
    {
     "data": {
      "text/plain": [
       "<matplotlib.axes._subplots.AxesSubplot at 0x12178aed0>"
      ]
     },
     "execution_count": 23,
     "metadata": {},
     "output_type": "execute_result"
    },
    {
     "data": {
      "image/png": "[encoded data removed]",
      "text/plain": [
       "<Figure size 432x288 with 1 Axes>"
      ]
     },
     "metadata": {
      "needs_background": "light"
     },
     "output_type": "display_data"
    }
   ],
   "source": [
    "# Visualizando os outliers da variável ADM_CORRENTE_DIAS\n",
    "sns.boxplot(dataset.ADM_CORRENTE_DIAS)"
   ]
  },
  {
   "cell_type": "code",
   "execution_count": 24,
   "metadata": {},
   "outputs": [
    {
     "data": {
      "text/plain": [
       "<matplotlib.axes._subplots.AxesSubplot at 0x12375c490>"
      ]
     },
     "execution_count": 24,
     "metadata": {},
     "output_type": "execute_result"
    },
    {
     "data": {
      "image/png": "[encoded data removed]",
      "text/plain": [
       "<Figure size 432x288 with 1 Axes>"
      ]
     },
     "metadata": {
      "needs_background": "light"
     },
     "output_type": "display_data"
    }
   ],
   "source": [
    "# Vamos remover os outliers\n",
    "dataset = dataset.drop(dataset[(dataset['ADM_CORRENTE_DIAS'] > 180)].index)\n",
    "sns.boxplot(dataset.ADM_CORRENTE_DIAS)"
   ]
  },
  {
   "cell_type": "code",
   "execution_count": 25,
   "metadata": {},
   "outputs": [
    {
     "data": {
      "text/plain": [
       "<matplotlib.axes._subplots.AxesSubplot at 0x12803ef90>"
      ]
     },
     "execution_count": 25,
     "metadata": {},
     "output_type": "execute_result"
    },
    {
     "data": {
      "image/png": "[encoded data removed]",
      "text/plain": [
       "<Figure size 432x288 with 1 Axes>"
      ]
     },
     "metadata": {
      "needs_background": "light"
     },
     "output_type": "display_data"
    }
   ],
   "source": [
    "# Visualizando os outliers da variável NUM_DIAS_INT_PREVIA\n",
    "sns.boxplot(dataset.NUM_DIAS_INT_PREVIA)"
   ]
  },
  {
   "cell_type": "code",
   "execution_count": 26,
   "metadata": {},
   "outputs": [
    {
     "data": {
      "text/plain": [
       "<matplotlib.axes._subplots.AxesSubplot at 0x1281534d0>"
      ]
     },
     "execution_count": 26,
     "metadata": {},
     "output_type": "execute_result"
    },
    {
     "data": {
      "image/png": "[encoded data removed]",
      "text/plain": [
       "<Figure size 432x288 with 1 Axes>"
      ]
     },
     "metadata": {
      "needs_background": "light"
     },
     "output_type": "display_data"
    }
   ],
   "source": [
    "# Visualizando os outliers da variável ADM_PREVIA_DIAS\n",
    "sns.boxplot(dataset.ADM_PREVIA_DIAS)"
   ]
  },
  {
   "cell_type": "code",
   "execution_count": 27,
   "metadata": {},
   "outputs": [
    {
     "data": {
      "text/plain": [
       "<matplotlib.axes._subplots.AxesSubplot at 0x1281f3990>"
      ]
     },
     "execution_count": 27,
     "metadata": {},
     "output_type": "execute_result"
    },
    {
     "data": {
      "image/png": "[encoded data removed]",
      "text/plain": [
       "<Figure size 432x288 with 1 Axes>"
      ]
     },
     "metadata": {
      "needs_background": "light"
     },
     "output_type": "display_data"
    }
   ],
   "source": [
    "# Vamos remover os outliers\n",
    "dataset = dataset.drop(dataset[(dataset['ADM_PREVIA_DIAS'] > 400)].index)\n",
    "sns.boxplot(dataset.ADM_PREVIA_DIAS)"
   ]
  },
  {
   "cell_type": "code",
   "execution_count": 28,
   "metadata": {},
   "outputs": [
    {
     "data": {
      "text/plain": [
       "<matplotlib.axes._subplots.AxesSubplot at 0x1284f0610>"
      ]
     },
     "execution_count": 28,
     "metadata": {},
     "output_type": "execute_result"
    },
    {
     "data": {
      "image/png": "[encoded data removed]",
      "text/plain": [
       "<Figure size 432x288 with 1 Axes>"
      ]
     },
     "metadata": {
      "needs_background": "light"
     },
     "output_type": "display_data"
    }
   ],
   "source": [
    "# Visualizando os outliers da variável NUM_DIAS_LIC_MEDICA\n",
    "sns.boxplot(dataset.NUM_DIAS_LIC_MEDICA)"
   ]
  },
  {
   "cell_type": "code",
   "execution_count": 29,
   "metadata": {},
   "outputs": [
    {
     "data": {
      "text/plain": [
       "<matplotlib.axes._subplots.AxesSubplot at 0x121802390>"
      ]
     },
     "execution_count": 29,
     "metadata": {},
     "output_type": "execute_result"
    },
    {
     "data": {
      "image/png": "[encoded data removed]",
      "text/plain": [
       "<Figure size 432x288 with 1 Axes>"
      ]
     },
     "metadata": {
      "needs_background": "light"
     },
     "output_type": "display_data"
    }
   ],
   "source": [
    "# Vamos remover os outliers\n",
    "dataset = dataset.drop(dataset[(dataset['NUM_DIAS_LIC_MEDICA'] > 150)].index)\n",
    "sns.boxplot(dataset.NUM_DIAS_LIC_MEDICA)"
   ]
  },
  {
   "cell_type": "markdown",
   "metadata": {},
   "source": [
    "### Correlação e Associação"
   ]
  },
  {
   "cell_type": "code",
   "execution_count": 30,
   "metadata": {},
   "outputs": [],
   "source": [
    "# Criando uma cópia do dataset original\n",
    "dataset_teste = dataset.copy()"
   ]
  },
  {
   "cell_type": "code",
   "execution_count": 31,
   "metadata": {},
   "outputs": [
    {
     "data": {
      "text/html": [
       "<div>\n",
       "<style scoped>\n",
       "    .dataframe tbody tr th:only-of-type {\n",
       "        vertical-align: middle;\n",
       "    }\n",
       "\n",
       "    .dataframe tbody tr th {\n",
       "        vertical-align: top;\n",
       "    }\n",
       "\n",
       "    .dataframe thead th {\n",
       "        text-align: right;\n",
       "    }\n",
       "</style>\n",
       "<table border=\"1\" class=\"dataframe\">\n",
       "  <thead>\n",
       "    <tr style=\"text-align: right;\">\n",
       "      <th></th>\n",
       "      <th>IDADE</th>\n",
       "      <th>SEXO_F</th>\n",
       "      <th>SEXO_M</th>\n",
       "      <th>ADM_CORRENTE_DIAS</th>\n",
       "      <th>RECEB_MEDICAMENTOS</th>\n",
       "      <th>FEZ_EXAMES</th>\n",
       "      <th>DEPEND_QUIMICO</th>\n",
       "      <th>FUMANTE</th>\n",
       "      <th>ALCOOLISMO</th>\n",
       "      <th>NUM_DIAS_INT_PREVIA</th>\n",
       "      <th>ADM_PREVIA_DIAS</th>\n",
       "      <th>NUM_DIAS_LIC_MEDICA</th>\n",
       "      <th>READMISSAO_30_DIAS</th>\n",
       "    </tr>\n",
       "    <tr>\n",
       "      <th>ID</th>\n",
       "      <th></th>\n",
       "      <th></th>\n",
       "      <th></th>\n",
       "      <th></th>\n",
       "      <th></th>\n",
       "      <th></th>\n",
       "      <th></th>\n",
       "      <th></th>\n",
       "      <th></th>\n",
       "      <th></th>\n",
       "      <th></th>\n",
       "      <th></th>\n",
       "      <th></th>\n",
       "    </tr>\n",
       "  </thead>\n",
       "  <tbody>\n",
       "    <tr>\n",
       "      <th>0</th>\n",
       "      <td>62.0</td>\n",
       "      <td>1</td>\n",
       "      <td>0</td>\n",
       "      <td>1</td>\n",
       "      <td>0</td>\n",
       "      <td>1</td>\n",
       "      <td>0</td>\n",
       "      <td>0</td>\n",
       "      <td>0</td>\n",
       "      <td>0</td>\n",
       "      <td>0</td>\n",
       "      <td>0</td>\n",
       "      <td>1</td>\n",
       "    </tr>\n",
       "    <tr>\n",
       "      <th>1</th>\n",
       "      <td>24.0</td>\n",
       "      <td>0</td>\n",
       "      <td>1</td>\n",
       "      <td>2</td>\n",
       "      <td>0</td>\n",
       "      <td>0</td>\n",
       "      <td>1</td>\n",
       "      <td>0</td>\n",
       "      <td>0</td>\n",
       "      <td>0</td>\n",
       "      <td>0</td>\n",
       "      <td>0</td>\n",
       "      <td>0</td>\n",
       "    </tr>\n",
       "    <tr>\n",
       "      <th>2</th>\n",
       "      <td>77.0</td>\n",
       "      <td>0</td>\n",
       "      <td>1</td>\n",
       "      <td>2</td>\n",
       "      <td>0</td>\n",
       "      <td>0</td>\n",
       "      <td>1</td>\n",
       "      <td>0</td>\n",
       "      <td>0</td>\n",
       "      <td>2</td>\n",
       "      <td>2</td>\n",
       "      <td>0</td>\n",
       "      <td>0</td>\n",
       "    </tr>\n",
       "    <tr>\n",
       "      <th>3</th>\n",
       "      <td>68.0</td>\n",
       "      <td>0</td>\n",
       "      <td>1</td>\n",
       "      <td>7</td>\n",
       "      <td>0</td>\n",
       "      <td>0</td>\n",
       "      <td>1</td>\n",
       "      <td>0</td>\n",
       "      <td>0</td>\n",
       "      <td>2</td>\n",
       "      <td>2</td>\n",
       "      <td>0</td>\n",
       "      <td>0</td>\n",
       "    </tr>\n",
       "    <tr>\n",
       "      <th>4</th>\n",
       "      <td>83.0</td>\n",
       "      <td>0</td>\n",
       "      <td>1</td>\n",
       "      <td>2</td>\n",
       "      <td>0</td>\n",
       "      <td>0</td>\n",
       "      <td>1</td>\n",
       "      <td>0</td>\n",
       "      <td>0</td>\n",
       "      <td>1</td>\n",
       "      <td>1</td>\n",
       "      <td>0</td>\n",
       "      <td>0</td>\n",
       "    </tr>\n",
       "  </tbody>\n",
       "</table>\n",
       "</div>"
      ],
      "text/plain": [
       "    IDADE  SEXO_F  SEXO_M  ADM_CORRENTE_DIAS  RECEB_MEDICAMENTOS  FEZ_EXAMES  \\\n",
       "ID                                                                             \n",
       "0    62.0       1       0                  1                   0           1   \n",
       "1    24.0       0       1                  2                   0           0   \n",
       "2    77.0       0       1                  2                   0           0   \n",
       "3    68.0       0       1                  7                   0           0   \n",
       "4    83.0       0       1                  2                   0           0   \n",
       "\n",
       "    DEPEND_QUIMICO  FUMANTE  ALCOOLISMO  NUM_DIAS_INT_PREVIA  ADM_PREVIA_DIAS  \\\n",
       "ID                                                                              \n",
       "0                0        0           0                    0                0   \n",
       "1                1        0           0                    0                0   \n",
       "2                1        0           0                    2                2   \n",
       "3                1        0           0                    2                2   \n",
       "4                1        0           0                    1                1   \n",
       "\n",
       "    NUM_DIAS_LIC_MEDICA  READMISSAO_30_DIAS  \n",
       "ID                                           \n",
       "0                     0                   1  \n",
       "1                     0                   0  \n",
       "2                     0                   0  \n",
       "3                     0                   0  \n",
       "4                     0                   0  "
      ]
     },
     "execution_count": 31,
     "metadata": {},
     "output_type": "execute_result"
    }
   ],
   "source": [
    "# Cópia do dataset\n",
    "dataset_teste.head()"
   ]
  },
  {
   "cell_type": "code",
   "execution_count": 32,
   "metadata": {},
   "outputs": [
    {
     "data": {
      "text/plain": [
       "IDADE                  float64\n",
       "SEXO_F                   int64\n",
       "SEXO_M                   int64\n",
       "ADM_CORRENTE_DIAS        int64\n",
       "RECEB_MEDICAMENTOS       int64\n",
       "FEZ_EXAMES               int64\n",
       "DEPEND_QUIMICO           int64\n",
       "FUMANTE                  int64\n",
       "ALCOOLISMO               int64\n",
       "NUM_DIAS_INT_PREVIA      int64\n",
       "ADM_PREVIA_DIAS          int64\n",
       "NUM_DIAS_LIC_MEDICA      int64\n",
       "READMISSAO_30_DIAS       int64\n",
       "dtype: object"
      ]
     },
     "execution_count": 32,
     "metadata": {},
     "output_type": "execute_result"
    }
   ],
   "source": [
    "dataset_teste.dtypes"
   ]
  },
  {
   "cell_type": "code",
   "execution_count": 33,
   "metadata": {},
   "outputs": [],
   "source": [
    "# Convertendo as variáveis categóricas para o tipo categórico em Python\n",
    "# Como queremos apenas avaliar a associação com a variável resposta estamos trabalhando com uma cópia do dataset original.\n",
    "dataset_teste['SEXO_F'] = dataset_teste['SEXO_F'].astype('category')\n",
    "dataset_teste['SEXO_M'] = dataset_teste['SEXO_M'].astype('category')\n",
    "dataset_teste['RECEB_MEDICAMENTOS'] = dataset_teste['RECEB_MEDICAMENTOS'].astype('category')\n",
    "dataset_teste['FEZ_EXAMES'] = dataset_teste['FEZ_EXAMES'].astype('category')\n",
    "dataset_teste['DEPEND_QUIMICO'] = dataset_teste['DEPEND_QUIMICO'].astype('category')\n",
    "dataset_teste['FUMANTE'] = dataset_teste['FUMANTE'].astype('category')\n",
    "dataset_teste['ALCOOLISMO'] = dataset_teste['ALCOOLISMO'].astype('category')\n",
    "dataset_teste['READMISSAO_30_DIAS'] = dataset_teste['READMISSAO_30_DIAS'].astype('category')"
   ]
  },
  {
   "cell_type": "code",
   "execution_count": 34,
   "metadata": {},
   "outputs": [
    {
     "data": {
      "text/plain": [
       "IDADE                   float64\n",
       "SEXO_F                 category\n",
       "SEXO_M                 category\n",
       "ADM_CORRENTE_DIAS         int64\n",
       "RECEB_MEDICAMENTOS     category\n",
       "FEZ_EXAMES             category\n",
       "DEPEND_QUIMICO         category\n",
       "FUMANTE                category\n",
       "ALCOOLISMO             category\n",
       "NUM_DIAS_INT_PREVIA       int64\n",
       "ADM_PREVIA_DIAS           int64\n",
       "NUM_DIAS_LIC_MEDICA       int64\n",
       "READMISSAO_30_DIAS     category\n",
       "dtype: object"
      ]
     },
     "execution_count": 34,
     "metadata": {},
     "output_type": "execute_result"
    }
   ],
   "source": [
    "# Visualizando os tipos de dados\n",
    "dataset_teste.dtypes"
   ]
  },
  {
   "cell_type": "code",
   "execution_count": 35,
   "metadata": {},
   "outputs": [
    {
     "data": {
      "text/plain": [
       "<matplotlib.axes._subplots.AxesSubplot at 0x1232a47d0>"
      ]
     },
     "execution_count": 35,
     "metadata": {},
     "output_type": "execute_result"
    },
    {
     "data": {
      "image/png": "[encoded data removed]",
      "text/plain": [
       "<Figure size 432x288 with 2 Axes>"
      ]
     },
     "metadata": {
      "needs_background": "light"
     },
     "output_type": "display_data"
    }
   ],
   "source": [
    "# Coeficiente de correlação é calculado para variáveis numéricas\n",
    "dataset_teste_corr = dataset_teste.corr()\n",
    "sns.heatmap(dataset_teste_corr)"
   ]
  },
  {
   "cell_type": "code",
   "execution_count": 36,
   "metadata": {},
   "outputs": [],
   "source": [
    "# Função para calcular a associação entre variáveis categóricas\n",
    "\n",
    "# Pacote stats do Scipy\n",
    "import scipy.stats as ss\n",
    "\n",
    "# https://docs.scipy.org/doc/scipy/reference/generated/scipy.stats.chi2_contingency.html\n",
    "\n",
    "# Em Estatística, Cramér-V é uma medida de associação entre duas variáveis categóricas, fornecendo um valor \n",
    "# entre 0 e +1 (inclusive). É baseado na estatística do qui-quadrado (chi2) de Pearson e foi publicado \n",
    "# por Harald Cramér em 1946. \n",
    "\n",
    "# A Associação é um resultado no intervalo de [0,1], em que 0 significa nenhuma associação e 1 é associação completa.\n",
    "\n",
    "# Função\n",
    "def cramers_v(x, y):\n",
    "    confusion_matrix = pd.crosstab(x, y)\n",
    "    \n",
    "    # Teste qui-quadrado de independência de variáveis em uma tabela de contingência.\n",
    "    chi2 = ss.chi2_contingency(confusion_matrix)[0]\n",
    "    n = confusion_matrix.sum().sum()\n",
    "    phi2 = chi2/n\n",
    "    r,k = confusion_matrix.shape\n",
    "    phi2corr = max(0, phi2-((k-1)*(r-1))/(n-1))\n",
    "    rcorr = r-((r-1)**2)/(n-1)\n",
    "    kcorr = k-((k-1)**2)/(n-1)\n",
    "    return np.sqrt(phi2corr/min((kcorr-1),(rcorr-1)))"
   ]
  },
  {
   "cell_type": "code",
   "execution_count": 37,
   "metadata": {},
   "outputs": [],
   "source": [
    "# Coleta as variáveis categóricas do dataset\n",
    "from pandas.api.types import is_string_dtype\n",
    "from pandas.api.types import is_numeric_dtype\n",
    "\n",
    "categorical_vars = []\n",
    "\n",
    "for column in dataset_teste:\n",
    "    if is_string_dtype(dataset_teste[column]):\n",
    "        categorical_vars.append(column)"
   ]
  },
  {
   "cell_type": "code",
   "execution_count": 38,
   "metadata": {},
   "outputs": [
    {
     "data": {
      "text/plain": [
       "['SEXO_F',\n",
       " 'SEXO_M',\n",
       " 'RECEB_MEDICAMENTOS',\n",
       " 'FEZ_EXAMES',\n",
       " 'DEPEND_QUIMICO',\n",
       " 'FUMANTE',\n",
       " 'ALCOOLISMO',\n",
       " 'READMISSAO_30_DIAS']"
      ]
     },
     "execution_count": 38,
     "metadata": {},
     "output_type": "execute_result"
    }
   ],
   "source": [
    "categorical_vars"
   ]
  },
  {
   "cell_type": "code",
   "execution_count": 39,
   "metadata": {},
   "outputs": [
    {
     "name": "stdout",
     "output_type": "stream",
     "text": [
      "\n",
      "A Associação é um resultado no intervalo de [0,1], em que 0 significa nenhuma associação e 1 é associação completa.\n",
      "\n",
      "\n",
      "Associação da Variável SEXO_F com a variável resposta: 0.08140312484489556\n",
      "Associação da Variável SEXO_M com a variável resposta: 0.08140312484489556\n",
      "Associação da Variável RECEB_MEDICAMENTOS com a variável resposta: 0.14274972262281213\n",
      "Associação da Variável FEZ_EXAMES com a variável resposta: 0.3512134549958696\n",
      "Associação da Variável DEPEND_QUIMICO com a variável resposta: 0.21078933128660998\n",
      "Associação da Variável FUMANTE com a variável resposta: 0.08791877346862986\n",
      "Associação da Variável ALCOOLISMO com a variável resposta: 0.0151160465712889\n",
      "Associação da Variável READMISSAO_30_DIAS com a variável resposta: 0.9999721770541886\n"
     ]
    }
   ],
   "source": [
    "y = 'READMISSAO_30_DIAS'\n",
    "\n",
    "print('\\nA Associação é um resultado no intervalo de [0,1], em que 0 significa nenhuma associação e 1 é associação completa.')\n",
    "print('\\n')\n",
    "\n",
    "for var in categorical_vars:\n",
    "    print('Associação da Variável ' + var + ' com a variável resposta:', \n",
    "          cramers_v(dataset_teste[var], dataset_teste[y]))"
   ]
  },
  {
   "cell_type": "markdown",
   "metadata": {},
   "source": [
    "### Pré-Processamento"
   ]
  },
  {
   "cell_type": "code",
   "execution_count": 40,
   "metadata": {},
   "outputs": [],
   "source": [
    "#!pip install imblearn"
   ]
  },
  {
   "cell_type": "code",
   "execution_count": 41,
   "metadata": {},
   "outputs": [],
   "source": [
    "#!pip install tensorflow"
   ]
  },
  {
   "cell_type": "code",
   "execution_count": 42,
   "metadata": {},
   "outputs": [],
   "source": [
    "#!pip install keras"
   ]
  },
  {
   "cell_type": "code",
   "execution_count": 43,
   "metadata": {},
   "outputs": [
    {
     "data": {
      "text/html": [
       "<div>\n",
       "<style scoped>\n",
       "    .dataframe tbody tr th:only-of-type {\n",
       "        vertical-align: middle;\n",
       "    }\n",
       "\n",
       "    .dataframe tbody tr th {\n",
       "        vertical-align: top;\n",
       "    }\n",
       "\n",
       "    .dataframe thead th {\n",
       "        text-align: right;\n",
       "    }\n",
       "</style>\n",
       "<table border=\"1\" class=\"dataframe\">\n",
       "  <thead>\n",
       "    <tr style=\"text-align: right;\">\n",
       "      <th></th>\n",
       "      <th>IDADE</th>\n",
       "      <th>SEXO_F</th>\n",
       "      <th>SEXO_M</th>\n",
       "      <th>ADM_CORRENTE_DIAS</th>\n",
       "      <th>RECEB_MEDICAMENTOS</th>\n",
       "      <th>FEZ_EXAMES</th>\n",
       "      <th>DEPEND_QUIMICO</th>\n",
       "      <th>FUMANTE</th>\n",
       "      <th>ALCOOLISMO</th>\n",
       "      <th>NUM_DIAS_INT_PREVIA</th>\n",
       "      <th>ADM_PREVIA_DIAS</th>\n",
       "      <th>NUM_DIAS_LIC_MEDICA</th>\n",
       "      <th>READMISSAO_30_DIAS</th>\n",
       "    </tr>\n",
       "    <tr>\n",
       "      <th>ID</th>\n",
       "      <th></th>\n",
       "      <th></th>\n",
       "      <th></th>\n",
       "      <th></th>\n",
       "      <th></th>\n",
       "      <th></th>\n",
       "      <th></th>\n",
       "      <th></th>\n",
       "      <th></th>\n",
       "      <th></th>\n",
       "      <th></th>\n",
       "      <th></th>\n",
       "      <th></th>\n",
       "    </tr>\n",
       "  </thead>\n",
       "  <tbody>\n",
       "    <tr>\n",
       "      <th>0</th>\n",
       "      <td>62.0</td>\n",
       "      <td>1</td>\n",
       "      <td>0</td>\n",
       "      <td>1</td>\n",
       "      <td>0</td>\n",
       "      <td>1</td>\n",
       "      <td>0</td>\n",
       "      <td>0</td>\n",
       "      <td>0</td>\n",
       "      <td>0</td>\n",
       "      <td>0</td>\n",
       "      <td>0</td>\n",
       "      <td>1</td>\n",
       "    </tr>\n",
       "    <tr>\n",
       "      <th>1</th>\n",
       "      <td>24.0</td>\n",
       "      <td>0</td>\n",
       "      <td>1</td>\n",
       "      <td>2</td>\n",
       "      <td>0</td>\n",
       "      <td>0</td>\n",
       "      <td>1</td>\n",
       "      <td>0</td>\n",
       "      <td>0</td>\n",
       "      <td>0</td>\n",
       "      <td>0</td>\n",
       "      <td>0</td>\n",
       "      <td>0</td>\n",
       "    </tr>\n",
       "    <tr>\n",
       "      <th>2</th>\n",
       "      <td>77.0</td>\n",
       "      <td>0</td>\n",
       "      <td>1</td>\n",
       "      <td>2</td>\n",
       "      <td>0</td>\n",
       "      <td>0</td>\n",
       "      <td>1</td>\n",
       "      <td>0</td>\n",
       "      <td>0</td>\n",
       "      <td>2</td>\n",
       "      <td>2</td>\n",
       "      <td>0</td>\n",
       "      <td>0</td>\n",
       "    </tr>\n",
       "    <tr>\n",
       "      <th>3</th>\n",
       "      <td>68.0</td>\n",
       "      <td>0</td>\n",
       "      <td>1</td>\n",
       "      <td>7</td>\n",
       "      <td>0</td>\n",
       "      <td>0</td>\n",
       "      <td>1</td>\n",
       "      <td>0</td>\n",
       "      <td>0</td>\n",
       "      <td>2</td>\n",
       "      <td>2</td>\n",
       "      <td>0</td>\n",
       "      <td>0</td>\n",
       "    </tr>\n",
       "    <tr>\n",
       "      <th>4</th>\n",
       "      <td>83.0</td>\n",
       "      <td>0</td>\n",
       "      <td>1</td>\n",
       "      <td>2</td>\n",
       "      <td>0</td>\n",
       "      <td>0</td>\n",
       "      <td>1</td>\n",
       "      <td>0</td>\n",
       "      <td>0</td>\n",
       "      <td>1</td>\n",
       "      <td>1</td>\n",
       "      <td>0</td>\n",
       "      <td>0</td>\n",
       "    </tr>\n",
       "  </tbody>\n",
       "</table>\n",
       "</div>"
      ],
      "text/plain": [
       "    IDADE  SEXO_F  SEXO_M  ADM_CORRENTE_DIAS  RECEB_MEDICAMENTOS  FEZ_EXAMES  \\\n",
       "ID                                                                             \n",
       "0    62.0       1       0                  1                   0           1   \n",
       "1    24.0       0       1                  2                   0           0   \n",
       "2    77.0       0       1                  2                   0           0   \n",
       "3    68.0       0       1                  7                   0           0   \n",
       "4    83.0       0       1                  2                   0           0   \n",
       "\n",
       "    DEPEND_QUIMICO  FUMANTE  ALCOOLISMO  NUM_DIAS_INT_PREVIA  ADM_PREVIA_DIAS  \\\n",
       "ID                                                                              \n",
       "0                0        0           0                    0                0   \n",
       "1                1        0           0                    0                0   \n",
       "2                1        0           0                    2                2   \n",
       "3                1        0           0                    2                2   \n",
       "4                1        0           0                    1                1   \n",
       "\n",
       "    NUM_DIAS_LIC_MEDICA  READMISSAO_30_DIAS  \n",
       "ID                                           \n",
       "0                     0                   1  \n",
       "1                     0                   0  \n",
       "2                     0                   0  \n",
       "3                     0                   0  \n",
       "4                     0                   0  "
      ]
     },
     "execution_count": 43,
     "metadata": {},
     "output_type": "execute_result"
    }
   ],
   "source": [
    "dataset.head()"
   ]
  },
  {
   "cell_type": "code",
   "execution_count": 44,
   "metadata": {},
   "outputs": [
    {
     "data": {
      "text/plain": [
       "0    94827\n",
       "1    22173\n",
       "Name: READMISSAO_30_DIAS, dtype: int64"
      ]
     },
     "execution_count": 44,
     "metadata": {},
     "output_type": "execute_result"
    }
   ],
   "source": [
    "# Verificando se a variável resposta está balanceada\n",
    "target_count = dataset.READMISSAO_30_DIAS.value_counts()\n",
    "target_count"
   ]
  },
  {
   "cell_type": "code",
   "execution_count": 45,
   "metadata": {},
   "outputs": [
    {
     "data": {
      "image/png": "[encoded data removed]",
      "text/plain": [
       "<Figure size 432x288 with 1 Axes>"
      ]
     },
     "metadata": {
      "needs_background": "light"
     },
     "output_type": "display_data"
    }
   ],
   "source": [
    "# Plot \n",
    "sns.countplot(dataset.READMISSAO_30_DIAS, palette = \"OrRd\")\n",
    "plt.box(False)\n",
    "plt.xlabel('Readmissão em 30 Dias Não (0) / Sim (1)', fontsize = 11)\n",
    "plt.ylabel('Total Pacientes', fontsize = 11)\n",
    "plt.title('Contagem de Classes\\n')\n",
    "plt.show()"
   ]
  },
  {
   "cell_type": "code",
   "execution_count": 46,
   "metadata": {},
   "outputs": [
    {
     "data": {
      "text/html": [
       "<div>\n",
       "<style scoped>\n",
       "    .dataframe tbody tr th:only-of-type {\n",
       "        vertical-align: middle;\n",
       "    }\n",
       "\n",
       "    .dataframe tbody tr th {\n",
       "        vertical-align: top;\n",
       "    }\n",
       "\n",
       "    .dataframe thead th {\n",
       "        text-align: right;\n",
       "    }\n",
       "</style>\n",
       "<table border=\"1\" class=\"dataframe\">\n",
       "  <thead>\n",
       "    <tr style=\"text-align: right;\">\n",
       "      <th></th>\n",
       "      <th>IDADE</th>\n",
       "      <th>SEXO_F</th>\n",
       "      <th>SEXO_M</th>\n",
       "      <th>ADM_CORRENTE_DIAS</th>\n",
       "      <th>RECEB_MEDICAMENTOS</th>\n",
       "      <th>FEZ_EXAMES</th>\n",
       "      <th>DEPEND_QUIMICO</th>\n",
       "      <th>FUMANTE</th>\n",
       "      <th>ALCOOLISMO</th>\n",
       "      <th>NUM_DIAS_INT_PREVIA</th>\n",
       "      <th>ADM_PREVIA_DIAS</th>\n",
       "      <th>NUM_DIAS_LIC_MEDICA</th>\n",
       "    </tr>\n",
       "    <tr>\n",
       "      <th>ID</th>\n",
       "      <th></th>\n",
       "      <th></th>\n",
       "      <th></th>\n",
       "      <th></th>\n",
       "      <th></th>\n",
       "      <th></th>\n",
       "      <th></th>\n",
       "      <th></th>\n",
       "      <th></th>\n",
       "      <th></th>\n",
       "      <th></th>\n",
       "      <th></th>\n",
       "    </tr>\n",
       "  </thead>\n",
       "  <tbody>\n",
       "    <tr>\n",
       "      <th>0</th>\n",
       "      <td>62.0</td>\n",
       "      <td>1</td>\n",
       "      <td>0</td>\n",
       "      <td>1</td>\n",
       "      <td>0</td>\n",
       "      <td>1</td>\n",
       "      <td>0</td>\n",
       "      <td>0</td>\n",
       "      <td>0</td>\n",
       "      <td>0</td>\n",
       "      <td>0</td>\n",
       "      <td>0</td>\n",
       "    </tr>\n",
       "    <tr>\n",
       "      <th>1</th>\n",
       "      <td>24.0</td>\n",
       "      <td>0</td>\n",
       "      <td>1</td>\n",
       "      <td>2</td>\n",
       "      <td>0</td>\n",
       "      <td>0</td>\n",
       "      <td>1</td>\n",
       "      <td>0</td>\n",
       "      <td>0</td>\n",
       "      <td>0</td>\n",
       "      <td>0</td>\n",
       "      <td>0</td>\n",
       "    </tr>\n",
       "    <tr>\n",
       "      <th>2</th>\n",
       "      <td>77.0</td>\n",
       "      <td>0</td>\n",
       "      <td>1</td>\n",
       "      <td>2</td>\n",
       "      <td>0</td>\n",
       "      <td>0</td>\n",
       "      <td>1</td>\n",
       "      <td>0</td>\n",
       "      <td>0</td>\n",
       "      <td>2</td>\n",
       "      <td>2</td>\n",
       "      <td>0</td>\n",
       "    </tr>\n",
       "    <tr>\n",
       "      <th>3</th>\n",
       "      <td>68.0</td>\n",
       "      <td>0</td>\n",
       "      <td>1</td>\n",
       "      <td>7</td>\n",
       "      <td>0</td>\n",
       "      <td>0</td>\n",
       "      <td>1</td>\n",
       "      <td>0</td>\n",
       "      <td>0</td>\n",
       "      <td>2</td>\n",
       "      <td>2</td>\n",
       "      <td>0</td>\n",
       "    </tr>\n",
       "    <tr>\n",
       "      <th>4</th>\n",
       "      <td>83.0</td>\n",
       "      <td>0</td>\n",
       "      <td>1</td>\n",
       "      <td>2</td>\n",
       "      <td>0</td>\n",
       "      <td>0</td>\n",
       "      <td>1</td>\n",
       "      <td>0</td>\n",
       "      <td>0</td>\n",
       "      <td>1</td>\n",
       "      <td>1</td>\n",
       "      <td>0</td>\n",
       "    </tr>\n",
       "    <tr>\n",
       "      <th>...</th>\n",
       "      <td>...</td>\n",
       "      <td>...</td>\n",
       "      <td>...</td>\n",
       "      <td>...</td>\n",
       "      <td>...</td>\n",
       "      <td>...</td>\n",
       "      <td>...</td>\n",
       "      <td>...</td>\n",
       "      <td>...</td>\n",
       "      <td>...</td>\n",
       "      <td>...</td>\n",
       "      <td>...</td>\n",
       "    </tr>\n",
       "    <tr>\n",
       "      <th>129995</th>\n",
       "      <td>79.0</td>\n",
       "      <td>0</td>\n",
       "      <td>1</td>\n",
       "      <td>1</td>\n",
       "      <td>1</td>\n",
       "      <td>0</td>\n",
       "      <td>0</td>\n",
       "      <td>0</td>\n",
       "      <td>0</td>\n",
       "      <td>1</td>\n",
       "      <td>1</td>\n",
       "      <td>0</td>\n",
       "    </tr>\n",
       "    <tr>\n",
       "      <th>129996</th>\n",
       "      <td>61.0</td>\n",
       "      <td>0</td>\n",
       "      <td>1</td>\n",
       "      <td>1</td>\n",
       "      <td>0</td>\n",
       "      <td>1</td>\n",
       "      <td>0</td>\n",
       "      <td>0</td>\n",
       "      <td>0</td>\n",
       "      <td>1</td>\n",
       "      <td>9</td>\n",
       "      <td>0</td>\n",
       "    </tr>\n",
       "    <tr>\n",
       "      <th>129997</th>\n",
       "      <td>52.0</td>\n",
       "      <td>0</td>\n",
       "      <td>1</td>\n",
       "      <td>4</td>\n",
       "      <td>1</td>\n",
       "      <td>0</td>\n",
       "      <td>0</td>\n",
       "      <td>0</td>\n",
       "      <td>0</td>\n",
       "      <td>0</td>\n",
       "      <td>0</td>\n",
       "      <td>0</td>\n",
       "    </tr>\n",
       "    <tr>\n",
       "      <th>129998</th>\n",
       "      <td>70.0</td>\n",
       "      <td>1</td>\n",
       "      <td>0</td>\n",
       "      <td>1</td>\n",
       "      <td>0</td>\n",
       "      <td>0</td>\n",
       "      <td>1</td>\n",
       "      <td>0</td>\n",
       "      <td>0</td>\n",
       "      <td>2</td>\n",
       "      <td>2</td>\n",
       "      <td>0</td>\n",
       "    </tr>\n",
       "    <tr>\n",
       "      <th>129999</th>\n",
       "      <td>77.0</td>\n",
       "      <td>0</td>\n",
       "      <td>1</td>\n",
       "      <td>4</td>\n",
       "      <td>0</td>\n",
       "      <td>0</td>\n",
       "      <td>1</td>\n",
       "      <td>0</td>\n",
       "      <td>0</td>\n",
       "      <td>0</td>\n",
       "      <td>0</td>\n",
       "      <td>0</td>\n",
       "    </tr>\n",
       "  </tbody>\n",
       "</table>\n",
       "<p>117000 rows × 12 columns</p>\n",
       "</div>"
      ],
      "text/plain": [
       "        IDADE  SEXO_F  SEXO_M  ADM_CORRENTE_DIAS  RECEB_MEDICAMENTOS  \\\n",
       "ID                                                                     \n",
       "0        62.0       1       0                  1                   0   \n",
       "1        24.0       0       1                  2                   0   \n",
       "2        77.0       0       1                  2                   0   \n",
       "3        68.0       0       1                  7                   0   \n",
       "4        83.0       0       1                  2                   0   \n",
       "...       ...     ...     ...                ...                 ...   \n",
       "129995   79.0       0       1                  1                   1   \n",
       "129996   61.0       0       1                  1                   0   \n",
       "129997   52.0       0       1                  4                   1   \n",
       "129998   70.0       1       0                  1                   0   \n",
       "129999   77.0       0       1                  4                   0   \n",
       "\n",
       "        FEZ_EXAMES  DEPEND_QUIMICO  FUMANTE  ALCOOLISMO  NUM_DIAS_INT_PREVIA  \\\n",
       "ID                                                                             \n",
       "0                1               0        0           0                    0   \n",
       "1                0               1        0           0                    0   \n",
       "2                0               1        0           0                    2   \n",
       "3                0               1        0           0                    2   \n",
       "4                0               1        0           0                    1   \n",
       "...            ...             ...      ...         ...                  ...   \n",
       "129995           0               0        0           0                    1   \n",
       "129996           1               0        0           0                    1   \n",
       "129997           0               0        0           0                    0   \n",
       "129998           0               1        0           0                    2   \n",
       "129999           0               1        0           0                    0   \n",
       "\n",
       "        ADM_PREVIA_DIAS  NUM_DIAS_LIC_MEDICA  \n",
       "ID                                            \n",
       "0                     0                    0  \n",
       "1                     0                    0  \n",
       "2                     2                    0  \n",
       "3                     2                    0  \n",
       "4                     1                    0  \n",
       "...                 ...                  ...  \n",
       "129995                1                    0  \n",
       "129996                9                    0  \n",
       "129997                0                    0  \n",
       "129998                2                    0  \n",
       "129999                0                    0  \n",
       "\n",
       "[117000 rows x 12 columns]"
      ]
     },
     "execution_count": 46,
     "metadata": {},
     "output_type": "execute_result"
    }
   ],
   "source": [
    "# Variáveis Explicativas\n",
    "dataset.iloc[:, 0:12]  "
   ]
  },
  {
   "cell_type": "code",
   "execution_count": 47,
   "metadata": {},
   "outputs": [
    {
     "data": {
      "text/plain": [
       "ID\n",
       "0         1\n",
       "1         0\n",
       "2         0\n",
       "3         0\n",
       "4         0\n",
       "         ..\n",
       "129995    0\n",
       "129996    1\n",
       "129997    0\n",
       "129998    0\n",
       "129999    0\n",
       "Name: READMISSAO_30_DIAS, Length: 117000, dtype: int64"
      ]
     },
     "execution_count": 47,
     "metadata": {},
     "output_type": "execute_result"
    }
   ],
   "source": [
    "# Variável Target\n",
    "dataset.iloc[:, -1] "
   ]
  },
  {
   "cell_type": "code",
   "execution_count": 48,
   "metadata": {},
   "outputs": [
    {
     "name": "stderr",
     "output_type": "stream",
     "text": [
      "Using TensorFlow backend.\n"
     ]
    }
   ],
   "source": [
    "# Importa a função\n",
    "# Se necessário, instale o pacote: \n",
    "# pip install imblearn\n",
    "from imblearn.over_sampling import SMOTE\n",
    "\n",
    "# Seed para reproduzir o mesmo resultado\n",
    "seed = 100\n",
    "\n",
    "# Separa X e y\n",
    "X = dataset.iloc[:, 0:12]  \n",
    "y = dataset.iloc[:, -1] \n",
    "\n",
    "# Cria o balanceador SMOTE\n",
    "smote_bal = SMOTE(random_state = seed)\n",
    "\n",
    "# Aplica o balanceador\n",
    "X_res, y_res = smote_bal.fit_resample(X, y)"
   ]
  },
  {
   "cell_type": "code",
   "execution_count": 49,
   "metadata": {},
   "outputs": [
    {
     "data": {
      "image/png": "[encoded data removed]",
      "text/plain": [
       "<Figure size 432x288 with 1 Axes>"
      ]
     },
     "metadata": {
      "needs_background": "light"
     },
     "output_type": "display_data"
    }
   ],
   "source": [
    "# Plot\n",
    "sns.countplot(y_res, palette = \"OrRd\")\n",
    "plt.box(False)\n",
    "plt.xlabel('Readmissão em 30 Dias Não (0) / Sim (1)', fontsize = 11)\n",
    "plt.ylabel('Total Pacientes', fontsize = 11)\n",
    "plt.title('Contagem de Classes\\n')\n",
    "plt.show()"
   ]
  },
  {
   "cell_type": "code",
   "execution_count": 50,
   "metadata": {},
   "outputs": [],
   "source": [
    "# Split em X e Y\n",
    "X = X_res\n",
    "Y = y_res"
   ]
  },
  {
   "cell_type": "code",
   "execution_count": 51,
   "metadata": {},
   "outputs": [
    {
     "data": {
      "text/plain": [
       "(189654, 12)"
      ]
     },
     "execution_count": 51,
     "metadata": {},
     "output_type": "execute_result"
    }
   ],
   "source": [
    "X.shape"
   ]
  },
  {
   "cell_type": "code",
   "execution_count": 52,
   "metadata": {},
   "outputs": [
    {
     "data": {
      "text/plain": [
       "(189654,)"
      ]
     },
     "execution_count": 52,
     "metadata": {},
     "output_type": "execute_result"
    }
   ],
   "source": [
    "Y.shape"
   ]
  },
  {
   "cell_type": "code",
   "execution_count": 53,
   "metadata": {},
   "outputs": [],
   "source": [
    "# Divisão dos dados em treino e teste\n",
    "from sklearn.model_selection import train_test_split\n",
    "\n",
    "test_size = 0.1\n",
    "X_treino, X_teste, Y_treino, Y_teste = train_test_split(X, Y, test_size = test_size, random_state = 7)"
   ]
  },
  {
   "cell_type": "code",
   "execution_count": 54,
   "metadata": {},
   "outputs": [
    {
     "data": {
      "text/plain": [
       "(170688, 12)"
      ]
     },
     "execution_count": 54,
     "metadata": {},
     "output_type": "execute_result"
    }
   ],
   "source": [
    "X_treino.shape"
   ]
  },
  {
   "cell_type": "code",
   "execution_count": 55,
   "metadata": {},
   "outputs": [
    {
     "data": {
      "text/plain": [
       "(170688,)"
      ]
     },
     "execution_count": 55,
     "metadata": {},
     "output_type": "execute_result"
    }
   ],
   "source": [
    "Y_treino.shape"
   ]
  },
  {
   "cell_type": "code",
   "execution_count": 56,
   "metadata": {},
   "outputs": [
    {
     "data": {
      "text/plain": [
       "(18966, 12)"
      ]
     },
     "execution_count": 56,
     "metadata": {},
     "output_type": "execute_result"
    }
   ],
   "source": [
    "X_teste.shape"
   ]
  },
  {
   "cell_type": "code",
   "execution_count": 57,
   "metadata": {},
   "outputs": [
    {
     "data": {
      "text/plain": [
       "(18966,)"
      ]
     },
     "execution_count": 57,
     "metadata": {},
     "output_type": "execute_result"
    }
   ],
   "source": [
    "Y_teste.shape"
   ]
  },
  {
   "cell_type": "markdown",
   "metadata": {},
   "source": [
    "## Construção dos Modelos Preditivos"
   ]
  },
  {
   "cell_type": "code",
   "execution_count": 58,
   "metadata": {},
   "outputs": [],
   "source": [
    "# Imports\n",
    "import keras\n",
    "import tensorflow\n",
    "import sklearn\n",
    "import scikitplot as skplt\n",
    "import matplotlib.pyplot as plt\n",
    "from sklearn.linear_model import LogisticRegression\n",
    "from sklearn.ensemble import RandomForestClassifier\n",
    "from sklearn.naive_bayes import GaussianNB, BernoulliNB, MultinomialNB\n",
    "from sklearn.neighbors import KNeighborsClassifier\n",
    "from keras.models import Sequential\n",
    "from keras.layers import Dense, Dropout\n",
    "from sklearn.model_selection import cross_validate\n",
    "from sklearn.metrics import confusion_matrix, roc_auc_score\n",
    "from sklearn.metrics import classification_report, matthews_corrcoef, accuracy_score\n",
    "from sklearn.metrics import roc_curve, auc"
   ]
  },
  {
   "cell_type": "code",
   "execution_count": 59,
   "metadata": {},
   "outputs": [
    {
     "data": {
      "text/plain": [
       "'2.1.0'"
      ]
     },
     "execution_count": 59,
     "metadata": {},
     "output_type": "execute_result"
    }
   ],
   "source": [
    "tensorflow.__version__"
   ]
  },
  {
   "cell_type": "code",
   "execution_count": 60,
   "metadata": {},
   "outputs": [
    {
     "data": {
      "text/plain": [
       "'2.3.1'"
      ]
     },
     "execution_count": 60,
     "metadata": {},
     "output_type": "execute_result"
    }
   ],
   "source": [
    "keras.__version__"
   ]
  },
  {
   "cell_type": "code",
   "execution_count": 61,
   "metadata": {},
   "outputs": [
    {
     "data": {
      "text/plain": [
       "'0.22.2'"
      ]
     },
     "execution_count": 61,
     "metadata": {},
     "output_type": "execute_result"
    }
   ],
   "source": [
    "sklearn.__version__"
   ]
  },
  {
   "cell_type": "markdown",
   "metadata": {},
   "source": [
    "#### Versão 1 - Regressão Logística"
   ]
  },
  {
   "cell_type": "markdown",
   "metadata": {},
   "source": [
    "https://scikit-learn.org/stable/modules/generated/sklearn.linear_model.LogisticRegression.html"
   ]
  },
  {
   "cell_type": "code",
   "execution_count": 62,
   "metadata": {},
   "outputs": [
    {
     "data": {
      "text/plain": [
       "LogisticRegression(C=1.0, class_weight=None, dual=False, fit_intercept=True,\n",
       "                   intercept_scaling=1, l1_ratio=None, max_iter=600,\n",
       "                   multi_class='auto', n_jobs=None, penalty='l2',\n",
       "                   random_state=None, solver='lbfgs', tol=0.0001, verbose=0,\n",
       "                   warm_start=False)"
      ]
     },
     "execution_count": 62,
     "metadata": {},
     "output_type": "execute_result"
    }
   ],
   "source": [
    "# Cria e treina o modelo\n",
    "modelo_v1 = LogisticRegression(max_iter = 600)\n",
    "modelo_v1.fit(X_treino, Y_treino)"
   ]
  },
  {
   "cell_type": "code",
   "execution_count": 63,
   "metadata": {},
   "outputs": [
    {
     "data": {
      "text/plain": [
       "array([[0.73235991, 0.26764009],\n",
       "       [0.18340222, 0.81659778],\n",
       "       [0.00190397, 0.99809603],\n",
       "       ...,\n",
       "       [0.19791024, 0.80208976],\n",
       "       [0.00248856, 0.99751144],\n",
       "       [0.20003318, 0.79996682]])"
      ]
     },
     "execution_count": 63,
     "metadata": {},
     "output_type": "execute_result"
    }
   ],
   "source": [
    "# Previsões (probabilidades)\n",
    "previsoes_v1 = modelo_v1.predict_proba(X_teste)\n",
    "previsoes_v1"
   ]
  },
  {
   "cell_type": "code",
   "execution_count": 64,
   "metadata": {},
   "outputs": [
    {
     "data": {
      "text/plain": [
       "array([0, 1, 1, ..., 1, 1, 1])"
      ]
     },
     "execution_count": 64,
     "metadata": {},
     "output_type": "execute_result"
    }
   ],
   "source": [
    "# Previsões (classes)\n",
    "previsoes_v1 = modelo_v1.predict(X_teste)\n",
    "previsoes_v1"
   ]
  },
  {
   "cell_type": "markdown",
   "metadata": {},
   "source": [
    "<img src=\"imagens/matriz.png\" alt=\"Drawing\"/>"
   ]
  },
  {
   "cell_type": "code",
   "execution_count": 65,
   "metadata": {},
   "outputs": [
    {
     "name": "stdout",
     "output_type": "stream",
     "text": [
      "[[7814 1688]\n",
      " [2669 6795]]\n"
     ]
    }
   ],
   "source": [
    "matriz_v1 = confusion_matrix(Y_teste, previsoes_v1)\n",
    "print(matriz_v1)"
   ]
  },
  {
   "cell_type": "code",
   "execution_count": 66,
   "metadata": {},
   "outputs": [
    {
     "name": "stdout",
     "output_type": "stream",
     "text": [
      "                    precision    recall  f1-score   support\n",
      "\n",
      "Não Readmitido (0)       0.75      0.82      0.78      9502\n",
      "    Readmitido (1)       0.80      0.72      0.76      9464\n",
      "\n",
      "          accuracy                           0.77     18966\n",
      "         macro avg       0.77      0.77      0.77     18966\n",
      "      weighted avg       0.77      0.77      0.77     18966\n",
      "\n"
     ]
    }
   ],
   "source": [
    "# Relatório de classificação\n",
    "classe_names = ['Não Readmitido (0)', 'Readmitido (1)']\n",
    "report = classification_report(Y_teste, previsoes_v1, target_names = classe_names)\n",
    "print(report)"
   ]
  },
  {
   "cell_type": "markdown",
   "metadata": {},
   "source": [
    "* Score AUC\n",
    "\n",
    "AUC é uma abreviação de Área Sob a Curva. É usado na análise de classificação para determinar quão bem o modelo prediz a classe de saída.\n",
    "\n",
    "Um exemplo de sua aplicação são as curvas ROC. Aqui, as taxas de verdadeiros positivos são plotadas contra taxas de falsos positivos. Quanto mais próxima a AUC de um modelo chegar a 1, melhor será. Assim, os modelos com AUCs mais altas são preferíveis aos modelos com AUCs mais baixas.\n",
    "\n",
    "https://scikit-learn.org/stable/modules/generated/sklearn.metrics.roc_auc_score.html"
   ]
  },
  {
   "cell_type": "code",
   "execution_count": 67,
   "metadata": {},
   "outputs": [
    {
     "name": "stdout",
     "output_type": "stream",
     "text": [
      "0.7701685639700714\n"
     ]
    }
   ],
   "source": [
    "# Score AUC\n",
    "print(roc_auc_score(Y_teste, previsoes_v1))"
   ]
  },
  {
   "cell_type": "code",
   "execution_count": 68,
   "metadata": {},
   "outputs": [],
   "source": [
    "# Extrai as taxas de verdadeiros e falsos positivos\n",
    "taxa_falso_positivo, taxa_verdadeiro_positivo, thresholds = roc_curve(Y_teste, previsoes_v1)"
   ]
  },
  {
   "cell_type": "code",
   "execution_count": 69,
   "metadata": {},
   "outputs": [
    {
     "data": {
      "text/plain": [
       "array([0.        , 0.17764681, 1.        ])"
      ]
     },
     "execution_count": 69,
     "metadata": {},
     "output_type": "execute_result"
    }
   ],
   "source": [
    "taxa_falso_positivo"
   ]
  },
  {
   "cell_type": "code",
   "execution_count": 70,
   "metadata": {},
   "outputs": [
    {
     "data": {
      "text/plain": [
       "array([0.        , 0.71798394, 1.        ])"
      ]
     },
     "execution_count": 70,
     "metadata": {},
     "output_type": "execute_result"
    }
   ],
   "source": [
    "taxa_verdadeiro_positivo"
   ]
  },
  {
   "cell_type": "code",
   "execution_count": 71,
   "metadata": {},
   "outputs": [
    {
     "data": {
      "text/plain": [
       "array([2, 1, 0])"
      ]
     },
     "execution_count": 71,
     "metadata": {},
     "output_type": "execute_result"
    }
   ],
   "source": [
    "thresholds"
   ]
  },
  {
   "cell_type": "code",
   "execution_count": 72,
   "metadata": {},
   "outputs": [
    {
     "name": "stdout",
     "output_type": "stream",
     "text": [
      "0.7701685639700714\n"
     ]
    }
   ],
   "source": [
    "# Score AUC\n",
    "print(auc(taxa_falso_positivo, taxa_verdadeiro_positivo))"
   ]
  },
  {
   "cell_type": "code",
   "execution_count": 73,
   "metadata": {},
   "outputs": [
    {
     "name": "stdout",
     "output_type": "stream",
     "text": [
      "0.7701685639700714\n"
     ]
    }
   ],
   "source": [
    "# Score AUCROC - Caso 1\n",
    "y_pred_class = modelo_v1.predict(X_teste)\n",
    "print(roc_auc_score(Y_teste, y_pred_class))"
   ]
  },
  {
   "cell_type": "code",
   "execution_count": 74,
   "metadata": {},
   "outputs": [
    {
     "name": "stdout",
     "output_type": "stream",
     "text": [
      "0.8353567076148759\n"
     ]
    }
   ],
   "source": [
    "# Score AUCROC - Caso 2\n",
    "# Por que o resultado é diferente?\n",
    "y_pred_probs = modelo_v1.predict_proba(X_teste)[:,1] # Usamos [:,1] para buscar as probabilidades da classe positiva.\n",
    "print(roc_auc_score(Y_teste, y_pred_probs))"
   ]
  },
  {
   "cell_type": "markdown",
   "metadata": {},
   "source": [
    "A função predict() retorna apenas uma classe ou outra. Em seguida, você calcula um ROC com os resultados da previsão do modelo. Por outro lado, predict_proba() retorna uma gama inteira de probabilidades.\n",
    "\n",
    "Ao usar o y_pred_class, você já decidiu o limite ou threshold (a função predict fez isso). Quando você usa y_pred_probs, você ainda não tem o limite, e a Curva ROC vai decidir o limite ao final. \n",
    "\n",
    "No Caso 1, você está usando a previsão (não as probabilidades), ou seja, a função já calculou o limite antes de calcular as classes previstas e isso é usado para calcular o AUC.\n",
    "\n",
    "No Caso 2 estamos usando as probabilidades, ou seja, a função vai calcular o limite somente depois de criar a curva ROC, para então calcular o AUC.\n",
    "\n",
    "Em resumo: \n",
    "\n",
    "- No Caso 1, a curva ROC é calculada para as duas classes com o limite (threshold) definido antes do cálculo do AUC.\n",
    "- No Caso 2, a curva ROC é calculada para as duas classes com o limite (threshold) definido depois da criação da curva e então o AUC é calculado.\n",
    "\n",
    "\n",
    "Por isso os valores são diferentes."
   ]
  },
  {
   "cell_type": "code",
   "execution_count": 75,
   "metadata": {},
   "outputs": [
    {
     "data": {
      "image/png": "[encoded data removed]",
      "text/plain": [
       "<Figure size 432x288 with 1 Axes>"
      ]
     },
     "metadata": {
      "needs_background": "light"
     },
     "output_type": "display_data"
    }
   ],
   "source": [
    "# Calcula a Curva ROC para cada classe\n",
    "y_probs_v1 = modelo_v1.predict_proba(X_teste)\n",
    "skplt.metrics.plot_roc_curve(Y_teste, y_probs_v1)\n",
    "plt.show()"
   ]
  },
  {
   "cell_type": "code",
   "execution_count": 76,
   "metadata": {},
   "outputs": [],
   "source": [
    "# Se as classes estiverem desbalanceadas, o ideal é usar a curva precision-recall \n",
    "from sklearn.metrics import precision_recall_curve\n",
    "\n",
    "y_probs = modelo_v1.predict_proba(X_teste)[:,1]\n",
    "precision, recall, thresholds = precision_recall_curve(Y_teste, y_probs)"
   ]
  },
  {
   "cell_type": "code",
   "execution_count": 77,
   "metadata": {},
   "outputs": [
    {
     "data": {
      "text/plain": [
       "array([0.49955133, 0.49952492, 0.49955129, ..., 1.        , 1.        ,\n",
       "       1.        ])"
      ]
     },
     "execution_count": 77,
     "metadata": {},
     "output_type": "execute_result"
    }
   ],
   "source": [
    "precision"
   ]
  },
  {
   "cell_type": "code",
   "execution_count": 78,
   "metadata": {},
   "outputs": [
    {
     "data": {
      "text/plain": [
       "array([1.00000000e+00, 9.99894336e-01, 9.99894336e-01, ...,\n",
       "       2.11327134e-04, 1.05663567e-04, 0.00000000e+00])"
      ]
     },
     "execution_count": 78,
     "metadata": {},
     "output_type": "execute_result"
    }
   ],
   "source": [
    "recall"
   ]
  },
  {
   "cell_type": "code",
   "execution_count": 79,
   "metadata": {},
   "outputs": [
    {
     "data": {
      "image/png": "[encoded data removed]",
      "text/plain": [
       "<Figure size 432x288 with 1 Axes>"
      ]
     },
     "metadata": {
      "needs_background": "light"
     },
     "output_type": "display_data"
    }
   ],
   "source": [
    "# Plot da curva precision-recall \n",
    "plt.plot(recall, precision, marker = '.', label = 'Regressão Logística')\n",
    "plt.xlabel('Recall')\n",
    "plt.ylabel('Precision')\n",
    "plt.legend()\n",
    "plt.show()"
   ]
  },
  {
   "cell_type": "markdown",
   "metadata": {},
   "source": [
    "* Coeficiente de Correlação de Matthews\n",
    "\n",
    "O coeficiente de correlação de Matthews é usado em aprendizado de máquina como uma medida de qualidade em classificação binária, introduzido pelo bioquímico Brian W. Matthews em 1975. Ele leva em conta verdadeiros e falsos positivos e negativos e é geralmente considerado como um medida equilibrada, que pode ser usado mesmo se as classes são de tamanhos muito diferentes. \n",
    "\n",
    "O MCC é, em essência, um coeficiente de correlação entre as classificações binárias observadas e previstas; ele retorna um valor entre -1 e +1. Um coeficiente de 1 representa uma predição perfeita, 0 não melhor do que a previsão aleatória e -1 indica total discordância entre previsão e observação (inversão). \n",
    "\n",
    "https://scikit-learn.org/stable/modules/generated/sklearn.metrics.matthews_corrcoef.html\n",
    "\n",
    "Embora não exista uma forma perfeita de descrever a matriz de confusão por um número único, o coeficiente de correlação Matthews é geralmente considerado como sendo um dos melhores para este fim. Outras medidas, como a proporção de previsões corretas (também denominado de precisão), não são úteis quando as duas classes são de tamanhos muito diferentes. Por exemplo, a atribuição de cada objeto para o conjunto maior alcança uma alta proporção de previsões corretas, mas geralmente não é uma classificação útil.\n",
    "\n",
    "O MCC pode ser calculado diretamente a partir da matriz de confusão usando a fórmula:\n",
    "\n",
    "<img src=\"imagens/mcc.png\" alt=\"Drawing\"/>"
   ]
  },
  {
   "cell_type": "code",
   "execution_count": 80,
   "metadata": {},
   "outputs": [
    {
     "name": "stdout",
     "output_type": "stream",
     "text": [
      "0.5433656279602246\n"
     ]
    }
   ],
   "source": [
    "# Coeficiente de Correlação de Matthews\n",
    "print(matthews_corrcoef(Y_teste, previsoes_v1))"
   ]
  },
  {
   "cell_type": "markdown",
   "metadata": {},
   "source": [
    "#### Versão 2 - RandomForest"
   ]
  },
  {
   "cell_type": "markdown",
   "metadata": {},
   "source": [
    "https://scikit-learn.org/stable/modules/generated/sklearn.ensemble.RandomForestClassifier.html"
   ]
  },
  {
   "cell_type": "markdown",
   "metadata": {},
   "source": [
    "O RandomForest, como o próprio nome indica, consiste em um grande número de árvores de decisão individuais que funcionam como um conjunto. Cada árvore individual na \"floresta aleatória\" gera uma previsão de classe e a classe com mais votos se torna a previsão do nosso modelo."
   ]
  },
  {
   "cell_type": "markdown",
   "metadata": {},
   "source": [
    "<img src=\"imagens/randomforest.png\" alt=\"Drawing\"/>"
   ]
  },
  {
   "cell_type": "markdown",
   "metadata": {},
   "source": [
    "O conceito fundamental por trás do RandomForest é simples, mas poderoso - a sabedoria das multidões. Em termos de ciência de dados, a razão pela qual esse modelo funciona tão bem é:\n",
    "\n",
    "Um grande número de modelos (árvores) relativamente não correlacionados que operam como um comitê superará qualquer um dos modelos constituintes individuais.\n",
    "\n",
    "A baixa correlação entre os modelos é a chave. Assim como os investimentos com baixas correlações (como ações e títulos) se juntam para formar um portfólio maior que a soma de suas partes, os modelos não correlacionados podem produzir previsões de conjuntos mais precisas do que as previsões individuais. \n",
    "\n",
    "A razão desse maravilhoso efeito é que as árvores se protegem de seus erros individuais (desde que nem sempre erram na mesma direção). Enquanto algumas árvores podem estar erradas, muitas outras estão certas, então, como um grupo, as árvores podem se mover na direção correta. Portanto, os pré-requisitos para um bom desempenho desse modelo são:\n",
    "\n",
    "- É necessário que haja algum sinal real em nossos recursos, para que os modelos criados com esses recursos sejam melhores do que a adivinhação aleatória.\n",
    "\n",
    "- As previsões (e, portanto, os erros) feitas pelas árvores individuais precisam ter baixas correlações entre si."
   ]
  },
  {
   "cell_type": "code",
   "execution_count": 81,
   "metadata": {},
   "outputs": [
    {
     "data": {
      "text/plain": [
       "RandomForestClassifier(bootstrap=True, ccp_alpha=0.0, class_weight=None,\n",
       "                       criterion='gini', max_depth=None, max_features='auto',\n",
       "                       max_leaf_nodes=None, max_samples=None,\n",
       "                       min_impurity_decrease=0.0, min_impurity_split=None,\n",
       "                       min_samples_leaf=1, min_samples_split=2,\n",
       "                       min_weight_fraction_leaf=0.0, n_estimators=150,\n",
       "                       n_jobs=None, oob_score=False, random_state=None,\n",
       "                       verbose=0, warm_start=False)"
      ]
     },
     "execution_count": 81,
     "metadata": {},
     "output_type": "execute_result"
    }
   ],
   "source": [
    "# Cria e treina o modelo\n",
    "modelo_v2 = RandomForestClassifier(n_estimators = 150)\n",
    "modelo_v2.fit(X_treino, Y_treino)"
   ]
  },
  {
   "cell_type": "code",
   "execution_count": 82,
   "metadata": {},
   "outputs": [
    {
     "name": "stdout",
     "output_type": "stream",
     "text": [
      "[[8120 1382]\n",
      " [1707 7757]]\n"
     ]
    }
   ],
   "source": [
    "# Previsões\n",
    "previsoes_v2 = modelo_v2.predict(X_teste)\n",
    "matriz_v2 = confusion_matrix(Y_teste, previsoes_v2)\n",
    "print(matriz_v2)"
   ]
  },
  {
   "cell_type": "code",
   "execution_count": 83,
   "metadata": {},
   "outputs": [
    {
     "name": "stdout",
     "output_type": "stream",
     "text": [
      "              precision    recall  f1-score   support\n",
      "\n",
      "           0       0.83      0.85      0.84      9502\n",
      "           1       0.85      0.82      0.83      9464\n",
      "\n",
      "    accuracy                           0.84     18966\n",
      "   macro avg       0.84      0.84      0.84     18966\n",
      "weighted avg       0.84      0.84      0.84     18966\n",
      "\n"
     ]
    }
   ],
   "source": [
    "# Relatório de classificação\n",
    "report = classification_report(Y_teste, previsoes_v2)\n",
    "print(report)"
   ]
  },
  {
   "cell_type": "code",
   "execution_count": 84,
   "metadata": {},
   "outputs": [
    {
     "name": "stdout",
     "output_type": "stream",
     "text": [
      "0.8370946130840808\n"
     ]
    }
   ],
   "source": [
    "# Score AUC\n",
    "print(roc_auc_score(Y_teste, previsoes_v2))"
   ]
  },
  {
   "cell_type": "code",
   "execution_count": 85,
   "metadata": {},
   "outputs": [
    {
     "data": {
      "image/png": "[encoded data removed]",
      "text/plain": [
       "<Figure size 432x288 with 1 Axes>"
      ]
     },
     "metadata": {
      "needs_background": "light"
     },
     "output_type": "display_data"
    }
   ],
   "source": [
    "# Calcula a Curva ROC para cada classe\n",
    "y_probs_v2 = modelo_v2.predict_proba(X_teste)\n",
    "skplt.metrics.plot_roc_curve(Y_teste, y_probs_v2)\n",
    "plt.show()"
   ]
  },
  {
   "cell_type": "code",
   "execution_count": 86,
   "metadata": {},
   "outputs": [
    {
     "name": "stdout",
     "output_type": "stream",
     "text": [
      "0.6746318956788458\n"
     ]
    }
   ],
   "source": [
    "# Coeficiente de Correlação Matthews\n",
    "print(matthews_corrcoef(Y_teste, previsoes_v2))"
   ]
  },
  {
   "cell_type": "code",
   "execution_count": 87,
   "metadata": {},
   "outputs": [
    {
     "data": {
      "text/html": [
       "<div>\n",
       "<style scoped>\n",
       "    .dataframe tbody tr th:only-of-type {\n",
       "        vertical-align: middle;\n",
       "    }\n",
       "\n",
       "    .dataframe tbody tr th {\n",
       "        vertical-align: top;\n",
       "    }\n",
       "\n",
       "    .dataframe thead th {\n",
       "        text-align: right;\n",
       "    }\n",
       "</style>\n",
       "<table border=\"1\" class=\"dataframe\">\n",
       "  <thead>\n",
       "    <tr style=\"text-align: right;\">\n",
       "      <th></th>\n",
       "      <th>IDADE</th>\n",
       "      <th>SEXO_F</th>\n",
       "      <th>SEXO_M</th>\n",
       "      <th>ADM_CORRENTE_DIAS</th>\n",
       "      <th>RECEB_MEDICAMENTOS</th>\n",
       "      <th>FEZ_EXAMES</th>\n",
       "      <th>DEPEND_QUIMICO</th>\n",
       "      <th>FUMANTE</th>\n",
       "      <th>ALCOOLISMO</th>\n",
       "      <th>NUM_DIAS_INT_PREVIA</th>\n",
       "      <th>ADM_PREVIA_DIAS</th>\n",
       "      <th>NUM_DIAS_LIC_MEDICA</th>\n",
       "    </tr>\n",
       "  </thead>\n",
       "  <tbody>\n",
       "    <tr>\n",
       "      <th>146799</th>\n",
       "      <td>76.00000</td>\n",
       "      <td>0</td>\n",
       "      <td>1</td>\n",
       "      <td>1</td>\n",
       "      <td>0</td>\n",
       "      <td>1</td>\n",
       "      <td>0</td>\n",
       "      <td>0</td>\n",
       "      <td>0</td>\n",
       "      <td>1</td>\n",
       "      <td>2</td>\n",
       "      <td>0</td>\n",
       "    </tr>\n",
       "    <tr>\n",
       "      <th>13873</th>\n",
       "      <td>54.00000</td>\n",
       "      <td>0</td>\n",
       "      <td>1</td>\n",
       "      <td>1</td>\n",
       "      <td>1</td>\n",
       "      <td>0</td>\n",
       "      <td>0</td>\n",
       "      <td>0</td>\n",
       "      <td>0</td>\n",
       "      <td>0</td>\n",
       "      <td>0</td>\n",
       "      <td>0</td>\n",
       "    </tr>\n",
       "    <tr>\n",
       "      <th>141112</th>\n",
       "      <td>53.00000</td>\n",
       "      <td>0</td>\n",
       "      <td>1</td>\n",
       "      <td>1</td>\n",
       "      <td>0</td>\n",
       "      <td>0</td>\n",
       "      <td>0</td>\n",
       "      <td>0</td>\n",
       "      <td>0</td>\n",
       "      <td>4</td>\n",
       "      <td>8</td>\n",
       "      <td>0</td>\n",
       "    </tr>\n",
       "    <tr>\n",
       "      <th>178346</th>\n",
       "      <td>42.94967</td>\n",
       "      <td>0</td>\n",
       "      <td>1</td>\n",
       "      <td>1</td>\n",
       "      <td>0</td>\n",
       "      <td>0</td>\n",
       "      <td>1</td>\n",
       "      <td>0</td>\n",
       "      <td>0</td>\n",
       "      <td>0</td>\n",
       "      <td>0</td>\n",
       "      <td>0</td>\n",
       "    </tr>\n",
       "    <tr>\n",
       "      <th>49564</th>\n",
       "      <td>73.00000</td>\n",
       "      <td>0</td>\n",
       "      <td>1</td>\n",
       "      <td>7</td>\n",
       "      <td>0</td>\n",
       "      <td>0</td>\n",
       "      <td>1</td>\n",
       "      <td>0</td>\n",
       "      <td>0</td>\n",
       "      <td>0</td>\n",
       "      <td>0</td>\n",
       "      <td>0</td>\n",
       "    </tr>\n",
       "  </tbody>\n",
       "</table>\n",
       "</div>"
      ],
      "text/plain": [
       "           IDADE  SEXO_F  SEXO_M  ADM_CORRENTE_DIAS  RECEB_MEDICAMENTOS  \\\n",
       "146799  76.00000       0       1                  1                   0   \n",
       "13873   54.00000       0       1                  1                   1   \n",
       "141112  53.00000       0       1                  1                   0   \n",
       "178346  42.94967       0       1                  1                   0   \n",
       "49564   73.00000       0       1                  7                   0   \n",
       "\n",
       "        FEZ_EXAMES  DEPEND_QUIMICO  FUMANTE  ALCOOLISMO  NUM_DIAS_INT_PREVIA  \\\n",
       "146799           1               0        0           0                    1   \n",
       "13873            0               0        0           0                    0   \n",
       "141112           0               0        0           0                    4   \n",
       "178346           0               1        0           0                    0   \n",
       "49564            0               1        0           0                    0   \n",
       "\n",
       "        ADM_PREVIA_DIAS  NUM_DIAS_LIC_MEDICA  \n",
       "146799                2                    0  \n",
       "13873                 0                    0  \n",
       "141112                8                    0  \n",
       "178346                0                    0  \n",
       "49564                 0                    0  "
      ]
     },
     "execution_count": 87,
     "metadata": {},
     "output_type": "execute_result"
    }
   ],
   "source": [
    "X_treino.head()"
   ]
  },
  {
   "cell_type": "markdown",
   "metadata": {},
   "source": [
    "#### Versão 3 - Naive Bayes"
   ]
  },
  {
   "cell_type": "markdown",
   "metadata": {},
   "source": [
    "https://scikit-learn.org/stable/modules/generated/sklearn.naive_bayes.GaussianNB.html\n",
    "\n",
    "https://scikit-learn.org/stable/modules/classes.html#module-sklearn.naive_bayes"
   ]
  },
  {
   "cell_type": "markdown",
   "metadata": {},
   "source": [
    "Um classificador Naive Bayes é um modelo probabilístico de aprendizado de máquina usado para tarefas de classificação. \n",
    "\n",
    "O cerne do classificador é baseado no Teorema de Bayes. Usando o Teorema de Bayes, podemos encontrar a probabilidade de A acontecer, dado que B ocorreu. Aqui, B é a evidência e A é a hipótese. A suposição feita aqui é que os preditores / características são independentes, ou seja, a presença de um recurso em particular não afeta o outro. Por isso, é chamado ingênuo (naive)."
   ]
  },
  {
   "cell_type": "markdown",
   "metadata": {},
   "source": [
    "<img src=\"imagens/naive1.png\" alt=\"Drawing\"/>"
   ]
  },
  {
   "cell_type": "markdown",
   "metadata": {},
   "source": [
    "A fórmula considerando cada variável explicstiva x1, x2, ..., xn."
   ]
  },
  {
   "cell_type": "markdown",
   "metadata": {},
   "source": [
    "<img src=\"imagens/naive2.png\" alt=\"Drawing\"/>"
   ]
  },
  {
   "cell_type": "markdown",
   "metadata": {},
   "source": [
    "No nosso caso, a variável de classe (y) tem apenas dois resultados, sim ou não. Pode haver casos em que a classificação possa ser multivariada. Portanto, precisamos encontrar a classe y com probabilidade máxima."
   ]
  },
  {
   "cell_type": "markdown",
   "metadata": {},
   "source": [
    "<img src=\"imagens/naive3.png\" alt=\"Drawing\"/>"
   ]
  },
  {
   "cell_type": "markdown",
   "metadata": {},
   "source": [
    "Os algoritmos Naive Bayes são usados principalmente em análise de sentimentos, filtragem de spam, sistemas de recomendação etc. Eles são rápidos e fáceis de implementar, mas sua maior desvantagem é que o requisito dos preditores é independente. Na maioria dos casos da vida real, os preditores são dependentes, o que dificulta o desempenho do classificador."
   ]
  },
  {
   "cell_type": "code",
   "execution_count": 88,
   "metadata": {},
   "outputs": [
    {
     "data": {
      "text/plain": [
       "GaussianNB(priors=None, var_smoothing=1e-09)"
      ]
     },
     "execution_count": 88,
     "metadata": {},
     "output_type": "execute_result"
    }
   ],
   "source": [
    "# Cria e treina o modelo GaussianNB (variáveis quantitativas com distribuição normal)\n",
    "modelo_v3 = GaussianNB()\n",
    "modelo_v3.fit(X_treino, Y_treino)\n",
    "\n",
    "# Cria e treina o modelo MultinomialNB (variáveis quantitativas discretas)\n",
    "#modelo_v3 = MultinomialNB()\n",
    "#modelo_v3.fit(X_treino, Y_treino)\n",
    "\n",
    "# Cria e treina o modelo BernoulliNB (variáveis quantitativas discretas)\n",
    "#modelo_v3 = BernoulliNB()\n",
    "#modelo_v3.fit(X_treino, Y_treino)"
   ]
  },
  {
   "cell_type": "code",
   "execution_count": 89,
   "metadata": {},
   "outputs": [
    {
     "name": "stdout",
     "output_type": "stream",
     "text": [
      "[[7685 1817]\n",
      " [3279 6185]]\n"
     ]
    }
   ],
   "source": [
    "# Previsões\n",
    "previsoes_v3 = modelo_v3.predict(X_teste)\n",
    "matriz_v3 = confusion_matrix(Y_teste, previsoes_v3)\n",
    "print(matriz_v3)"
   ]
  },
  {
   "cell_type": "code",
   "execution_count": 90,
   "metadata": {},
   "outputs": [
    {
     "name": "stdout",
     "output_type": "stream",
     "text": [
      "              precision    recall  f1-score   support\n",
      "\n",
      "           0       0.70      0.81      0.75      9502\n",
      "           1       0.77      0.65      0.71      9464\n",
      "\n",
      "    accuracy                           0.73     18966\n",
      "   macro avg       0.74      0.73      0.73     18966\n",
      "weighted avg       0.74      0.73      0.73     18966\n",
      "\n"
     ]
    }
   ],
   "source": [
    "# Relatório de classificação\n",
    "report = classification_report(Y_teste, previsoes_v3)\n",
    "print(report)"
   ]
  },
  {
   "cell_type": "code",
   "execution_count": 91,
   "metadata": {},
   "outputs": [
    {
     "name": "stdout",
     "output_type": "stream",
     "text": [
      "0.7311531313512678\n"
     ]
    }
   ],
   "source": [
    "# Score AUC\n",
    "print(roc_auc_score(Y_teste, previsoes_v3))"
   ]
  },
  {
   "cell_type": "code",
   "execution_count": 92,
   "metadata": {},
   "outputs": [
    {
     "data": {
      "image/png": "[encoded data removed]",
      "text/plain": [
       "<Figure size 432x288 with 1 Axes>"
      ]
     },
     "metadata": {
      "needs_background": "light"
     },
     "output_type": "display_data"
    }
   ],
   "source": [
    "# Calcula a Curva ROC para cada classe\n",
    "y_probs_v3 = modelo_v3.predict_proba(X_teste)\n",
    "skplt.metrics.plot_roc_curve(Y_teste, y_probs_v3)\n",
    "plt.show()"
   ]
  },
  {
   "cell_type": "code",
   "execution_count": 93,
   "metadata": {},
   "outputs": [
    {
     "name": "stdout",
     "output_type": "stream",
     "text": [
      "0.4680485116987696\n"
     ]
    }
   ],
   "source": [
    "# Coeficiente de Correlação Matthews\n",
    "print(matthews_corrcoef(Y_teste, previsoes_v3))"
   ]
  },
  {
   "cell_type": "markdown",
   "metadata": {},
   "source": [
    "#### Versão 4 - KNN"
   ]
  },
  {
   "cell_type": "markdown",
   "metadata": {},
   "source": [
    "https://scikit-learn.org/stable/modules/generated/sklearn.neighbors.KNeighborsClassifier.html"
   ]
  },
  {
   "cell_type": "markdown",
   "metadata": {},
   "source": [
    "Algoritmo K-vizinhos mais próximos (ou K-Nearest Neighbors - KNN) é um dos algoritmos de classificação mais simples e é um dos algoritmos de aprendizado mais utilizados. \n",
    "\n",
    "O KNN é um algoritmo de aprendizado não paramétrico e \"preguiçoso\". Seu objetivo é usar um banco de dados no qual os pontos de dados são separados em várias classes para prever a classificação de um novo ponto de amostra.\n",
    "\n",
    "Quando dizemos que uma técnica não é paramétrica, significa que ela não faz nenhuma suposição sobre a distribuição de dados. Em outras palavras, a estrutura do modelo é determinada a partir dos dados. Se você pensar bem, é bastante útil, porque no \"mundo real\", a maioria dos dados não obedece às suposições teóricas típicas feitas (como nos modelos de regressão linear, por exemplo). Portanto, o KNN poderia e provavelmente deveria ser uma das primeiras escolhas para um estudo de classificação quando há pouco ou nenhum conhecimento prévio sobre a distribuição dos dados.\n",
    "\n",
    "O KNN também é um algoritmo \"preguiçoso\" (em oposição a um algoritmo \"ganancioso\"). O que isso significa é que ele não usa os pontos de dados de treinamento para fazer qualquer generalização. Em outras palavras, não há fase de treinamento explícita ou é muito mínima. Isso também significa que a fase de treinamento é bem rápida. A falta de generalização significa que o KNN mantém todos os dados de treinamento. Para ser mais exato, todos (ou a maioria) dos dados de treinamento são necessários durante a fase de teste.\n"
   ]
  },
  {
   "cell_type": "markdown",
   "metadata": {},
   "source": [
    "<img src=\"imagens/knn.png\" alt=\"Drawing\"/>"
   ]
  },
  {
   "cell_type": "markdown",
   "metadata": {},
   "source": [
    "O KNN pode ser usado para classificação - a saída é uma associação de classe (prevê uma classe - um valor discreto). Um objeto é classificado pelo voto majoritário de seus vizinhos, sendo o objeto atribuído à classe mais comum entre os k vizinhos mais próximos. Também pode ser usado para regressão - a saída é o valor do objeto (prevê valores contínuos). Este valor é a média (ou mediana) dos valores de seus k vizinhos mais próximos."
   ]
  },
  {
   "cell_type": "code",
   "execution_count": 94,
   "metadata": {},
   "outputs": [
    {
     "data": {
      "text/plain": [
       "KNeighborsClassifier(algorithm='auto', leaf_size=30, metric='minkowski',\n",
       "                     metric_params=None, n_jobs=None, n_neighbors=5, p=2,\n",
       "                     weights='uniform')"
      ]
     },
     "execution_count": 94,
     "metadata": {},
     "output_type": "execute_result"
    }
   ],
   "source": [
    "# Cria e treina o modelo\n",
    "modelo_v4 = KNeighborsClassifier()\n",
    "modelo_v4.fit(X_treino, Y_treino)"
   ]
  },
  {
   "cell_type": "code",
   "execution_count": 95,
   "metadata": {},
   "outputs": [
    {
     "name": "stdout",
     "output_type": "stream",
     "text": [
      "[[7308 2194]\n",
      " [1605 7859]]\n"
     ]
    }
   ],
   "source": [
    "# Previsões\n",
    "previsoes_v4 = modelo_v4.predict(X_teste)\n",
    "matriz_v4 = confusion_matrix(Y_teste, previsoes_v4)\n",
    "print(matriz_v4)"
   ]
  },
  {
   "cell_type": "code",
   "execution_count": 96,
   "metadata": {},
   "outputs": [
    {
     "name": "stdout",
     "output_type": "stream",
     "text": [
      "              precision    recall  f1-score   support\n",
      "\n",
      "           0       0.82      0.77      0.79      9502\n",
      "           1       0.78      0.83      0.81      9464\n",
      "\n",
      "    accuracy                           0.80     18966\n",
      "   macro avg       0.80      0.80      0.80     18966\n",
      "weighted avg       0.80      0.80      0.80     18966\n",
      "\n"
     ]
    }
   ],
   "source": [
    "# Relatório de classificação\n",
    "report = classification_report(Y_teste, previsoes_v4)\n",
    "print(report)"
   ]
  },
  {
   "cell_type": "code",
   "execution_count": 97,
   "metadata": {},
   "outputs": [
    {
     "name": "stdout",
     "output_type": "stream",
     "text": [
      "0.7997556082422831\n"
     ]
    }
   ],
   "source": [
    "# Score AUC\n",
    "print(roc_auc_score(Y_teste, previsoes_v4))"
   ]
  },
  {
   "cell_type": "code",
   "execution_count": 98,
   "metadata": {},
   "outputs": [
    {
     "data": {
      "image/png": "[encoded data removed]",
      "text/plain": [
       "<Figure size 432x288 with 1 Axes>"
      ]
     },
     "metadata": {
      "needs_background": "light"
     },
     "output_type": "display_data"
    }
   ],
   "source": [
    "# Calcula a Curva ROC para cada classe\n",
    "y_probs_v4 = modelo_v4.predict_proba(X_teste)\n",
    "skplt.metrics.plot_roc_curve(Y_teste, y_probs_v4)\n",
    "plt.show()"
   ]
  },
  {
   "cell_type": "code",
   "execution_count": 99,
   "metadata": {},
   "outputs": [
    {
     "name": "stdout",
     "output_type": "stream",
     "text": [
      "0.6005959471109272\n"
     ]
    }
   ],
   "source": [
    "# Coeficiente de Correlação Matthews\n",
    "print(matthews_corrcoef(Y_teste, previsoes_v4))"
   ]
  },
  {
   "cell_type": "markdown",
   "metadata": {},
   "source": [
    "### Validação Cruzada"
   ]
  },
  {
   "cell_type": "markdown",
   "metadata": {},
   "source": [
    "https://scikit-learn.org/stable/modules/generated/sklearn.model_selection.cross_validate.html"
   ]
  },
  {
   "cell_type": "markdown",
   "metadata": {},
   "source": [
    "Uma vez que terminamos de treinar nosso modelo, não podemos assumir que ele funcionará bem em dados que ainda não foram vistos. Em outras palavras, não podemos ter certeza de que o modelo terá a precisão e a variação desejadas no ambiente de produção. \n",
    "\n",
    "Precisamos de algum tipo de garantia da precisão das previsões que nosso modelo está divulgando. Para isso, precisamos validar nosso modelo. Esse processo, de decidir se os resultados numéricos que quantificam as relações entre variáveis ​​são aceitáveis​​ como descrições dos dados, é conhecido como validação.\n",
    "\n",
    "A Validação Cruzada (CV - Cross Validation) é uma das técnicas usadas para testar a eficácia de modelos de aprendizado de máquina; também é um procedimento de re-amostragem usado para avaliar um modelo se tivermos dados limitados. Para executar o CV, fazemos divisões sucessivas nos dados, separando em treino e teste, mas fazendo com o que o algoritmo passe por todo conjunto de dados. As duas abordagens principais são:\n",
    "\n",
    "- Train_Test Split approach\n",
    "- K-Folds Cross Validation\n",
    "\n",
    "Usaremos a segunda.\n",
    "\n",
    "<img src=\"imagens/kfolds.png\" alt=\"Drawing\"/>"
   ]
  },
  {
   "cell_type": "markdown",
   "metadata": {},
   "source": [
    "#### Como Funciona o K-Fold:\n",
    "\n",
    "1- Dividimos os dados inteiros aleatoriamente em K-folds (o valor de k não deve ser muito pequeno ou muito alto; idealmente, escolhemos de 5 a 10, dependendo do tamanho dos dados). O valor mais alto de K leva a um modelo menos tendencioso (mas uma grande variância pode levar a um super ajuste), onde o valor mais baixo de K é semelhante à abordagem de divisão de teste e treino que vimos anteriormente.\n",
    "\n",
    "2- Em seguida, ajustamos o modelo usando os K-folds - 1 (K menos 1) e validamos o modelo usando a Kth fold restante. Gravamos as métriicas / erros.\n",
    "\n",
    "3- Repitimos esse processo até que cada K-fold sirva como conjunto de teste. Em seguida, calculamos a média das métricas gravadas. Essa será a métrica de desempenho final para o modelo."
   ]
  },
  {
   "cell_type": "markdown",
   "metadata": {},
   "source": [
    "https://scikit-learn.org/stable/modules/model_evaluation.html#scoring-parameter"
   ]
  },
  {
   "cell_type": "code",
   "execution_count": 100,
   "metadata": {},
   "outputs": [],
   "source": [
    "# Função para imprimir o resultado da validação cruzada\n",
    "\n",
    "# Ao realizar a validação cruzada, podemos usar todos os nossos dados, tanto para treinamento quanto para teste, \n",
    "# enquanto avaliamos nosso algoritmo de aprendizado em exemplos nunca antes vistos.\n",
    "\n",
    "# Observe que estamos usando X e Y\n",
    "\n",
    "# Função para validação cruzada com duas métricas\n",
    "def validacao_cruzada(modelo) :\n",
    "    cv_results = cross_validate(modelo, X, Y, scoring = ['accuracy', 'roc_auc'], cv = 5)\n",
    "\n",
    "    print('\\nAcurácia em Teste:', float(format(np.mean(cv_results['test_accuracy']), '.3f')))\n",
    "    print('AUC em Teste:', float(format(np.mean(cv_results['test_roc_auc']), '.3f')))\n",
    "    print()"
   ]
  },
  {
   "cell_type": "code",
   "execution_count": 101,
   "metadata": {},
   "outputs": [
    {
     "name": "stdout",
     "output_type": "stream",
     "text": [
      "\n",
      "Modelo e Parâmetros: LogisticRegression(C=1.0, class_weight=None, dual=False, fit_intercept=True,\n",
      "                   intercept_scaling=1, l1_ratio=None, max_iter=4000,\n",
      "                   multi_class='auto', n_jobs=None, penalty='l2',\n",
      "                   random_state=None, solver='lbfgs', tol=0.0001, verbose=0,\n",
      "                   warm_start=False)\n",
      "\n",
      "Acurácia em Teste: 0.767\n",
      "AUC em Teste: 0.833\n",
      "\n",
      "\n",
      "Modelo e Parâmetros: RandomForestClassifier(bootstrap=True, ccp_alpha=0.0, class_weight=None,\n",
      "                       criterion='gini', max_depth=None, max_features='auto',\n",
      "                       max_leaf_nodes=None, max_samples=None,\n",
      "                       min_impurity_decrease=0.0, min_impurity_split=None,\n",
      "                       min_samples_leaf=1, min_samples_split=2,\n",
      "                       min_weight_fraction_leaf=0.0, n_estimators=150,\n",
      "                       n_jobs=None, oob_score=False, random_state=None,\n",
      "                       verbose=0, warm_start=False)\n",
      "\n",
      "Acurácia em Teste: 0.821\n",
      "AUC em Teste: 0.906\n",
      "\n",
      "\n",
      "Modelo e Parâmetros: GaussianNB(priors=None, var_smoothing=1e-09)\n",
      "\n",
      "Acurácia em Teste: 0.726\n",
      "AUC em Teste: 0.792\n",
      "\n",
      "\n",
      "Modelo e Parâmetros: KNeighborsClassifier(algorithm='auto', leaf_size=30, metric='minkowski',\n",
      "                     metric_params=None, n_jobs=None, n_neighbors=5, p=2,\n",
      "                     weights='uniform')\n",
      "\n",
      "Acurácia em Teste: 0.786\n",
      "AUC em Teste: 0.855\n",
      "\n",
      "CPU times: user 3min 21s, sys: 9.03 s, total: 3min 30s\n",
      "Wall time: 2min 12s\n"
     ]
    }
   ],
   "source": [
    "%%time\n",
    "modelos = [LogisticRegression(max_iter = 4000), \n",
    "           RandomForestClassifier(n_estimators = 150), \n",
    "           GaussianNB(), \n",
    "           KNeighborsClassifier()]\n",
    "\n",
    "for modelo in modelos:\n",
    "    print(\"\\nModelo e Parâmetros:\", modelo)\n",
    "    validacao_cruzada(modelo)"
   ]
  },
  {
   "cell_type": "markdown",
   "metadata": {},
   "source": [
    "### Otimização de Hiperparâmetros"
   ]
  },
  {
   "cell_type": "markdown",
   "metadata": {},
   "source": [
    "https://scikit-learn.org/stable/modules/generated/sklearn.model_selection.GridSearchCV.html"
   ]
  },
  {
   "cell_type": "markdown",
   "metadata": {},
   "source": [
    "Um hiperparâmetro é um parâmetro cujo valor é definido antes do início do processo de aprendizado.\n",
    "\n",
    "Alguns exemplos de hiperparâmetros incluem penalidade na regressão logística e perda na descida do gradiente estocástico. No sklearn, os hiperparâmetros são passados como argumentos para o construtor das classes de modelo.\n",
    "\n",
    "Principais Estratégias de Otimização de Hiperparâmetros:\n",
    "\n",
    "- Pesquisa em grade (Grid Search)\n",
    "- Pesquisa aleatória (Random Search)\n"
   ]
  },
  {
   "cell_type": "code",
   "execution_count": 102,
   "metadata": {},
   "outputs": [],
   "source": [
    "# Imports\n",
    "import pandas as pd\n",
    "import numpy as np\n",
    "\n",
    "# Função para o Grid Search\n",
    "from sklearn.model_selection import GridSearchCV\n",
    "\n",
    "# Classe para a otimização de hiperparâmetros\n",
    "class OtimizaHiperparametros:\n",
    "\n",
    "    # Construtor da classe\n",
    "    def __init__(self, models, params):\n",
    "        \n",
    "        # Verfica se algum modelo não tem hiperparâmetros para otimização\n",
    "        if not set(models.keys()).issubset(set(params.keys())):\n",
    "            missing_params = list(set(models.keys()) - set(params.keys()))\n",
    "            raise ValueError(\"Alguns estimadores estão com parâmetros ausentes: %s\" % missing_params)\n",
    "            \n",
    "        # Inicia os atributos da classe\n",
    "        self.models = models\n",
    "        self.params = params\n",
    "        self.keys = models.keys()\n",
    "        self.grid_searches = {}\n",
    "\n",
    "    # Método para executar o Grid Search\n",
    "    def fit(self, X, y, cv = 3, n_jobs = 3, verbose = 1, scoring = None, refit = False):\n",
    "        \n",
    "        # Loop por cada modelo (chave)\n",
    "        for key in self.keys:\n",
    "            print(\"\\nExecutando GridSearchCV Para o Modelo %s:\" % key)\n",
    "            model = self.models[key]\n",
    "            params = self.params[key]\n",
    "            \n",
    "            # Cria o objeto Grid Search para cada modelo\n",
    "            gs = GridSearchCV(model, \n",
    "                              params, \n",
    "                              cv = cv, \n",
    "                              n_jobs = n_jobs, \n",
    "                              verbose = verbose, \n",
    "                              scoring = scoring, \n",
    "                              refit = refit, \n",
    "                              return_train_score = True)\n",
    "            \n",
    "            # Executa o Grid Search \n",
    "            gs.fit(X,y)\n",
    "            \n",
    "            # Salva o nome do modelo que foi processado\n",
    "            self.grid_searches[key] = gs    \n",
    "\n",
    "    # Método para calcular o score (métrica final)\n",
    "    def score_summary(self, sort_by = 'mean_score'):\n",
    "        \n",
    "        # Função para criar uma linha com cada resultado do Grid Search\n",
    "        def row(key, scores, params):\n",
    "            d = {\n",
    "                 'modelo': key,\n",
    "                 'min_score': min(scores),\n",
    "                 'max_score': max(scores),\n",
    "                 'mean_score': np.mean(scores),\n",
    "                 'std_score': np.std(scores),\n",
    "            }\n",
    "            return pd.Series({**params,**d})\n",
    "\n",
    "        rows = []\n",
    "        \n",
    "        # Para cada resultado, retorna o resultadoo formatado\n",
    "        for k in self.grid_searches:\n",
    "            print(k)\n",
    "            params = self.grid_searches[k].cv_results_['params']\n",
    "            scores = []\n",
    "            for i in range(self.grid_searches[k].cv):\n",
    "                key = \"split{}_test_score\".format(i)\n",
    "                r = self.grid_searches[k].cv_results_[key]        \n",
    "                scores.append(r.reshape(len(params),1))\n",
    "\n",
    "            # Junta tudo em uma única estrutura\n",
    "            all_scores = np.hstack(scores)\n",
    "            for p, s in zip(params,all_scores):\n",
    "                rows.append((row(k, s, p)))\n",
    "\n",
    "        df = pd.concat(rows, axis=1).T.sort_values([sort_by], ascending=False)\n",
    "\n",
    "        # Gera cada coluna\n",
    "        columns = ['modelo', 'min_score', 'mean_score', 'max_score', 'std_score']\n",
    "        columns = columns + [c for c in df.columns if c not in columns]\n",
    "\n",
    "        return df[columns]"
   ]
  },
  {
   "cell_type": "code",
   "execution_count": 103,
   "metadata": {},
   "outputs": [
    {
     "data": {
      "text/plain": [
       "{'LogisticRegression': LogisticRegression(C=1.0, class_weight=None, dual=False, fit_intercept=True,\n",
       "                    intercept_scaling=1, l1_ratio=None, max_iter=100,\n",
       "                    multi_class='auto', n_jobs=None, penalty='l2',\n",
       "                    random_state=None, solver='lbfgs', tol=0.0001, verbose=0,\n",
       "                    warm_start=False),\n",
       " 'RandomForestClassifier': RandomForestClassifier(bootstrap=True, ccp_alpha=0.0, class_weight=None,\n",
       "                        criterion='gini', max_depth=None, max_features='auto',\n",
       "                        max_leaf_nodes=None, max_samples=None,\n",
       "                        min_impurity_decrease=0.0, min_impurity_split=None,\n",
       "                        min_samples_leaf=1, min_samples_split=2,\n",
       "                        min_weight_fraction_leaf=0.0, n_estimators=100,\n",
       "                        n_jobs=None, oob_score=False, random_state=None,\n",
       "                        verbose=0, warm_start=False),\n",
       " 'KNeighborsClassifier': KNeighborsClassifier(algorithm='auto', leaf_size=30, metric='minkowski',\n",
       "                      metric_params=None, n_jobs=None, n_neighbors=5, p=2,\n",
       "                      weights='uniform')}"
      ]
     },
     "execution_count": 103,
     "metadata": {},
     "output_type": "execute_result"
    }
   ],
   "source": [
    "# Lista dos modelos para otimização\n",
    "lista_modelos = {\n",
    "    'LogisticRegression': LogisticRegression(),\n",
    "    'RandomForestClassifier': RandomForestClassifier(),\n",
    "    'KNeighborsClassifier': KNeighborsClassifier()\n",
    "}\n",
    "\n",
    "lista_modelos"
   ]
  },
  {
   "cell_type": "code",
   "execution_count": 104,
   "metadata": {},
   "outputs": [
    {
     "data": {
      "text/plain": [
       "{'LogisticRegression': {'max_iter': [4000, 5000, 8000, 10000]},\n",
       " 'RandomForestClassifier': {'n_estimators': [175, 200, 225, 250]},\n",
       " 'KNeighborsClassifier': {'n_neighbors': [4, 5, 6, 7],\n",
       "  'metric': ['minkowski'],\n",
       "  'p': [1, 2, 3]}}"
      ]
     },
     "execution_count": 104,
     "metadata": {},
     "output_type": "execute_result"
    }
   ],
   "source": [
    "# Grid de parâmetros que serão testados\n",
    "grid_parametros = {\n",
    "    'LogisticRegression': { 'max_iter': [4000, 5000, 8000, 10000] },\n",
    "    'RandomForestClassifier': { 'n_estimators': [175, 200, 225, 250] },\n",
    "    'KNeighborsClassifier': { 'n_neighbors': [4, 5, 6, 7], 'metric': ['minkowski'], 'p': [1, 2, 3] }\n",
    "}\n",
    "\n",
    "grid_parametros"
   ]
  },
  {
   "cell_type": "code",
   "execution_count": 105,
   "metadata": {},
   "outputs": [],
   "source": [
    "# Cria o otimizador de parâmetros (instância da classe)\n",
    "otimizador_parametros = OtimizaHiperparametros(lista_modelos, grid_parametros)"
   ]
  },
  {
   "cell_type": "code",
   "execution_count": 106,
   "metadata": {},
   "outputs": [
    {
     "name": "stdout",
     "output_type": "stream",
     "text": [
      "\n",
      "Executando GridSearchCV Para o Modelo LogisticRegression:\n",
      "Fitting 3 folds for each of 4 candidates, totalling 12 fits\n"
     ]
    },
    {
     "name": "stderr",
     "output_type": "stream",
     "text": [
      "[Parallel(n_jobs=2)]: Using backend LokyBackend with 2 concurrent workers.\n",
      "[Parallel(n_jobs=2)]: Done  12 out of  12 | elapsed:   40.6s finished\n",
      "[Parallel(n_jobs=2)]: Using backend LokyBackend with 2 concurrent workers.\n"
     ]
    },
    {
     "name": "stdout",
     "output_type": "stream",
     "text": [
      "\n",
      "Executando GridSearchCV Para o Modelo RandomForestClassifier:\n",
      "Fitting 3 folds for each of 4 candidates, totalling 12 fits\n"
     ]
    },
    {
     "name": "stderr",
     "output_type": "stream",
     "text": [
      "[Parallel(n_jobs=2)]: Done  12 out of  12 | elapsed:  2.4min finished\n",
      "[Parallel(n_jobs=2)]: Using backend LokyBackend with 2 concurrent workers.\n"
     ]
    },
    {
     "name": "stdout",
     "output_type": "stream",
     "text": [
      "\n",
      "Executando GridSearchCV Para o Modelo KNeighborsClassifier:\n",
      "Fitting 3 folds for each of 12 candidates, totalling 36 fits\n",
      "CPU times: user 350 ms, sys: 186 ms, total: 536 ms\n",
      "Wall time: 6min 44s\n"
     ]
    },
    {
     "name": "stderr",
     "output_type": "stream",
     "text": [
      "[Parallel(n_jobs=2)]: Done  36 out of  36 | elapsed:  3.7min finished\n"
     ]
    }
   ],
   "source": [
    "%%time\n",
    "\n",
    "# Executa o otimizador\n",
    "otimizador_parametros.fit(X_treino, Y_treino, scoring = 'roc_auc', n_jobs = 2)"
   ]
  },
  {
   "cell_type": "code",
   "execution_count": 107,
   "metadata": {},
   "outputs": [
    {
     "name": "stdout",
     "output_type": "stream",
     "text": [
      "LogisticRegression\n",
      "RandomForestClassifier\n",
      "KNeighborsClassifier\n"
     ]
    },
    {
     "data": {
      "text/html": [
       "<div>\n",
       "<style scoped>\n",
       "    .dataframe tbody tr th:only-of-type {\n",
       "        vertical-align: middle;\n",
       "    }\n",
       "\n",
       "    .dataframe tbody tr th {\n",
       "        vertical-align: top;\n",
       "    }\n",
       "\n",
       "    .dataframe thead th {\n",
       "        text-align: right;\n",
       "    }\n",
       "</style>\n",
       "<table border=\"1\" class=\"dataframe\">\n",
       "  <thead>\n",
       "    <tr style=\"text-align: right;\">\n",
       "      <th></th>\n",
       "      <th>modelo</th>\n",
       "      <th>min_score</th>\n",
       "      <th>mean_score</th>\n",
       "      <th>max_score</th>\n",
       "      <th>std_score</th>\n",
       "      <th>max_iter</th>\n",
       "      <th>n_estimators</th>\n",
       "      <th>metric</th>\n",
       "      <th>n_neighbors</th>\n",
       "      <th>p</th>\n",
       "    </tr>\n",
       "  </thead>\n",
       "  <tbody>\n",
       "    <tr>\n",
       "      <th>7</th>\n",
       "      <td>RandomForestClassifier</td>\n",
       "      <td>0.90565</td>\n",
       "      <td>0.906088</td>\n",
       "      <td>0.906568</td>\n",
       "      <td>0.000375981</td>\n",
       "      <td>NaN</td>\n",
       "      <td>250</td>\n",
       "      <td>NaN</td>\n",
       "      <td>NaN</td>\n",
       "      <td>NaN</td>\n",
       "    </tr>\n",
       "    <tr>\n",
       "      <th>5</th>\n",
       "      <td>RandomForestClassifier</td>\n",
       "      <td>0.905474</td>\n",
       "      <td>0.906019</td>\n",
       "      <td>0.906439</td>\n",
       "      <td>0.000404089</td>\n",
       "      <td>NaN</td>\n",
       "      <td>200</td>\n",
       "      <td>NaN</td>\n",
       "      <td>NaN</td>\n",
       "      <td>NaN</td>\n",
       "    </tr>\n",
       "    <tr>\n",
       "      <th>6</th>\n",
       "      <td>RandomForestClassifier</td>\n",
       "      <td>0.905461</td>\n",
       "      <td>0.906046</td>\n",
       "      <td>0.906436</td>\n",
       "      <td>0.000421471</td>\n",
       "      <td>NaN</td>\n",
       "      <td>225</td>\n",
       "      <td>NaN</td>\n",
       "      <td>NaN</td>\n",
       "      <td>NaN</td>\n",
       "    </tr>\n",
       "    <tr>\n",
       "      <th>4</th>\n",
       "      <td>RandomForestClassifier</td>\n",
       "      <td>0.905408</td>\n",
       "      <td>0.905969</td>\n",
       "      <td>0.906264</td>\n",
       "      <td>0.000397016</td>\n",
       "      <td>NaN</td>\n",
       "      <td>175</td>\n",
       "      <td>NaN</td>\n",
       "      <td>NaN</td>\n",
       "      <td>NaN</td>\n",
       "    </tr>\n",
       "    <tr>\n",
       "      <th>11</th>\n",
       "      <td>KNeighborsClassifier</td>\n",
       "      <td>0.860853</td>\n",
       "      <td>0.862308</td>\n",
       "      <td>0.863938</td>\n",
       "      <td>0.00126549</td>\n",
       "      <td>NaN</td>\n",
       "      <td>NaN</td>\n",
       "      <td>minkowski</td>\n",
       "      <td>5</td>\n",
       "      <td>1</td>\n",
       "    </tr>\n",
       "    <tr>\n",
       "      <th>14</th>\n",
       "      <td>KNeighborsClassifier</td>\n",
       "      <td>0.861922</td>\n",
       "      <td>0.862583</td>\n",
       "      <td>0.863413</td>\n",
       "      <td>0.000620181</td>\n",
       "      <td>NaN</td>\n",
       "      <td>NaN</td>\n",
       "      <td>minkowski</td>\n",
       "      <td>6</td>\n",
       "      <td>1</td>\n",
       "    </tr>\n",
       "    <tr>\n",
       "      <th>17</th>\n",
       "      <td>KNeighborsClassifier</td>\n",
       "      <td>0.861973</td>\n",
       "      <td>0.86238</td>\n",
       "      <td>0.862699</td>\n",
       "      <td>0.000302828</td>\n",
       "      <td>NaN</td>\n",
       "      <td>NaN</td>\n",
       "      <td>minkowski</td>\n",
       "      <td>7</td>\n",
       "      <td>1</td>\n",
       "    </tr>\n",
       "    <tr>\n",
       "      <th>8</th>\n",
       "      <td>KNeighborsClassifier</td>\n",
       "      <td>0.857353</td>\n",
       "      <td>0.858864</td>\n",
       "      <td>0.860675</td>\n",
       "      <td>0.00137247</td>\n",
       "      <td>NaN</td>\n",
       "      <td>NaN</td>\n",
       "      <td>minkowski</td>\n",
       "      <td>4</td>\n",
       "      <td>1</td>\n",
       "    </tr>\n",
       "    <tr>\n",
       "      <th>12</th>\n",
       "      <td>KNeighborsClassifier</td>\n",
       "      <td>0.857199</td>\n",
       "      <td>0.858902</td>\n",
       "      <td>0.860281</td>\n",
       "      <td>0.00127906</td>\n",
       "      <td>NaN</td>\n",
       "      <td>NaN</td>\n",
       "      <td>minkowski</td>\n",
       "      <td>5</td>\n",
       "      <td>2</td>\n",
       "    </tr>\n",
       "    <tr>\n",
       "      <th>15</th>\n",
       "      <td>KNeighborsClassifier</td>\n",
       "      <td>0.858153</td>\n",
       "      <td>0.859055</td>\n",
       "      <td>0.859767</td>\n",
       "      <td>0.000672115</td>\n",
       "      <td>NaN</td>\n",
       "      <td>NaN</td>\n",
       "      <td>minkowski</td>\n",
       "      <td>6</td>\n",
       "      <td>2</td>\n",
       "    </tr>\n",
       "    <tr>\n",
       "      <th>13</th>\n",
       "      <td>KNeighborsClassifier</td>\n",
       "      <td>0.856118</td>\n",
       "      <td>0.858061</td>\n",
       "      <td>0.859378</td>\n",
       "      <td>0.00140253</td>\n",
       "      <td>NaN</td>\n",
       "      <td>NaN</td>\n",
       "      <td>minkowski</td>\n",
       "      <td>5</td>\n",
       "      <td>3</td>\n",
       "    </tr>\n",
       "    <tr>\n",
       "      <th>18</th>\n",
       "      <td>KNeighborsClassifier</td>\n",
       "      <td>0.85749</td>\n",
       "      <td>0.858399</td>\n",
       "      <td>0.858908</td>\n",
       "      <td>0.000644264</td>\n",
       "      <td>NaN</td>\n",
       "      <td>NaN</td>\n",
       "      <td>minkowski</td>\n",
       "      <td>7</td>\n",
       "      <td>2</td>\n",
       "    </tr>\n",
       "    <tr>\n",
       "      <th>16</th>\n",
       "      <td>KNeighborsClassifier</td>\n",
       "      <td>0.85717</td>\n",
       "      <td>0.858121</td>\n",
       "      <td>0.858692</td>\n",
       "      <td>0.000676952</td>\n",
       "      <td>NaN</td>\n",
       "      <td>NaN</td>\n",
       "      <td>minkowski</td>\n",
       "      <td>6</td>\n",
       "      <td>3</td>\n",
       "    </tr>\n",
       "    <tr>\n",
       "      <th>19</th>\n",
       "      <td>KNeighborsClassifier</td>\n",
       "      <td>0.856363</td>\n",
       "      <td>0.857286</td>\n",
       "      <td>0.857889</td>\n",
       "      <td>0.000662653</td>\n",
       "      <td>NaN</td>\n",
       "      <td>NaN</td>\n",
       "      <td>minkowski</td>\n",
       "      <td>7</td>\n",
       "      <td>3</td>\n",
       "    </tr>\n",
       "    <tr>\n",
       "      <th>9</th>\n",
       "      <td>KNeighborsClassifier</td>\n",
       "      <td>0.85365</td>\n",
       "      <td>0.855783</td>\n",
       "      <td>0.857623</td>\n",
       "      <td>0.00163512</td>\n",
       "      <td>NaN</td>\n",
       "      <td>NaN</td>\n",
       "      <td>minkowski</td>\n",
       "      <td>4</td>\n",
       "      <td>2</td>\n",
       "    </tr>\n",
       "    <tr>\n",
       "      <th>10</th>\n",
       "      <td>KNeighborsClassifier</td>\n",
       "      <td>0.852965</td>\n",
       "      <td>0.855254</td>\n",
       "      <td>0.857276</td>\n",
       "      <td>0.00176966</td>\n",
       "      <td>NaN</td>\n",
       "      <td>NaN</td>\n",
       "      <td>minkowski</td>\n",
       "      <td>4</td>\n",
       "      <td>3</td>\n",
       "    </tr>\n",
       "    <tr>\n",
       "      <th>1</th>\n",
       "      <td>LogisticRegression</td>\n",
       "      <td>0.833797</td>\n",
       "      <td>0.835139</td>\n",
       "      <td>0.836171</td>\n",
       "      <td>0.000993732</td>\n",
       "      <td>5000</td>\n",
       "      <td>NaN</td>\n",
       "      <td>NaN</td>\n",
       "      <td>NaN</td>\n",
       "      <td>NaN</td>\n",
       "    </tr>\n",
       "    <tr>\n",
       "      <th>3</th>\n",
       "      <td>LogisticRegression</td>\n",
       "      <td>0.833797</td>\n",
       "      <td>0.835139</td>\n",
       "      <td>0.836171</td>\n",
       "      <td>0.000993732</td>\n",
       "      <td>10000</td>\n",
       "      <td>NaN</td>\n",
       "      <td>NaN</td>\n",
       "      <td>NaN</td>\n",
       "      <td>NaN</td>\n",
       "    </tr>\n",
       "    <tr>\n",
       "      <th>2</th>\n",
       "      <td>LogisticRegression</td>\n",
       "      <td>0.833797</td>\n",
       "      <td>0.835139</td>\n",
       "      <td>0.836171</td>\n",
       "      <td>0.000993732</td>\n",
       "      <td>8000</td>\n",
       "      <td>NaN</td>\n",
       "      <td>NaN</td>\n",
       "      <td>NaN</td>\n",
       "      <td>NaN</td>\n",
       "    </tr>\n",
       "    <tr>\n",
       "      <th>0</th>\n",
       "      <td>LogisticRegression</td>\n",
       "      <td>0.833797</td>\n",
       "      <td>0.835139</td>\n",
       "      <td>0.836171</td>\n",
       "      <td>0.000993732</td>\n",
       "      <td>4000</td>\n",
       "      <td>NaN</td>\n",
       "      <td>NaN</td>\n",
       "      <td>NaN</td>\n",
       "      <td>NaN</td>\n",
       "    </tr>\n",
       "  </tbody>\n",
       "</table>\n",
       "</div>"
      ],
      "text/plain": [
       "                    modelo min_score mean_score max_score    std_score  \\\n",
       "7   RandomForestClassifier   0.90565   0.906088  0.906568  0.000375981   \n",
       "5   RandomForestClassifier  0.905474   0.906019  0.906439  0.000404089   \n",
       "6   RandomForestClassifier  0.905461   0.906046  0.906436  0.000421471   \n",
       "4   RandomForestClassifier  0.905408   0.905969  0.906264  0.000397016   \n",
       "11    KNeighborsClassifier  0.860853   0.862308  0.863938   0.00126549   \n",
       "14    KNeighborsClassifier  0.861922   0.862583  0.863413  0.000620181   \n",
       "17    KNeighborsClassifier  0.861973    0.86238  0.862699  0.000302828   \n",
       "8     KNeighborsClassifier  0.857353   0.858864  0.860675   0.00137247   \n",
       "12    KNeighborsClassifier  0.857199   0.858902  0.860281   0.00127906   \n",
       "15    KNeighborsClassifier  0.858153   0.859055  0.859767  0.000672115   \n",
       "13    KNeighborsClassifier  0.856118   0.858061  0.859378   0.00140253   \n",
       "18    KNeighborsClassifier   0.85749   0.858399  0.858908  0.000644264   \n",
       "16    KNeighborsClassifier   0.85717   0.858121  0.858692  0.000676952   \n",
       "19    KNeighborsClassifier  0.856363   0.857286  0.857889  0.000662653   \n",
       "9     KNeighborsClassifier   0.85365   0.855783  0.857623   0.00163512   \n",
       "10    KNeighborsClassifier  0.852965   0.855254  0.857276   0.00176966   \n",
       "1       LogisticRegression  0.833797   0.835139  0.836171  0.000993732   \n",
       "3       LogisticRegression  0.833797   0.835139  0.836171  0.000993732   \n",
       "2       LogisticRegression  0.833797   0.835139  0.836171  0.000993732   \n",
       "0       LogisticRegression  0.833797   0.835139  0.836171  0.000993732   \n",
       "\n",
       "   max_iter n_estimators     metric n_neighbors    p  \n",
       "7       NaN          250        NaN         NaN  NaN  \n",
       "5       NaN          200        NaN         NaN  NaN  \n",
       "6       NaN          225        NaN         NaN  NaN  \n",
       "4       NaN          175        NaN         NaN  NaN  \n",
       "11      NaN          NaN  minkowski           5    1  \n",
       "14      NaN          NaN  minkowski           6    1  \n",
       "17      NaN          NaN  minkowski           7    1  \n",
       "8       NaN          NaN  minkowski           4    1  \n",
       "12      NaN          NaN  minkowski           5    2  \n",
       "15      NaN          NaN  minkowski           6    2  \n",
       "13      NaN          NaN  minkowski           5    3  \n",
       "18      NaN          NaN  minkowski           7    2  \n",
       "16      NaN          NaN  minkowski           6    3  \n",
       "19      NaN          NaN  minkowski           7    3  \n",
       "9       NaN          NaN  minkowski           4    2  \n",
       "10      NaN          NaN  minkowski           4    3  \n",
       "1      5000          NaN        NaN         NaN  NaN  \n",
       "3     10000          NaN        NaN         NaN  NaN  \n",
       "2      8000          NaN        NaN         NaN  NaN  \n",
       "0      4000          NaN        NaN         NaN  NaN  "
      ]
     },
     "execution_count": 107,
     "metadata": {},
     "output_type": "execute_result"
    }
   ],
   "source": [
    "# Sumário da otimização\n",
    "otimizador_parametros.score_summary(sort_by = 'max_score')"
   ]
  },
  {
   "cell_type": "markdown",
   "metadata": {},
   "source": [
    "#### Versão 5 - Deep Learning"
   ]
  },
  {
   "cell_type": "markdown",
   "metadata": {},
   "source": [
    "https://keras.io/"
   ]
  },
  {
   "cell_type": "markdown",
   "metadata": {},
   "source": [
    "<img src=\"imagens/deep.png\" alt=\"Drawing\"/>"
   ]
  },
  {
   "cell_type": "code",
   "execution_count": 108,
   "metadata": {},
   "outputs": [
    {
     "data": {
      "text/plain": [
       "(170688, 12)"
      ]
     },
     "execution_count": 108,
     "metadata": {},
     "output_type": "execute_result"
    }
   ],
   "source": [
    "X_treino.shape"
   ]
  },
  {
   "cell_type": "code",
   "execution_count": 109,
   "metadata": {},
   "outputs": [],
   "source": [
    "# Construção do modelo com Keras\n",
    "# Definimos diversas camadas e aplicamos regularização com dropout para evitar o overfitting\n",
    "# http://papers.nips.cc/paper/4878-understanding-dropout.pdf\n",
    "modelo_v5 = Sequential()\n",
    "modelo_v5.add(Dense(256, input_dim = 12, activation = 'relu'))\n",
    "modelo_v5.add(Dropout(0.5))\n",
    "modelo_v5.add(Dense(256, activation = 'relu'))\n",
    "modelo_v5.add(Dropout(0.5))\n",
    "modelo_v5.add(Dense(1, activation = 'sigmoid'))\n",
    "modelo_v5.compile(loss = 'binary_crossentropy', optimizer = 'adam', metrics = ['accuracy'])"
   ]
  },
  {
   "cell_type": "code",
   "execution_count": 110,
   "metadata": {},
   "outputs": [
    {
     "name": "stdout",
     "output_type": "stream",
     "text": [
      "Train on 153619 samples, validate on 17069 samples\n",
      "Epoch 1/100\n",
      "153619/153619 [==============================] - 3s 16us/step - loss: 0.6716 - accuracy: 0.6971 - val_loss: 0.5419 - val_accuracy: 0.7545\n",
      "Epoch 2/100\n",
      "153619/153619 [==============================] - 2s 15us/step - loss: 0.5434 - accuracy: 0.7537 - val_loss: 0.5203 - val_accuracy: 0.7651\n",
      "Epoch 3/100\n",
      "153619/153619 [==============================] - 2s 15us/step - loss: 0.5274 - accuracy: 0.7633 - val_loss: 0.5069 - val_accuracy: 0.7733\n",
      "Epoch 4/100\n",
      "153619/153619 [==============================] - 2s 15us/step - loss: 0.5072 - accuracy: 0.7701 - val_loss: 0.4839 - val_accuracy: 0.7807\n",
      "Epoch 5/100\n",
      "153619/153619 [==============================] - 2s 15us/step - loss: 0.4940 - accuracy: 0.7746 - val_loss: 0.4713 - val_accuracy: 0.7839\n",
      "Epoch 6/100\n",
      "153619/153619 [==============================] - 2s 15us/step - loss: 0.4872 - accuracy: 0.7762 - val_loss: 0.4840 - val_accuracy: 0.7831\n",
      "Epoch 7/100\n",
      "153619/153619 [==============================] - 2s 15us/step - loss: 0.4869 - accuracy: 0.7775 - val_loss: 0.4690 - val_accuracy: 0.7852\n",
      "Epoch 8/100\n",
      "153619/153619 [==============================] - 2s 15us/step - loss: 0.4845 - accuracy: 0.7771 - val_loss: 0.4698 - val_accuracy: 0.7834\n",
      "Epoch 9/100\n",
      "153619/153619 [==============================] - 2s 15us/step - loss: 0.4839 - accuracy: 0.7775 - val_loss: 0.4677 - val_accuracy: 0.7853\n",
      "Epoch 10/100\n",
      "153619/153619 [==============================] - 2s 15us/step - loss: 0.4828 - accuracy: 0.7787 - val_loss: 0.4678 - val_accuracy: 0.7864\n",
      "Epoch 11/100\n",
      "153619/153619 [==============================] - 2s 15us/step - loss: 0.4839 - accuracy: 0.7779 - val_loss: 0.4667 - val_accuracy: 0.7876\n",
      "Epoch 12/100\n",
      "153619/153619 [==============================] - 2s 15us/step - loss: 0.4807 - accuracy: 0.7797 - val_loss: 0.4644 - val_accuracy: 0.7868\n",
      "Epoch 13/100\n",
      "153619/153619 [==============================] - 2s 15us/step - loss: 0.4805 - accuracy: 0.7792 - val_loss: 0.4634 - val_accuracy: 0.7862\n",
      "Epoch 14/100\n",
      "153619/153619 [==============================] - 2s 15us/step - loss: 0.4807 - accuracy: 0.7783 - val_loss: 0.4746 - val_accuracy: 0.7872\n",
      "Epoch 15/100\n",
      "153619/153619 [==============================] - 2s 15us/step - loss: 0.4811 - accuracy: 0.7790 - val_loss: 0.4659 - val_accuracy: 0.7863\n",
      "Epoch 16/100\n",
      "153619/153619 [==============================] - 2s 15us/step - loss: 0.4827 - accuracy: 0.7782 - val_loss: 0.4639 - val_accuracy: 0.7879\n",
      "Epoch 17/100\n",
      "153619/153619 [==============================] - 2s 15us/step - loss: 0.4831 - accuracy: 0.7777 - val_loss: 0.4633 - val_accuracy: 0.7865\n",
      "Epoch 18/100\n",
      "153619/153619 [==============================] - 2s 15us/step - loss: 0.4833 - accuracy: 0.7773 - val_loss: 0.4680 - val_accuracy: 0.7875\n",
      "Epoch 19/100\n",
      "153619/153619 [==============================] - 2s 15us/step - loss: 0.4806 - accuracy: 0.7787 - val_loss: 0.4682 - val_accuracy: 0.7842\n",
      "Epoch 20/100\n",
      "153619/153619 [==============================] - 2s 15us/step - loss: 0.4807 - accuracy: 0.7795 - val_loss: 0.4661 - val_accuracy: 0.7869\n",
      "Epoch 21/100\n",
      "153619/153619 [==============================] - 2s 15us/step - loss: 0.4797 - accuracy: 0.7798 - val_loss: 0.4647 - val_accuracy: 0.7859\n",
      "Epoch 22/100\n",
      "153619/153619 [==============================] - 2s 15us/step - loss: 0.4784 - accuracy: 0.7793 - val_loss: 0.4687 - val_accuracy: 0.7867\n",
      "Epoch 23/100\n",
      "153619/153619 [==============================] - 2s 15us/step - loss: 0.4779 - accuracy: 0.7798 - val_loss: 0.4720 - val_accuracy: 0.7882\n",
      "Epoch 24/100\n",
      "153619/153619 [==============================] - 2s 15us/step - loss: 0.4781 - accuracy: 0.7795 - val_loss: 0.4778 - val_accuracy: 0.7856\n",
      "Epoch 25/100\n",
      "153619/153619 [==============================] - 2s 15us/step - loss: 0.4807 - accuracy: 0.7785 - val_loss: 0.4711 - val_accuracy: 0.7873\n",
      "Epoch 26/100\n",
      "153619/153619 [==============================] - 2s 15us/step - loss: 0.4807 - accuracy: 0.7780 - val_loss: 0.4687 - val_accuracy: 0.7872\n",
      "Epoch 27/100\n",
      "153619/153619 [==============================] - 2s 15us/step - loss: 0.4814 - accuracy: 0.7777 - val_loss: 0.4718 - val_accuracy: 0.7865\n",
      "Epoch 28/100\n",
      "153619/153619 [==============================] - 2s 15us/step - loss: 0.4798 - accuracy: 0.7794 - val_loss: 0.4684 - val_accuracy: 0.7875\n",
      "Epoch 29/100\n",
      "153619/153619 [==============================] - 2s 15us/step - loss: 0.4777 - accuracy: 0.7806 - val_loss: 0.4698 - val_accuracy: 0.7877\n",
      "Epoch 30/100\n",
      "153619/153619 [==============================] - 2s 15us/step - loss: 0.4778 - accuracy: 0.7801 - val_loss: 0.4642 - val_accuracy: 0.7891\n",
      "Epoch 31/100\n",
      "153619/153619 [==============================] - 2s 15us/step - loss: 0.4786 - accuracy: 0.7801 - val_loss: 0.4696 - val_accuracy: 0.7860\n",
      "Epoch 32/100\n",
      "153619/153619 [==============================] - 2s 15us/step - loss: 0.4769 - accuracy: 0.7801 - val_loss: 0.4690 - val_accuracy: 0.7868\n",
      "Epoch 33/100\n",
      "153619/153619 [==============================] - 2s 15us/step - loss: 0.4767 - accuracy: 0.7795 - val_loss: 0.4670 - val_accuracy: 0.7863\n",
      "Epoch 34/100\n",
      "153619/153619 [==============================] - 2s 15us/step - loss: 0.4796 - accuracy: 0.7786 - val_loss: 0.4719 - val_accuracy: 0.7853\n",
      "Epoch 35/100\n",
      "153619/153619 [==============================] - 2s 15us/step - loss: 0.4785 - accuracy: 0.7792 - val_loss: 0.4709 - val_accuracy: 0.7862\n",
      "Epoch 36/100\n",
      "153619/153619 [==============================] - 2s 15us/step - loss: 0.4786 - accuracy: 0.7797 - val_loss: 0.4736 - val_accuracy: 0.7867\n",
      "Epoch 37/100\n",
      "153619/153619 [==============================] - 2s 15us/step - loss: 0.4777 - accuracy: 0.7794 - val_loss: 0.4702 - val_accuracy: 0.7869\n",
      "Epoch 38/100\n",
      "153619/153619 [==============================] - 2s 15us/step - loss: 0.4790 - accuracy: 0.7786 - val_loss: 0.4701 - val_accuracy: 0.7862\n",
      "Epoch 39/100\n",
      "153619/153619 [==============================] - 3s 17us/step - loss: 0.4785 - accuracy: 0.7793 - val_loss: 0.4690 - val_accuracy: 0.7860\n",
      "Epoch 40/100\n",
      "153619/153619 [==============================] - 2s 16us/step - loss: 0.4799 - accuracy: 0.7788 - val_loss: 0.4722 - val_accuracy: 0.7864\n",
      "Epoch 41/100\n",
      "153619/153619 [==============================] - 2s 15us/step - loss: 0.4790 - accuracy: 0.7792 - val_loss: 0.4642 - val_accuracy: 0.7876\n",
      "Epoch 42/100\n",
      "153619/153619 [==============================] - 2s 15us/step - loss: 0.4774 - accuracy: 0.7810 - val_loss: 0.4751 - val_accuracy: 0.7869\n",
      "Epoch 43/100\n",
      "153619/153619 [==============================] - 2s 15us/step - loss: 0.4764 - accuracy: 0.7803 - val_loss: 0.4720 - val_accuracy: 0.7871\n",
      "Epoch 44/100\n",
      "153619/153619 [==============================] - 2s 15us/step - loss: 0.4771 - accuracy: 0.7801 - val_loss: 0.4701 - val_accuracy: 0.7863\n",
      "Epoch 45/100\n",
      "153619/153619 [==============================] - 2s 15us/step - loss: 0.4797 - accuracy: 0.7791 - val_loss: 0.4710 - val_accuracy: 0.7865\n",
      "Epoch 46/100\n",
      "153619/153619 [==============================] - 2s 15us/step - loss: 0.4762 - accuracy: 0.7807 - val_loss: 0.4765 - val_accuracy: 0.7878\n",
      "Epoch 47/100\n",
      "153619/153619 [==============================] - 2s 15us/step - loss: 0.4758 - accuracy: 0.7800 - val_loss: 0.4729 - val_accuracy: 0.7868\n",
      "Epoch 48/100\n",
      "153619/153619 [==============================] - 2s 15us/step - loss: 0.4765 - accuracy: 0.7805 - val_loss: 0.4747 - val_accuracy: 0.7876\n",
      "Epoch 49/100\n",
      "153619/153619 [==============================] - 2s 16us/step - loss: 0.4764 - accuracy: 0.7801 - val_loss: 0.4699 - val_accuracy: 0.7862\n",
      "Epoch 50/100\n",
      "153619/153619 [==============================] - 2s 15us/step - loss: 0.4781 - accuracy: 0.7795 - val_loss: 0.4820 - val_accuracy: 0.7875\n",
      "Epoch 51/100\n",
      "153619/153619 [==============================] - 2s 15us/step - loss: 0.4769 - accuracy: 0.7797 - val_loss: 0.4757 - val_accuracy: 0.7874\n",
      "Epoch 52/100\n",
      "153619/153619 [==============================] - 2s 15us/step - loss: 0.4775 - accuracy: 0.7802 - val_loss: 0.4704 - val_accuracy: 0.7872\n",
      "Epoch 53/100\n",
      "153619/153619 [==============================] - 2s 15us/step - loss: 0.4770 - accuracy: 0.7802 - val_loss: 0.4745 - val_accuracy: 0.7883\n",
      "Epoch 54/100\n",
      "153619/153619 [==============================] - 2s 15us/step - loss: 0.4768 - accuracy: 0.7810 - val_loss: 0.4691 - val_accuracy: 0.7867\n"
     ]
    },
    {
     "name": "stdout",
     "output_type": "stream",
     "text": [
      "Epoch 55/100\n",
      "153619/153619 [==============================] - 2s 14us/step - loss: 0.4759 - accuracy: 0.7806 - val_loss: 0.4720 - val_accuracy: 0.7875\n",
      "Epoch 56/100\n",
      "153619/153619 [==============================] - 2s 15us/step - loss: 0.4773 - accuracy: 0.7800 - val_loss: 0.4724 - val_accuracy: 0.7876\n",
      "Epoch 57/100\n",
      "153619/153619 [==============================] - 2s 15us/step - loss: 0.4771 - accuracy: 0.7808 - val_loss: 0.4691 - val_accuracy: 0.7869\n",
      "Epoch 58/100\n",
      "153619/153619 [==============================] - 2s 15us/step - loss: 0.4760 - accuracy: 0.7805 - val_loss: 0.4686 - val_accuracy: 0.7877\n",
      "Epoch 59/100\n",
      "153619/153619 [==============================] - 2s 15us/step - loss: 0.4758 - accuracy: 0.7815 - val_loss: 0.4689 - val_accuracy: 0.7869\n",
      "Epoch 60/100\n",
      "153619/153619 [==============================] - 2s 14us/step - loss: 0.4760 - accuracy: 0.7803 - val_loss: 0.4655 - val_accuracy: 0.7876\n",
      "Epoch 61/100\n",
      "153619/153619 [==============================] - 2s 15us/step - loss: 0.4765 - accuracy: 0.7806 - val_loss: 0.4725 - val_accuracy: 0.7876\n",
      "Epoch 62/100\n",
      "153619/153619 [==============================] - 2s 15us/step - loss: 0.4760 - accuracy: 0.7811 - val_loss: 0.4726 - val_accuracy: 0.7868\n",
      "Epoch 63/100\n",
      "153619/153619 [==============================] - 2s 15us/step - loss: 0.4753 - accuracy: 0.7807 - val_loss: 0.4672 - val_accuracy: 0.7866\n",
      "Epoch 64/100\n",
      "153619/153619 [==============================] - 2s 15us/step - loss: 0.4766 - accuracy: 0.7806 - val_loss: 0.4732 - val_accuracy: 0.7872\n",
      "Epoch 65/100\n",
      "153619/153619 [==============================] - 2s 15us/step - loss: 0.4749 - accuracy: 0.7810 - val_loss: 0.4702 - val_accuracy: 0.7869\n",
      "Epoch 66/100\n",
      "153619/153619 [==============================] - 2s 14us/step - loss: 0.4754 - accuracy: 0.7807 - val_loss: 0.4719 - val_accuracy: 0.7877\n",
      "Epoch 67/100\n",
      "153619/153619 [==============================] - 2s 15us/step - loss: 0.4783 - accuracy: 0.7798 - val_loss: 0.4723 - val_accuracy: 0.7874\n",
      "Epoch 68/100\n",
      "153619/153619 [==============================] - 2s 15us/step - loss: 0.4751 - accuracy: 0.7810 - val_loss: 0.4705 - val_accuracy: 0.7867\n",
      "Epoch 69/100\n",
      "153619/153619 [==============================] - 2s 15us/step - loss: 0.4748 - accuracy: 0.7810 - val_loss: 0.4765 - val_accuracy: 0.7861\n",
      "Epoch 70/100\n",
      "153619/153619 [==============================] - 2s 15us/step - loss: 0.4777 - accuracy: 0.7804 - val_loss: 0.4757 - val_accuracy: 0.7859\n",
      "Epoch 71/100\n",
      "153619/153619 [==============================] - 2s 15us/step - loss: 0.4750 - accuracy: 0.7812 - val_loss: 0.4710 - val_accuracy: 0.7872\n",
      "Epoch 72/100\n",
      "153619/153619 [==============================] - 2s 15us/step - loss: 0.4756 - accuracy: 0.7814 - val_loss: 0.4687 - val_accuracy: 0.7877\n",
      "Epoch 73/100\n",
      "153619/153619 [==============================] - 2s 14us/step - loss: 0.4752 - accuracy: 0.7812 - val_loss: 0.5029 - val_accuracy: 0.7760\n",
      "Epoch 74/100\n",
      "153619/153619 [==============================] - 2s 15us/step - loss: 0.4775 - accuracy: 0.7802 - val_loss: 0.4740 - val_accuracy: 0.7867\n",
      "Epoch 75/100\n",
      "153619/153619 [==============================] - 2s 15us/step - loss: 0.4776 - accuracy: 0.7799 - val_loss: 0.4715 - val_accuracy: 0.7859\n",
      "Epoch 76/100\n",
      "153619/153619 [==============================] - 2s 15us/step - loss: 0.4753 - accuracy: 0.7810 - val_loss: 0.4744 - val_accuracy: 0.7866\n",
      "Epoch 77/100\n",
      "153619/153619 [==============================] - 2s 15us/step - loss: 0.4750 - accuracy: 0.7810 - val_loss: 0.4755 - val_accuracy: 0.7869\n",
      "Epoch 78/100\n",
      "153619/153619 [==============================] - 2s 15us/step - loss: 0.4753 - accuracy: 0.7811 - val_loss: 0.4759 - val_accuracy: 0.7874\n",
      "Epoch 79/100\n",
      "153619/153619 [==============================] - 2s 15us/step - loss: 0.4764 - accuracy: 0.7803 - val_loss: 0.4762 - val_accuracy: 0.7876\n",
      "Epoch 80/100\n",
      "153619/153619 [==============================] - 2s 15us/step - loss: 0.4755 - accuracy: 0.7812 - val_loss: 0.4741 - val_accuracy: 0.7867\n",
      "Epoch 81/100\n",
      "153619/153619 [==============================] - 2s 15us/step - loss: 0.4753 - accuracy: 0.7807 - val_loss: 0.4747 - val_accuracy: 0.7866\n",
      "Epoch 82/100\n",
      "153619/153619 [==============================] - 2s 14us/step - loss: 0.4746 - accuracy: 0.7815 - val_loss: 0.4730 - val_accuracy: 0.7864\n",
      "Epoch 83/100\n",
      "153619/153619 [==============================] - 2s 15us/step - loss: 0.4743 - accuracy: 0.7818 - val_loss: 0.4736 - val_accuracy: 0.7880\n",
      "Epoch 84/100\n",
      "153619/153619 [==============================] - 2s 15us/step - loss: 0.4745 - accuracy: 0.7812 - val_loss: 0.4692 - val_accuracy: 0.7875\n",
      "Epoch 85/100\n",
      "153619/153619 [==============================] - 2s 15us/step - loss: 0.4752 - accuracy: 0.7808 - val_loss: 0.4685 - val_accuracy: 0.7870\n",
      "Epoch 86/100\n",
      "153619/153619 [==============================] - 2s 15us/step - loss: 0.4739 - accuracy: 0.7811 - val_loss: 0.4725 - val_accuracy: 0.7868\n",
      "Epoch 87/100\n",
      "153619/153619 [==============================] - 2s 15us/step - loss: 0.4758 - accuracy: 0.7810 - val_loss: 0.4723 - val_accuracy: 0.7868\n",
      "Epoch 88/100\n",
      "153619/153619 [==============================] - 2s 15us/step - loss: 0.4754 - accuracy: 0.7809 - val_loss: 0.4716 - val_accuracy: 0.7872\n",
      "Epoch 89/100\n",
      "153619/153619 [==============================] - 2s 15us/step - loss: 0.4736 - accuracy: 0.7809 - val_loss: 0.4702 - val_accuracy: 0.7880\n",
      "Epoch 90/100\n",
      "153619/153619 [==============================] - 2s 15us/step - loss: 0.4747 - accuracy: 0.7809 - val_loss: 0.4731 - val_accuracy: 0.7876\n",
      "Epoch 91/100\n",
      "153619/153619 [==============================] - 2s 16us/step - loss: 0.4746 - accuracy: 0.7823 - val_loss: 0.4720 - val_accuracy: 0.7876\n",
      "Epoch 92/100\n",
      "153619/153619 [==============================] - 3s 17us/step - loss: 0.4752 - accuracy: 0.7813 - val_loss: 0.4744 - val_accuracy: 0.7879\n",
      "Epoch 93/100\n",
      "153619/153619 [==============================] - 2s 15us/step - loss: 0.4739 - accuracy: 0.7812 - val_loss: 0.4676 - val_accuracy: 0.7881\n",
      "Epoch 94/100\n",
      "153619/153619 [==============================] - 2s 15us/step - loss: 0.4771 - accuracy: 0.7805 - val_loss: 0.4739 - val_accuracy: 0.7862\n",
      "Epoch 95/100\n",
      "153619/153619 [==============================] - 2s 15us/step - loss: 0.4763 - accuracy: 0.7812 - val_loss: 0.4705 - val_accuracy: 0.7876\n",
      "Epoch 96/100\n",
      "153619/153619 [==============================] - 3s 18us/step - loss: 0.4763 - accuracy: 0.7804 - val_loss: 0.4649 - val_accuracy: 0.7875\n",
      "Epoch 97/100\n",
      "153619/153619 [==============================] - 2s 15us/step - loss: 0.4754 - accuracy: 0.7804 - val_loss: 0.4747 - val_accuracy: 0.7870\n",
      "Epoch 98/100\n",
      "153619/153619 [==============================] - 2s 15us/step - loss: 0.4738 - accuracy: 0.7817 - val_loss: 0.4709 - val_accuracy: 0.7882\n",
      "Epoch 99/100\n",
      "153619/153619 [==============================] - 2s 15us/step - loss: 0.4749 - accuracy: 0.7820 - val_loss: 0.4706 - val_accuracy: 0.7876\n",
      "Epoch 100/100\n",
      "153619/153619 [==============================] - 2s 15us/step - loss: 0.4740 - accuracy: 0.7810 - val_loss: 0.4711 - val_accuracy: 0.7874\n",
      "CPU times: user 9min 31s, sys: 1min 24s, total: 10min 55s\n",
      "Wall time: 3min 49s\n"
     ]
    }
   ],
   "source": [
    "%%time\n",
    "\n",
    "# Treinamos o modelo\n",
    "history = modelo_v5.fit(X_treino, Y_treino, epochs = 100, batch_size = 128, verbose = 1, validation_split = 0.1)"
   ]
  },
  {
   "cell_type": "code",
   "execution_count": 111,
   "metadata": {},
   "outputs": [
    {
     "name": "stdout",
     "output_type": "stream",
     "text": [
      "Model: \"sequential_1\"\n",
      "_________________________________________________________________\n",
      "Layer (type)                 Output Shape              Param #   \n",
      "=================================================================\n",
      "dense_1 (Dense)              (None, 256)               3328      \n",
      "_________________________________________________________________\n",
      "dropout_1 (Dropout)          (None, 256)               0         \n",
      "_________________________________________________________________\n",
      "dense_2 (Dense)              (None, 256)               65792     \n",
      "_________________________________________________________________\n",
      "dropout_2 (Dropout)          (None, 256)               0         \n",
      "_________________________________________________________________\n",
      "dense_3 (Dense)              (None, 1)                 257       \n",
      "=================================================================\n",
      "Total params: 69,377\n",
      "Trainable params: 69,377\n",
      "Non-trainable params: 0\n",
      "_________________________________________________________________\n"
     ]
    }
   ],
   "source": [
    "# Sumário do modelo\n",
    "modelo_v5.summary()"
   ]
  },
  {
   "cell_type": "code",
   "execution_count": 112,
   "metadata": {},
   "outputs": [
    {
     "data": {
      "image/png": "[encoded data removed]",
      "text/plain": [
       "<Figure size 504x360 with 1 Axes>"
      ]
     },
     "metadata": {
      "needs_background": "light"
     },
     "output_type": "display_data"
    },
    {
     "data": {
      "image/png": "[encoded data removed]",
      "text/plain": [
       "<Figure size 504x360 with 1 Axes>"
      ]
     },
     "metadata": {
      "needs_background": "light"
     },
     "output_type": "display_data"
    }
   ],
   "source": [
    "# Sumário da Acurácia\n",
    "plt.figure(figsize=(7,5))\n",
    "plt.plot(history.history['accuracy'])\n",
    "plt.plot(history.history['val_accuracy'])\n",
    "plt.title('Acurácia do Modelo')\n",
    "plt.ylabel('Acurácia')\n",
    "plt.xlabel('Epoch')\n",
    "plt.legend(['Treino', 'Validação'], loc = 'upper left')\n",
    "plt.show()\n",
    "\n",
    "# Loss\n",
    "plt.figure(figsize=(7,5))\n",
    "plt.plot(history.history['loss'])\n",
    "plt.plot(history.history['val_loss'])\n",
    "plt.title('Erro do Modelo')\n",
    "plt.ylabel('Loss')\n",
    "plt.xlabel('Epoch')\n",
    "plt.legend(['Treino', 'Validação'], loc = 'upper left')\n",
    "plt.show()"
   ]
  },
  {
   "cell_type": "code",
   "execution_count": 113,
   "metadata": {},
   "outputs": [
    {
     "name": "stdout",
     "output_type": "stream",
     "text": [
      "[[7742 1760]\n",
      " [2271 7193]]\n"
     ]
    }
   ],
   "source": [
    "# Previsões\n",
    "previsoes_v5 = modelo_v5.predict_classes(X_teste)\n",
    "matriz_v5 = confusion_matrix(Y_teste, previsoes_v5)\n",
    "print(matriz_v5)"
   ]
  },
  {
   "cell_type": "code",
   "execution_count": 114,
   "metadata": {},
   "outputs": [
    {
     "name": "stdout",
     "output_type": "stream",
     "text": [
      "              precision    recall  f1-score   support\n",
      "\n",
      "           0       0.77      0.81      0.79      9502\n",
      "           1       0.80      0.76      0.78      9464\n",
      "\n",
      "    accuracy                           0.79     18966\n",
      "   macro avg       0.79      0.79      0.79     18966\n",
      "weighted avg       0.79      0.79      0.79     18966\n",
      "\n"
     ]
    }
   ],
   "source": [
    "# Relatório de Classificação\n",
    "report = classification_report(Y_teste, previsoes_v5)\n",
    "print(report)"
   ]
  },
  {
   "cell_type": "code",
   "execution_count": 115,
   "metadata": {},
   "outputs": [
    {
     "name": "stdout",
     "output_type": "stream",
     "text": [
      "0.7874069377750789\n"
     ]
    }
   ],
   "source": [
    "# Score AUC\n",
    "print(roc_auc_score(Y_teste, previsoes_v5))"
   ]
  },
  {
   "cell_type": "code",
   "execution_count": 116,
   "metadata": {},
   "outputs": [
    {
     "data": {
      "image/png": "[encoded data removed]",
      "text/plain": [
       "<Figure size 432x288 with 1 Axes>"
      ]
     },
     "metadata": {
      "needs_background": "light"
     },
     "output_type": "display_data"
    }
   ],
   "source": [
    "# Plot das métricas\n",
    "import scikitplot as skplt\n",
    "import matplotlib.pyplot as plt\n",
    "f, (ax1) = plt.subplots(1)\n",
    "\n",
    "# Calcula a Curva ROC para cada classe\n",
    "y_probs_v5 = modelo_v5.predict_proba(X_teste)\n",
    "\n",
    "# Precisamos usar esse procedimento pois o Keras apresenta apenas a probabilidade da classe prevista\n",
    "skplt.metrics.plot_roc(Y_teste, np.concatenate((1 - y_probs_v5, y_probs_v5), axis = 1), ax = ax1)\n",
    "plt.show()"
   ]
  },
  {
   "cell_type": "code",
   "execution_count": 117,
   "metadata": {},
   "outputs": [
    {
     "name": "stdout",
     "output_type": "stream",
     "text": [
      "0.5757125829541148\n"
     ]
    }
   ],
   "source": [
    "# Coeficiente de Correlação de Matthews\n",
    "print(matthews_corrcoef(Y_teste, previsoes_v5))"
   ]
  },
  {
   "cell_type": "markdown",
   "metadata": {},
   "source": [
    "### Comparando os Modelos"
   ]
  },
  {
   "cell_type": "code",
   "execution_count": 118,
   "metadata": {},
   "outputs": [],
   "source": [
    "# Comparando o Score AUC dos modelos\n",
    "\n",
    "# Cria lista vazia\n",
    "lista_auc = []\n",
    "\n",
    "# Calcula o Score AUC para cada modelo\n",
    "auc_modelo_v1 = roc_auc_score(Y_teste, previsoes_v1)\n",
    "auc_modelo_v2 = roc_auc_score(Y_teste, previsoes_v2)\n",
    "auc_modelo_v3 = roc_auc_score(Y_teste, previsoes_v3)\n",
    "auc_modelo_v4 = roc_auc_score(Y_teste, previsoes_v4)\n",
    "auc_modelo_v5 = roc_auc_score(Y_teste, previsoes_v5)\n",
    "\n",
    "# Junta os resultados em uma lista\n",
    "lista_auc = [auc_modelo_v1, auc_modelo_v2, auc_modelo_v3, auc_modelo_v4, auc_modelo_v5]"
   ]
  },
  {
   "cell_type": "code",
   "execution_count": 119,
   "metadata": {},
   "outputs": [],
   "source": [
    "# Comparando o Coeficiente de Correlação de Matthews dos modelos\n",
    "\n",
    "# Cria lista vazia\n",
    "lista_mcorr = []\n",
    "\n",
    "# Calcula o Coeficiente para cada modelo\n",
    "mcorr_v1 = matthews_corrcoef(Y_teste, previsoes_v1)\n",
    "mcorr_v2 = matthews_corrcoef(Y_teste, previsoes_v2)\n",
    "mcorr_v3 = matthews_corrcoef(Y_teste, previsoes_v3)\n",
    "mcorr_v4 = matthews_corrcoef(Y_teste, previsoes_v4)\n",
    "mcorr_v5 = matthews_corrcoef(Y_teste, previsoes_v5)\n",
    "\n",
    "# Junta os resultados em uma lista\n",
    "lista_mcorr = [mcorr_v1, mcorr_v2, mcorr_v3, mcorr_v4, mcorr_v5]"
   ]
  },
  {
   "cell_type": "code",
   "execution_count": 120,
   "metadata": {},
   "outputs": [],
   "source": [
    "# Comparando a Acurácia dos modelos\n",
    "\n",
    "# Cria lista vazia\n",
    "lista_acc = []\n",
    "\n",
    "# Calcula a Acurácia para cada modelo\n",
    "acc_modelo_v1 = accuracy_score(Y_teste, previsoes_v1)\n",
    "acc_modelo_v2 = accuracy_score(Y_teste, previsoes_v2)\n",
    "acc_modelo_v3 = accuracy_score(Y_teste, previsoes_v3)\n",
    "acc_modelo_v4 = accuracy_score(Y_teste, previsoes_v4)\n",
    "acc_modelo_v5 = accuracy_score(Y_teste, previsoes_v5)\n",
    "\n",
    "# Junta os resultados em uma lista\n",
    "lista_acc = [acc_modelo_v1, acc_modelo_v2, acc_modelo_v3, acc_modelo_v4, acc_modelo_v5]"
   ]
  },
  {
   "cell_type": "code",
   "execution_count": 121,
   "metadata": {},
   "outputs": [],
   "source": [
    "# Concatena as 3 listas de métricas em uma única tabela\n",
    "lista_metricas = pd.DataFrame(np.column_stack([lista_auc, lista_mcorr, lista_acc]), \n",
    "                              columns = ['AUC', 'Matthews', 'Acurácia'])\n",
    "\n",
    "# Adiciona uma coluna com os nomes dos modelos\n",
    "lista_metricas['Modelo'] = ['Regressão Logística', 'RandomForest', 'Naive Bayes', 'KNN', 'Deep Learning']"
   ]
  },
  {
   "cell_type": "code",
   "execution_count": 122,
   "metadata": {},
   "outputs": [
    {
     "data": {
      "text/html": [
       "<div>\n",
       "<style scoped>\n",
       "    .dataframe tbody tr th:only-of-type {\n",
       "        vertical-align: middle;\n",
       "    }\n",
       "\n",
       "    .dataframe tbody tr th {\n",
       "        vertical-align: top;\n",
       "    }\n",
       "\n",
       "    .dataframe thead th {\n",
       "        text-align: right;\n",
       "    }\n",
       "</style>\n",
       "<table border=\"1\" class=\"dataframe\">\n",
       "  <thead>\n",
       "    <tr style=\"text-align: right;\">\n",
       "      <th></th>\n",
       "      <th>AUC</th>\n",
       "      <th>Matthews</th>\n",
       "      <th>Acurácia</th>\n",
       "      <th>Modelo</th>\n",
       "    </tr>\n",
       "  </thead>\n",
       "  <tbody>\n",
       "    <tr>\n",
       "      <th>1</th>\n",
       "      <td>0.837095</td>\n",
       "      <td>0.674632</td>\n",
       "      <td>0.837130</td>\n",
       "      <td>RandomForest</td>\n",
       "    </tr>\n",
       "    <tr>\n",
       "      <th>3</th>\n",
       "      <td>0.799756</td>\n",
       "      <td>0.600596</td>\n",
       "      <td>0.799694</td>\n",
       "      <td>KNN</td>\n",
       "    </tr>\n",
       "    <tr>\n",
       "      <th>4</th>\n",
       "      <td>0.787407</td>\n",
       "      <td>0.575713</td>\n",
       "      <td>0.787462</td>\n",
       "      <td>Deep Learning</td>\n",
       "    </tr>\n",
       "    <tr>\n",
       "      <th>0</th>\n",
       "      <td>0.770169</td>\n",
       "      <td>0.543366</td>\n",
       "      <td>0.770273</td>\n",
       "      <td>Regressão Logística</td>\n",
       "    </tr>\n",
       "    <tr>\n",
       "      <th>2</th>\n",
       "      <td>0.731153</td>\n",
       "      <td>0.468049</td>\n",
       "      <td>0.731309</td>\n",
       "      <td>Naive Bayes</td>\n",
       "    </tr>\n",
       "  </tbody>\n",
       "</table>\n",
       "</div>"
      ],
      "text/plain": [
       "        AUC  Matthews  Acurácia               Modelo\n",
       "1  0.837095  0.674632  0.837130         RandomForest\n",
       "3  0.799756  0.600596  0.799694                  KNN\n",
       "4  0.787407  0.575713  0.787462        Deep Learning\n",
       "0  0.770169  0.543366  0.770273  Regressão Logística\n",
       "2  0.731153  0.468049  0.731309          Naive Bayes"
      ]
     },
     "execution_count": 122,
     "metadata": {},
     "output_type": "execute_result"
    }
   ],
   "source": [
    "# Lista as métricas por ordem decrescente do Score AUC\n",
    "lista_metricas.sort_values(by ='AUC', ascending = False)"
   ]
  },
  {
   "cell_type": "markdown",
   "metadata": {},
   "source": [
    "### Preparando a Versão Final do Modelo"
   ]
  },
  {
   "cell_type": "code",
   "execution_count": 123,
   "metadata": {},
   "outputs": [
    {
     "data": {
      "text/plain": [
       "RandomForestClassifier(bootstrap=True, ccp_alpha=0.0, class_weight=None,\n",
       "                       criterion='gini', max_depth=None, max_features='auto',\n",
       "                       max_leaf_nodes=None, max_samples=None,\n",
       "                       min_impurity_decrease=0.0, min_impurity_split=None,\n",
       "                       min_samples_leaf=1, min_samples_split=2,\n",
       "                       min_weight_fraction_leaf=0.0, n_estimators=200,\n",
       "                       n_jobs=None, oob_score=False, random_state=None,\n",
       "                       verbose=0, warm_start=False)"
      ]
     },
     "execution_count": 123,
     "metadata": {},
     "output_type": "execute_result"
    }
   ],
   "source": [
    "# Cria e treina o modelo\n",
    "modelo_final_rf = RandomForestClassifier(n_estimators = 200)\n",
    "modelo_final_rf.fit(X_treino, Y_treino)"
   ]
  },
  {
   "cell_type": "code",
   "execution_count": 124,
   "metadata": {},
   "outputs": [],
   "source": [
    "# Salvando o modelo\n",
    "import pickle\n",
    "filename = 'modelos/modelo_final.sav'\n",
    "pickle.dump(modelo_final_rf, open(filename, 'wb'))"
   ]
  },
  {
   "cell_type": "code",
   "execution_count": 125,
   "metadata": {},
   "outputs": [],
   "source": [
    "# Carregando o Modelo\n",
    "classificador_pacientes = pickle.load(open(filename, 'rb'))"
   ]
  },
  {
   "cell_type": "code",
   "execution_count": 126,
   "metadata": {},
   "outputs": [
    {
     "data": {
      "text/plain": [
       "RandomForestClassifier(bootstrap=True, ccp_alpha=0.0, class_weight=None,\n",
       "                       criterion='gini', max_depth=None, max_features='auto',\n",
       "                       max_leaf_nodes=None, max_samples=None,\n",
       "                       min_impurity_decrease=0.0, min_impurity_split=None,\n",
       "                       min_samples_leaf=1, min_samples_split=2,\n",
       "                       min_weight_fraction_leaf=0.0, n_estimators=200,\n",
       "                       n_jobs=None, oob_score=False, random_state=None,\n",
       "                       verbose=0, warm_start=False)"
      ]
     },
     "execution_count": 126,
     "metadata": {},
     "output_type": "execute_result"
    }
   ],
   "source": [
    "classificador_pacientes"
   ]
  },
  {
   "cell_type": "markdown",
   "metadata": {},
   "source": [
    "### Deploy do Modelo"
   ]
  },
  {
   "cell_type": "markdown",
   "metadata": {},
   "source": [
    "O deploy de um modelo de Machine Learning consiste em entregar os resultados do modelo. Isso pode ser feito manualmente, de forma automatizada, via aplicação web, gerando arquivos csv com as previsões todos os dias à noite e então aliimentando um Dashboard, etc.... Em geral esse trabalho envolve um Engenheiro de Machine Learning e equpes de desenvolvimento."
   ]
  },
  {
   "cell_type": "code",
   "execution_count": 127,
   "metadata": {},
   "outputs": [
    {
     "data": {
      "text/html": [
       "<div>\n",
       "<style scoped>\n",
       "    .dataframe tbody tr th:only-of-type {\n",
       "        vertical-align: middle;\n",
       "    }\n",
       "\n",
       "    .dataframe tbody tr th {\n",
       "        vertical-align: top;\n",
       "    }\n",
       "\n",
       "    .dataframe thead th {\n",
       "        text-align: right;\n",
       "    }\n",
       "</style>\n",
       "<table border=\"1\" class=\"dataframe\">\n",
       "  <thead>\n",
       "    <tr style=\"text-align: right;\">\n",
       "      <th></th>\n",
       "      <th>IDADE</th>\n",
       "      <th>SEXO_F</th>\n",
       "      <th>SEXO_M</th>\n",
       "      <th>ADM_CORRENTE_DIAS</th>\n",
       "      <th>RECEB_MEDICAMENTOS</th>\n",
       "      <th>FEZ_EXAMES</th>\n",
       "      <th>DEPEND_QUIMICO</th>\n",
       "      <th>FUMANTE</th>\n",
       "      <th>ALCOOLISMO</th>\n",
       "      <th>NUM_DIAS_INT_PREVIA</th>\n",
       "      <th>ADM_PREVIA_DIAS</th>\n",
       "      <th>NUM_DIAS_LIC_MEDICA</th>\n",
       "    </tr>\n",
       "  </thead>\n",
       "  <tbody>\n",
       "    <tr>\n",
       "      <th>138614</th>\n",
       "      <td>77.000000</td>\n",
       "      <td>1</td>\n",
       "      <td>0</td>\n",
       "      <td>5</td>\n",
       "      <td>0</td>\n",
       "      <td>0</td>\n",
       "      <td>1</td>\n",
       "      <td>0</td>\n",
       "      <td>0</td>\n",
       "      <td>1</td>\n",
       "      <td>6</td>\n",
       "      <td>0</td>\n",
       "    </tr>\n",
       "    <tr>\n",
       "      <th>120432</th>\n",
       "      <td>58.197334</td>\n",
       "      <td>0</td>\n",
       "      <td>1</td>\n",
       "      <td>1</td>\n",
       "      <td>0</td>\n",
       "      <td>1</td>\n",
       "      <td>0</td>\n",
       "      <td>0</td>\n",
       "      <td>0</td>\n",
       "      <td>23</td>\n",
       "      <td>83</td>\n",
       "      <td>0</td>\n",
       "    </tr>\n",
       "    <tr>\n",
       "      <th>189012</th>\n",
       "      <td>64.841510</td>\n",
       "      <td>0</td>\n",
       "      <td>1</td>\n",
       "      <td>1</td>\n",
       "      <td>0</td>\n",
       "      <td>0</td>\n",
       "      <td>0</td>\n",
       "      <td>0</td>\n",
       "      <td>0</td>\n",
       "      <td>37</td>\n",
       "      <td>57</td>\n",
       "      <td>0</td>\n",
       "    </tr>\n",
       "    <tr>\n",
       "      <th>18712</th>\n",
       "      <td>69.000000</td>\n",
       "      <td>1</td>\n",
       "      <td>0</td>\n",
       "      <td>5</td>\n",
       "      <td>0</td>\n",
       "      <td>0</td>\n",
       "      <td>1</td>\n",
       "      <td>0</td>\n",
       "      <td>0</td>\n",
       "      <td>0</td>\n",
       "      <td>0</td>\n",
       "      <td>0</td>\n",
       "    </tr>\n",
       "    <tr>\n",
       "      <th>160167</th>\n",
       "      <td>60.000000</td>\n",
       "      <td>0</td>\n",
       "      <td>1</td>\n",
       "      <td>1</td>\n",
       "      <td>0</td>\n",
       "      <td>0</td>\n",
       "      <td>0</td>\n",
       "      <td>0</td>\n",
       "      <td>0</td>\n",
       "      <td>8</td>\n",
       "      <td>66</td>\n",
       "      <td>0</td>\n",
       "    </tr>\n",
       "  </tbody>\n",
       "</table>\n",
       "</div>"
      ],
      "text/plain": [
       "            IDADE  SEXO_F  SEXO_M  ADM_CORRENTE_DIAS  RECEB_MEDICAMENTOS  \\\n",
       "138614  77.000000       1       0                  5                   0   \n",
       "120432  58.197334       0       1                  1                   0   \n",
       "189012  64.841510       0       1                  1                   0   \n",
       "18712   69.000000       1       0                  5                   0   \n",
       "160167  60.000000       0       1                  1                   0   \n",
       "\n",
       "        FEZ_EXAMES  DEPEND_QUIMICO  FUMANTE  ALCOOLISMO  NUM_DIAS_INT_PREVIA  \\\n",
       "138614           0               1        0           0                    1   \n",
       "120432           1               0        0           0                   23   \n",
       "189012           0               0        0           0                   37   \n",
       "18712            0               1        0           0                    0   \n",
       "160167           0               0        0           0                    8   \n",
       "\n",
       "        ADM_PREVIA_DIAS  NUM_DIAS_LIC_MEDICA  \n",
       "138614                6                    0  \n",
       "120432               83                    0  \n",
       "189012               57                    0  \n",
       "18712                 0                    0  \n",
       "160167               66                    0  "
      ]
     },
     "execution_count": 127,
     "metadata": {},
     "output_type": "execute_result"
    }
   ],
   "source": [
    "# Os novos dados devem estar no mesmo formato usado nos dados de teste\n",
    "X_teste.head()"
   ]
  },
  {
   "cell_type": "code",
   "execution_count": 128,
   "metadata": {},
   "outputs": [
    {
     "data": {
      "text/plain": [
       "(18966, 12)"
      ]
     },
     "execution_count": 128,
     "metadata": {},
     "output_type": "execute_result"
    }
   ],
   "source": [
    "X_teste.shape"
   ]
  },
  {
   "cell_type": "code",
   "execution_count": 129,
   "metadata": {},
   "outputs": [
    {
     "name": "stdout",
     "output_type": "stream",
     "text": [
      "(12,)\n",
      "[54  1  0  1  0  1  0  0  0  0  0  0]\n"
     ]
    }
   ],
   "source": [
    "# Dados de um novo paciente\n",
    "novo_paciente = np.array([54,1,0,1,0,1,0,0,0,0,0,0])\n",
    "print(novo_paciente.shape)\n",
    "print(novo_paciente)"
   ]
  },
  {
   "cell_type": "code",
   "execution_count": 130,
   "metadata": {},
   "outputs": [
    {
     "name": "stdout",
     "output_type": "stream",
     "text": [
      "(1, 12)\n",
      "[[54  1  0  1  0  1  0  0  0  0  0  0]]\n"
     ]
    }
   ],
   "source": [
    "# Ajustando o shape dos dados para o modelo\n",
    "novo_paciente_reshaped = novo_paciente.reshape(1, -1)\n",
    "print(novo_paciente_reshaped.shape)\n",
    "print(novo_paciente_reshaped)"
   ]
  },
  {
   "cell_type": "code",
   "execution_count": 131,
   "metadata": {},
   "outputs": [
    {
     "name": "stdout",
     "output_type": "stream",
     "text": [
      "\n",
      "O paciente será readmitido na clínica em até 30 dias após a alta?\n",
      "\n",
      "Sim, o paciente deve ser readmitido na clínica em até 30 dias após a alta.\n"
     ]
    }
   ],
   "source": [
    "# Fazendo a previsão\n",
    "print(\"\\nO paciente será readmitido na clínica em até 30 dias após a alta?\")\n",
    "previsao = classificador_pacientes.predict(novo_paciente_reshaped)\n",
    "if previsao == 0:\n",
    "      print(\"\\nNão, o paciente não deve ser readmitido na clínica em até 30 dias após a alta.\")\n",
    "else:\n",
    "      print(\"\\nSim, o paciente deve ser readmitido na clínica em até 30 dias após a alta.\")"
   ]
  },
  {
   "cell_type": "markdown",
   "metadata": {},
   "source": [
    "# Fim"
   ]
  }
 ],
 "metadata": {
  "kernelspec": {
   "display_name": "Python 3",
   "language": "python",
   "name": "python3"
  },
  "language_info": {
   "codemirror_mode": {
    "name": "ipython",
    "version": 3
   },
   "file_extension": ".py",
   "mimetype": "text/x-python",
   "name": "python",
   "nbconvert_exporter": "python",
   "pygments_lexer": "ipython3",
   "version": "3.7.4"
  }
 },
 "nbformat": 4,
 "nbformat_minor": 2
}
